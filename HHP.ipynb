{
 "cells": [
  {
   "cell_type": "code",
   "execution_count": 1,
   "metadata": {},
   "outputs": [
    {
     "name": "stdout",
     "output_type": "stream",
     "text": [
      "Populating the interactive namespace from numpy and matplotlib\n"
     ]
    },
    {
     "name": "stderr",
     "output_type": "stream",
     "text": [
      "/Users/roee/workenv/lib/python2.7/site-packages/IPython/core/magics/pylab.py:161: UserWarning: pylab import has clobbered these variables: ['pylab']\n",
      "`%matplotlib` prevents importing * from pylab and numpy\n",
      "  \"\\n`%matplotlib` prevents importing * from pylab and numpy\"\n"
     ]
    }
   ],
   "source": [
    "# %load my_imports.py\n",
    "import pandas as pd\n",
    "import seaborn as sns\n",
    "import pylab\n",
    "from glob import glob\n",
    "import os\n",
    "\n",
    "params = {'legend.fontsize': 'x-large',\n",
    "#           'figure.figsize': (15, 5),\n",
    "         'axes.labelsize': 'x-large',\n",
    "          'axes.labelweight': 'bold',\n",
    "         'axes.titlesize':'x-large',\n",
    "          'axes.titleweight': 'bold',\n",
    "         'xtick.labelsize':'x-large',\n",
    "         'ytick.labelsize':'x-large'}\n",
    "pylab.rcParams.update(params)\n",
    "\n",
    "%pylab inline"
   ]
  },
  {
   "cell_type": "raw",
   "metadata": {},
   "source": [
    "https://foreverdata.org/1015/content/milestone1-2.pdf\n",
    "https://foreverdata.org/1015/content/milestone2-1.pdf"
   ]
  },
  {
   "cell_type": "code",
   "execution_count": 2,
   "metadata": {
    "collapsed": true
   },
   "outputs": [],
   "source": [
    "fns = glob('/Users/roee/work/heritage/HHP_release3/*')"
   ]
  },
  {
   "cell_type": "code",
   "execution_count": 3,
   "metadata": {},
   "outputs": [
    {
     "data": {
      "text/plain": [
       "['/Users/roee/work/heritage/HHP_release3/Claims.csv',\n",
       " '/Users/roee/work/heritage/HHP_release3/DaysInHospital_Y2.csv',\n",
       " '/Users/roee/work/heritage/HHP_release3/DaysInHospital_Y3.csv',\n",
       " '/Users/roee/work/heritage/HHP_release3/DrugCount.csv',\n",
       " '/Users/roee/work/heritage/HHP_release3/LabCount.csv',\n",
       " '/Users/roee/work/heritage/HHP_release3/Lookup PrimaryConditionGroup.csv',\n",
       " '/Users/roee/work/heritage/HHP_release3/Lookup ProcedureGroup.csv',\n",
       " '/Users/roee/work/heritage/HHP_release3/Members.csv',\n",
       " '/Users/roee/work/heritage/HHP_release3/Target.csv']"
      ]
     },
     "execution_count": 3,
     "metadata": {},
     "output_type": "execute_result"
    }
   ],
   "source": [
    "fns"
   ]
  },
  {
   "cell_type": "code",
   "execution_count": 4,
   "metadata": {},
   "outputs": [],
   "source": [
    "dfs = {os.path.basename(fn)[:-4]: pd.read_csv(fn) for fn in fns}"
   ]
  },
  {
   "cell_type": "code",
   "execution_count": 5,
   "metadata": {},
   "outputs": [
    {
     "name": "stdout",
     "output_type": "stream",
     "text": [
      "Members\n",
      "(113000, 3)\n",
      "MemberID, AgeAtFirstClaim, Sex\n",
      "\n",
      "LabCount\n",
      "(361484, 4)\n",
      "MemberID, Year, DSFS, LabCount\n",
      "\n",
      "Lookup PrimaryConditionGroup\n",
      "(45, 2)\n",
      "PrimaryConditionGroup, Description\n",
      "\n",
      "DrugCount\n",
      "(818241, 4)\n",
      "MemberID, Year, DSFS, DrugCount\n",
      "\n",
      "Claims\n",
      "(2668990, 14)\n",
      "MemberID, ProviderID, Vendor, PCP, Year, Specialty, PlaceSvc, PayDelay, LengthOfStay, DSFS, PrimaryConditionGroup, CharlsonIndex, ProcedureGroup, SupLOS\n",
      "\n",
      "Lookup ProcedureGroup\n",
      "(17, 2)\n",
      "ProcedureGroup, Description\n",
      "\n",
      "DaysInHospital_Y3\n",
      "(71435, 3)\n",
      "MemberID, ClaimsTruncated, DaysInHospital\n",
      "\n",
      "DaysInHospital_Y2\n",
      "(76038, 3)\n",
      "MemberID, ClaimsTruncated, DaysInHospital\n",
      "\n",
      "Target\n",
      "(70942, 3)\n",
      "MemberID, ClaimsTruncated, DaysInHospital\n",
      "\n"
     ]
    }
   ],
   "source": [
    "for name, df in dfs.iteritems():\n",
    "    print name\n",
    "    print df.shape\n",
    "    print ', '.join(df.columns)\n",
    "    print"
   ]
  },
  {
   "cell_type": "code",
   "execution_count": 6,
   "metadata": {},
   "outputs": [
    {
     "data": {
      "text/plain": [
       "0     60706\n",
       "1      4464\n",
       "2      2182\n",
       "3      1429\n",
       "4       842\n",
       "5       528\n",
       "6       287\n",
       "7       218\n",
       "8       143\n",
       "9       115\n",
       "10      103\n",
       "11       65\n",
       "12       62\n",
       "13       50\n",
       "14       23\n",
       "15      218\n",
       "Name: DaysInHospital, dtype: int64"
      ]
     },
     "execution_count": 6,
     "metadata": {},
     "output_type": "execute_result"
    }
   ],
   "source": [
    "dfs['DaysInHospital_Y3'].DaysInHospital.value_counts().sort_index()"
   ]
  },
  {
   "cell_type": "code",
   "execution_count": 7,
   "metadata": {},
   "outputs": [
    {
     "data": {
      "text/plain": [
       "False    60706\n",
       "True     10729\n",
       "Name: DaysInHospital, dtype: int64"
      ]
     },
     "execution_count": 7,
     "metadata": {},
     "output_type": "execute_result"
    }
   ],
   "source": [
    "x = dfs['DaysInHospital_Y3'].DaysInHospital\n",
    "(x > 0).value_counts()"
   ]
  },
  {
   "cell_type": "code",
   "execution_count": 8,
   "metadata": {},
   "outputs": [
    {
     "data": {
      "text/plain": [
       "False    64269\n",
       "True     11769\n",
       "Name: DaysInHospital, dtype: int64"
      ]
     },
     "execution_count": 8,
     "metadata": {},
     "output_type": "execute_result"
    }
   ],
   "source": [
    "x = dfs['DaysInHospital_Y2'].DaysInHospital\n",
    "(x > 0).value_counts()"
   ]
  },
  {
   "cell_type": "code",
   "execution_count": 9,
   "metadata": {
    "scrolled": true
   },
   "outputs": [
    {
     "name": "stdout",
     "output_type": "stream",
     "text": [
      "76038 71435 70942\n",
      "51966 43237 49682\n",
      "39470\n"
     ]
    }
   ],
   "source": [
    "x = set(dfs['DaysInHospital_Y2'].MemberID)\n",
    "y = set(dfs['DaysInHospital_Y3'].MemberID)\n",
    "z = set(dfs['Target'].MemberID)\n",
    "print len(x), len(y), len(z)\n",
    "print len(x.intersection(y)), len(x.intersection(z)), len(y.intersection(z))\n",
    "print len(x.intersection(y).intersection(z))"
   ]
  },
  {
   "cell_type": "raw",
   "metadata": {},
   "source": [
    "Since I don't have the Target (DaysInHospital_Y4), I will try and classify DaysInHospital_Y3.\n",
    "This means that I only have claims from Y1/Y2 and DaysInHospital_Y2 as input."
   ]
  },
  {
   "cell_type": "raw",
   "metadata": {},
   "source": [
    "Since Y3 is the target, I'm going to use only the \"dataset 1\" method in the paper. Namely, each member's data from only the previous year is used, and not both years together.\n",
    "So, during training, I will have Y1's data. During testing I will have Y2 data."
   ]
  },
  {
   "cell_type": "markdown",
   "metadata": {},
   "source": [
    "# Preparing the data"
   ]
  },
  {
   "cell_type": "code",
   "execution_count": 6,
   "metadata": {},
   "outputs": [
    {
     "data": {
      "text/plain": [
       "113000"
      ]
     },
     "execution_count": 6,
     "metadata": {},
     "output_type": "execute_result"
    }
   ],
   "source": [
    "all_members = dfs['Claims'].MemberID.unique()\n",
    "len(all_members)"
   ]
  },
  {
   "cell_type": "code",
   "execution_count": 5,
   "metadata": {
    "collapsed": true
   },
   "outputs": [],
   "source": [
    "all_dfs = {}"
   ]
  },
  {
   "cell_type": "markdown",
   "metadata": {},
   "source": [
    "### 1. Cohort flags"
   ]
  },
  {
   "cell_type": "code",
   "execution_count": 14,
   "metadata": {},
   "outputs": [
    {
     "data": {
      "text/html": [
       "<div>\n",
       "<style>\n",
       "    .dataframe thead tr:only-child th {\n",
       "        text-align: right;\n",
       "    }\n",
       "\n",
       "    .dataframe thead th {\n",
       "        text-align: left;\n",
       "    }\n",
       "\n",
       "    .dataframe tbody tr th {\n",
       "        vertical-align: top;\n",
       "    }\n",
       "</style>\n",
       "<table border=\"1\" class=\"dataframe\">\n",
       "  <thead>\n",
       "    <tr style=\"text-align: right;\">\n",
       "      <th></th>\n",
       "      <th>is_in_y1</th>\n",
       "      <th>is_in_y2</th>\n",
       "      <th>is_in_y3</th>\n",
       "      <th>is_in_y1_y2</th>\n",
       "    </tr>\n",
       "    <tr>\n",
       "      <th>MemberID</th>\n",
       "      <th></th>\n",
       "      <th></th>\n",
       "      <th></th>\n",
       "      <th></th>\n",
       "    </tr>\n",
       "  </thead>\n",
       "  <tbody>\n",
       "    <tr>\n",
       "      <th>42286978</th>\n",
       "      <td>1.0</td>\n",
       "      <td>0.0</td>\n",
       "      <td>0.0</td>\n",
       "      <td>0</td>\n",
       "    </tr>\n",
       "    <tr>\n",
       "      <th>97903248</th>\n",
       "      <td>1.0</td>\n",
       "      <td>1.0</td>\n",
       "      <td>1.0</td>\n",
       "      <td>1</td>\n",
       "    </tr>\n",
       "    <tr>\n",
       "      <th>2759427</th>\n",
       "      <td>1.0</td>\n",
       "      <td>1.0</td>\n",
       "      <td>1.0</td>\n",
       "      <td>1</td>\n",
       "    </tr>\n",
       "    <tr>\n",
       "      <th>73570559</th>\n",
       "      <td>1.0</td>\n",
       "      <td>1.0</td>\n",
       "      <td>1.0</td>\n",
       "      <td>1</td>\n",
       "    </tr>\n",
       "    <tr>\n",
       "      <th>11837054</th>\n",
       "      <td>1.0</td>\n",
       "      <td>1.0</td>\n",
       "      <td>1.0</td>\n",
       "      <td>1</td>\n",
       "    </tr>\n",
       "  </tbody>\n",
       "</table>\n",
       "</div>"
      ],
      "text/plain": [
       "          is_in_y1  is_in_y2  is_in_y3  is_in_y1_y2\n",
       "MemberID                                           \n",
       "42286978       1.0       0.0       0.0            0\n",
       "97903248       1.0       1.0       1.0            1\n",
       "2759427        1.0       1.0       1.0            1\n",
       "73570559       1.0       1.0       1.0            1\n",
       "11837054       1.0       1.0       1.0            1"
      ]
     },
     "execution_count": 14,
     "metadata": {},
     "output_type": "execute_result"
    }
   ],
   "source": [
    "x = dfs['Claims']\n",
    "y = pd.DataFrame(index=all_members)\n",
    "y.index.name = 'MemberID'\n",
    "y.loc[x[x.Year == 'Y1'].MemberID.unique(), 'is_in_y1'] = 1\n",
    "y.loc[x[x.Year == 'Y2'].MemberID.unique(), 'is_in_y2'] = 1\n",
    "y.loc[x[x.Year == 'Y3'].MemberID.unique(), 'is_in_y3'] = 1\n",
    "y = y.fillna(0)\n",
    "y['is_in_y1_y2'] = 1 * ((y['is_in_y1'] == 1) & (y['is_in_y2'] == 1))\n",
    "df_cohort_flags = y\n",
    "all_dfs['cohort_flags'] = y\n",
    "y.head()"
   ]
  },
  {
   "cell_type": "markdown",
   "metadata": {},
   "source": [
    "### 2. Claims Truncated"
   ]
  },
  {
   "cell_type": "code",
   "execution_count": 44,
   "metadata": {},
   "outputs": [],
   "source": [
    "x1 = dfs['DaysInHospital_Y2'].set_index('MemberID').ClaimsTruncated\n",
    "x1.name = 'ClaimsTruncatedY1'\n",
    "x2 = dfs['DaysInHospital_Y3'].set_index('MemberID').ClaimsTruncated\n",
    "x2.name = 'ClaimsTruncatedY2'\n",
    "df_claims_truncated = pd.concat([x1, x2], axis=1)\n",
    "all_dfs['claims_truncated'] = df_claims_truncated"
   ]
  },
  {
   "cell_type": "markdown",
   "metadata": {},
   "source": [
    "### 3. Age and Sex"
   ]
  },
  {
   "cell_type": "code",
   "execution_count": 16,
   "metadata": {},
   "outputs": [
    {
     "data": {
      "text/plain": [
       "40-49    16111\n",
       "70-79    14514\n",
       "50-59    13329\n",
       "60-69    12622\n",
       "30-39    12435\n",
       "10-19    11319\n",
       "0-9      10791\n",
       "20-29     8505\n",
       "80+       7621\n",
       "Name: AgeAtFirstClaim, dtype: int64"
      ]
     },
     "execution_count": 16,
     "metadata": {},
     "output_type": "execute_result"
    }
   ],
   "source": [
    "x = dfs['Members'].set_index('MemberID')\n",
    "x.AgeAtFirstClaim.value_counts()"
   ]
  },
  {
   "cell_type": "code",
   "execution_count": 17,
   "metadata": {},
   "outputs": [
    {
     "data": {
      "text/html": [
       "<div>\n",
       "<style>\n",
       "    .dataframe thead tr:only-child th {\n",
       "        text-align: right;\n",
       "    }\n",
       "\n",
       "    .dataframe thead th {\n",
       "        text-align: left;\n",
       "    }\n",
       "\n",
       "    .dataframe tbody tr th {\n",
       "        vertical-align: top;\n",
       "    }\n",
       "</style>\n",
       "<table border=\"1\" class=\"dataframe\">\n",
       "  <thead>\n",
       "    <tr style=\"text-align: right;\">\n",
       "      <th></th>\n",
       "      <th>age_5</th>\n",
       "      <th>age_15</th>\n",
       "      <th>age_25</th>\n",
       "      <th>age_35</th>\n",
       "      <th>age_45</th>\n",
       "      <th>age_55</th>\n",
       "      <th>age_65</th>\n",
       "      <th>age_75</th>\n",
       "      <th>age_85</th>\n",
       "      <th>age_miss</th>\n",
       "    </tr>\n",
       "    <tr>\n",
       "      <th>MemberID</th>\n",
       "      <th></th>\n",
       "      <th></th>\n",
       "      <th></th>\n",
       "      <th></th>\n",
       "      <th></th>\n",
       "      <th></th>\n",
       "      <th></th>\n",
       "      <th></th>\n",
       "      <th></th>\n",
       "      <th></th>\n",
       "    </tr>\n",
       "  </thead>\n",
       "  <tbody>\n",
       "    <tr>\n",
       "      <th>14723353</th>\n",
       "      <td>0</td>\n",
       "      <td>0</td>\n",
       "      <td>0</td>\n",
       "      <td>0</td>\n",
       "      <td>0</td>\n",
       "      <td>0</td>\n",
       "      <td>0</td>\n",
       "      <td>1</td>\n",
       "      <td>0</td>\n",
       "      <td>0</td>\n",
       "    </tr>\n",
       "    <tr>\n",
       "      <th>75706636</th>\n",
       "      <td>0</td>\n",
       "      <td>0</td>\n",
       "      <td>0</td>\n",
       "      <td>0</td>\n",
       "      <td>0</td>\n",
       "      <td>0</td>\n",
       "      <td>0</td>\n",
       "      <td>1</td>\n",
       "      <td>0</td>\n",
       "      <td>0</td>\n",
       "    </tr>\n",
       "    <tr>\n",
       "      <th>17320609</th>\n",
       "      <td>0</td>\n",
       "      <td>0</td>\n",
       "      <td>0</td>\n",
       "      <td>0</td>\n",
       "      <td>0</td>\n",
       "      <td>0</td>\n",
       "      <td>0</td>\n",
       "      <td>1</td>\n",
       "      <td>0</td>\n",
       "      <td>0</td>\n",
       "    </tr>\n",
       "    <tr>\n",
       "      <th>69690888</th>\n",
       "      <td>0</td>\n",
       "      <td>0</td>\n",
       "      <td>0</td>\n",
       "      <td>0</td>\n",
       "      <td>1</td>\n",
       "      <td>0</td>\n",
       "      <td>0</td>\n",
       "      <td>0</td>\n",
       "      <td>0</td>\n",
       "      <td>0</td>\n",
       "    </tr>\n",
       "    <tr>\n",
       "      <th>33004608</th>\n",
       "      <td>1</td>\n",
       "      <td>0</td>\n",
       "      <td>0</td>\n",
       "      <td>0</td>\n",
       "      <td>0</td>\n",
       "      <td>0</td>\n",
       "      <td>0</td>\n",
       "      <td>0</td>\n",
       "      <td>0</td>\n",
       "      <td>0</td>\n",
       "    </tr>\n",
       "  </tbody>\n",
       "</table>\n",
       "</div>"
      ],
      "text/plain": [
       "          age_5  age_15  age_25  age_35  age_45  age_55  age_65  age_75  \\\n",
       "MemberID                                                                  \n",
       "14723353      0       0       0       0       0       0       0       1   \n",
       "75706636      0       0       0       0       0       0       0       1   \n",
       "17320609      0       0       0       0       0       0       0       1   \n",
       "69690888      0       0       0       0       1       0       0       0   \n",
       "33004608      1       0       0       0       0       0       0       0   \n",
       "\n",
       "          age_85  age_miss  \n",
       "MemberID                    \n",
       "14723353       0         0  \n",
       "75706636       0         0  \n",
       "17320609       0         0  \n",
       "69690888       0         0  \n",
       "33004608       0         0  "
      ]
     },
     "execution_count": 17,
     "metadata": {},
     "output_type": "execute_result"
    }
   ],
   "source": [
    "def foo(c):\n",
    "    if c == '80+':\n",
    "        return 'age_85'\n",
    "    a, b = c.split('-')\n",
    "    return 'age_{}'.format(int((int(a) + int(b) + 1) / 2))\n",
    "df_age = pd.get_dummies(x.AgeAtFirstClaim)\n",
    "df_age = df_age.rename(columns={c: foo(c) for c in df_age.columns})\n",
    "df_age['age_miss'] = (~df_age.any(axis=1)).astype('int')\n",
    "all_dfs['age'] = df_age\n",
    "df_age.head()"
   ]
  },
  {
   "cell_type": "code",
   "execution_count": 18,
   "metadata": {},
   "outputs": [
    {
     "data": {
      "text/plain": [
       "0    107247\n",
       "1      5753\n",
       "Name: age_miss, dtype: int64"
      ]
     },
     "execution_count": 18,
     "metadata": {},
     "output_type": "execute_result"
    }
   ],
   "source": [
    "df_age.age_miss.value_counts()"
   ]
  },
  {
   "cell_type": "code",
   "execution_count": 19,
   "metadata": {},
   "outputs": [
    {
     "data": {
      "text/html": [
       "<div>\n",
       "<style>\n",
       "    .dataframe thead tr:only-child th {\n",
       "        text-align: right;\n",
       "    }\n",
       "\n",
       "    .dataframe thead th {\n",
       "        text-align: left;\n",
       "    }\n",
       "\n",
       "    .dataframe tbody tr th {\n",
       "        vertical-align: top;\n",
       "    }\n",
       "</style>\n",
       "<table border=\"1\" class=\"dataframe\">\n",
       "  <thead>\n",
       "    <tr style=\"text-align: right;\">\n",
       "      <th></th>\n",
       "      <th>sex_F</th>\n",
       "      <th>sex_M</th>\n",
       "      <th>sex_miss</th>\n",
       "    </tr>\n",
       "    <tr>\n",
       "      <th>MemberID</th>\n",
       "      <th></th>\n",
       "      <th></th>\n",
       "      <th></th>\n",
       "    </tr>\n",
       "  </thead>\n",
       "  <tbody>\n",
       "    <tr>\n",
       "      <th>14723353</th>\n",
       "      <td>0</td>\n",
       "      <td>1</td>\n",
       "      <td>0</td>\n",
       "    </tr>\n",
       "    <tr>\n",
       "      <th>75706636</th>\n",
       "      <td>0</td>\n",
       "      <td>1</td>\n",
       "      <td>0</td>\n",
       "    </tr>\n",
       "    <tr>\n",
       "      <th>17320609</th>\n",
       "      <td>0</td>\n",
       "      <td>1</td>\n",
       "      <td>0</td>\n",
       "    </tr>\n",
       "    <tr>\n",
       "      <th>69690888</th>\n",
       "      <td>0</td>\n",
       "      <td>1</td>\n",
       "      <td>0</td>\n",
       "    </tr>\n",
       "    <tr>\n",
       "      <th>33004608</th>\n",
       "      <td>0</td>\n",
       "      <td>1</td>\n",
       "      <td>0</td>\n",
       "    </tr>\n",
       "  </tbody>\n",
       "</table>\n",
       "</div>"
      ],
      "text/plain": [
       "          sex_F  sex_M  sex_miss\n",
       "MemberID                        \n",
       "14723353      0      1         0\n",
       "75706636      0      1         0\n",
       "17320609      0      1         0\n",
       "69690888      0      1         0\n",
       "33004608      0      1         0"
      ]
     },
     "execution_count": 19,
     "metadata": {},
     "output_type": "execute_result"
    }
   ],
   "source": [
    "df_sex = pd.get_dummies(x.Sex)\n",
    "df_sex = df_sex.rename(columns={c: 'sex_' + c for c in df_sex.columns})\n",
    "df_sex['sex_miss'] = (~df_sex.any(axis=1)).astype('int')\n",
    "all_dfs['sex'] = df_sex\n",
    "df_sex.head()"
   ]
  },
  {
   "cell_type": "markdown",
   "metadata": {},
   "source": [
    "### 4. Numbers of claims, providers, etc."
   ]
  },
  {
   "cell_type": "code",
   "execution_count": 20,
   "metadata": {},
   "outputs": [
    {
     "data": {
      "text/html": [
       "<div>\n",
       "<style>\n",
       "    .dataframe thead tr:only-child th {\n",
       "        text-align: right;\n",
       "    }\n",
       "\n",
       "    .dataframe thead th {\n",
       "        text-align: left;\n",
       "    }\n",
       "\n",
       "    .dataframe tbody tr th {\n",
       "        vertical-align: top;\n",
       "    }\n",
       "</style>\n",
       "<table border=\"1\" class=\"dataframe\">\n",
       "  <thead>\n",
       "    <tr style=\"text-align: right;\">\n",
       "      <th></th>\n",
       "      <th>n_ProviderID_Y1</th>\n",
       "      <th>n_Vendor_Y1</th>\n",
       "      <th>n_PCP_Y1</th>\n",
       "      <th>n_Specialty_Y1</th>\n",
       "      <th>n_PlaceSvc_Y1</th>\n",
       "      <th>n_PrimaryConditionGroup_Y1</th>\n",
       "      <th>n_ProcedureGroup_Y1</th>\n",
       "      <th>n_ProviderID_Y2</th>\n",
       "      <th>n_Vendor_Y2</th>\n",
       "      <th>n_PCP_Y2</th>\n",
       "      <th>n_Specialty_Y2</th>\n",
       "      <th>n_PlaceSvc_Y2</th>\n",
       "      <th>n_PrimaryConditionGroup_Y2</th>\n",
       "      <th>n_ProcedureGroup_Y2</th>\n",
       "    </tr>\n",
       "  </thead>\n",
       "  <tbody>\n",
       "    <tr>\n",
       "      <th>42286978</th>\n",
       "      <td>8.0</td>\n",
       "      <td>8.0</td>\n",
       "      <td>1.0</td>\n",
       "      <td>5.0</td>\n",
       "      <td>3.0</td>\n",
       "      <td>8.0</td>\n",
       "      <td>5.0</td>\n",
       "      <td>NaN</td>\n",
       "      <td>NaN</td>\n",
       "      <td>NaN</td>\n",
       "      <td>NaN</td>\n",
       "      <td>NaN</td>\n",
       "      <td>NaN</td>\n",
       "      <td>NaN</td>\n",
       "    </tr>\n",
       "    <tr>\n",
       "      <th>97903248</th>\n",
       "      <td>3.0</td>\n",
       "      <td>3.0</td>\n",
       "      <td>1.0</td>\n",
       "      <td>3.0</td>\n",
       "      <td>2.0</td>\n",
       "      <td>4.0</td>\n",
       "      <td>3.0</td>\n",
       "      <td>10.0</td>\n",
       "      <td>9.0</td>\n",
       "      <td>1.0</td>\n",
       "      <td>6.0</td>\n",
       "      <td>5.0</td>\n",
       "      <td>7.0</td>\n",
       "      <td>6.0</td>\n",
       "    </tr>\n",
       "    <tr>\n",
       "      <th>2759427</th>\n",
       "      <td>2.0</td>\n",
       "      <td>2.0</td>\n",
       "      <td>1.0</td>\n",
       "      <td>2.0</td>\n",
       "      <td>2.0</td>\n",
       "      <td>1.0</td>\n",
       "      <td>3.0</td>\n",
       "      <td>1.0</td>\n",
       "      <td>1.0</td>\n",
       "      <td>1.0</td>\n",
       "      <td>1.0</td>\n",
       "      <td>1.0</td>\n",
       "      <td>1.0</td>\n",
       "      <td>1.0</td>\n",
       "    </tr>\n",
       "    <tr>\n",
       "      <th>73570559</th>\n",
       "      <td>7.0</td>\n",
       "      <td>6.0</td>\n",
       "      <td>1.0</td>\n",
       "      <td>5.0</td>\n",
       "      <td>3.0</td>\n",
       "      <td>4.0</td>\n",
       "      <td>6.0</td>\n",
       "      <td>3.0</td>\n",
       "      <td>3.0</td>\n",
       "      <td>1.0</td>\n",
       "      <td>3.0</td>\n",
       "      <td>2.0</td>\n",
       "      <td>2.0</td>\n",
       "      <td>4.0</td>\n",
       "    </tr>\n",
       "    <tr>\n",
       "      <th>11837054</th>\n",
       "      <td>6.0</td>\n",
       "      <td>4.0</td>\n",
       "      <td>1.0</td>\n",
       "      <td>4.0</td>\n",
       "      <td>2.0</td>\n",
       "      <td>7.0</td>\n",
       "      <td>6.0</td>\n",
       "      <td>7.0</td>\n",
       "      <td>6.0</td>\n",
       "      <td>1.0</td>\n",
       "      <td>6.0</td>\n",
       "      <td>3.0</td>\n",
       "      <td>7.0</td>\n",
       "      <td>5.0</td>\n",
       "    </tr>\n",
       "  </tbody>\n",
       "</table>\n",
       "</div>"
      ],
      "text/plain": [
       "          n_ProviderID_Y1  n_Vendor_Y1  n_PCP_Y1  n_Specialty_Y1  \\\n",
       "42286978              8.0          8.0       1.0             5.0   \n",
       "97903248              3.0          3.0       1.0             3.0   \n",
       "2759427               2.0          2.0       1.0             2.0   \n",
       "73570559              7.0          6.0       1.0             5.0   \n",
       "11837054              6.0          4.0       1.0             4.0   \n",
       "\n",
       "          n_PlaceSvc_Y1  n_PrimaryConditionGroup_Y1  n_ProcedureGroup_Y1  \\\n",
       "42286978            3.0                         8.0                  5.0   \n",
       "97903248            2.0                         4.0                  3.0   \n",
       "2759427             2.0                         1.0                  3.0   \n",
       "73570559            3.0                         4.0                  6.0   \n",
       "11837054            2.0                         7.0                  6.0   \n",
       "\n",
       "          n_ProviderID_Y2  n_Vendor_Y2  n_PCP_Y2  n_Specialty_Y2  \\\n",
       "42286978              NaN          NaN       NaN             NaN   \n",
       "97903248             10.0          9.0       1.0             6.0   \n",
       "2759427               1.0          1.0       1.0             1.0   \n",
       "73570559              3.0          3.0       1.0             3.0   \n",
       "11837054              7.0          6.0       1.0             6.0   \n",
       "\n",
       "          n_PlaceSvc_Y2  n_PrimaryConditionGroup_Y2  n_ProcedureGroup_Y2  \n",
       "42286978            NaN                         NaN                  NaN  \n",
       "97903248            5.0                         7.0                  6.0  \n",
       "2759427             1.0                         1.0                  1.0  \n",
       "73570559            2.0                         2.0                  4.0  \n",
       "11837054            3.0                         7.0                  5.0  "
      ]
     },
     "execution_count": 20,
     "metadata": {},
     "output_type": "execute_result"
    }
   ],
   "source": [
    "x = dfs['Claims']\n",
    "y = pd.DataFrame(index=all_members)\n",
    "for year in ['Y1', 'Y2']:\n",
    "    g = x[x.Year == year].groupby('MemberID')\n",
    "    for column in ['ProviderID', 'Vendor', 'PCP', 'Specialty', 'PlaceSvc', 'PrimaryConditionGroup', 'ProcedureGroup']:\n",
    "        y['n_{}_{}'.format(column, year)] = g[column].nunique()\n",
    "y.head()"
   ]
  },
  {
   "cell_type": "code",
   "execution_count": 21,
   "metadata": {},
   "outputs": [],
   "source": [
    "df_numbers = y\n",
    "all_dfs['counts'] = y"
   ]
  },
  {
   "cell_type": "markdown",
   "metadata": {},
   "source": [
    "### 5. Length of stay"
   ]
  },
  {
   "cell_type": "code",
   "execution_count": 22,
   "metadata": {
    "collapsed": true
   },
   "outputs": [],
   "source": [
    "los_map = {'1 day': 1,\n",
    "           '2 days': 2,\n",
    "           '3 days': 3,\n",
    "           '4 days': 4,\n",
    "           '5 days': 5,\n",
    "           '6 days': 6,\n",
    "           '1- 2 weeks': 11,\n",
    "           '2- 4 weeks': 21,\n",
    "           '4- 8 weeks': 42,\n",
    "           '26+ weeks': 180}"
   ]
  },
  {
   "cell_type": "code",
   "execution_count": 23,
   "metadata": {},
   "outputs": [
    {
     "data": {
      "text/html": [
       "<div>\n",
       "<style>\n",
       "    .dataframe thead tr:only-child th {\n",
       "        text-align: right;\n",
       "    }\n",
       "\n",
       "    .dataframe thead th {\n",
       "        text-align: left;\n",
       "    }\n",
       "\n",
       "    .dataframe tbody tr th {\n",
       "        vertical-align: top;\n",
       "    }\n",
       "</style>\n",
       "<table border=\"1\" class=\"dataframe\">\n",
       "  <thead>\n",
       "    <tr style=\"text-align: right;\">\n",
       "      <th></th>\n",
       "      <th>MemberID</th>\n",
       "      <th>ProviderID</th>\n",
       "      <th>Vendor</th>\n",
       "      <th>PCP</th>\n",
       "      <th>Year</th>\n",
       "      <th>Specialty</th>\n",
       "      <th>PlaceSvc</th>\n",
       "      <th>PayDelay</th>\n",
       "      <th>LengthOfStay</th>\n",
       "      <th>DSFS</th>\n",
       "      <th>PrimaryConditionGroup</th>\n",
       "      <th>CharlsonIndex</th>\n",
       "      <th>ProcedureGroup</th>\n",
       "      <th>SupLOS</th>\n",
       "    </tr>\n",
       "  </thead>\n",
       "  <tbody>\n",
       "    <tr>\n",
       "      <th>0</th>\n",
       "      <td>42286978</td>\n",
       "      <td>8013252.0</td>\n",
       "      <td>172193.0</td>\n",
       "      <td>37796.0</td>\n",
       "      <td>Y1</td>\n",
       "      <td>Surgery</td>\n",
       "      <td>Office</td>\n",
       "      <td>28</td>\n",
       "      <td>NaN</td>\n",
       "      <td>8- 9 months</td>\n",
       "      <td>NEUMENT</td>\n",
       "      <td>0</td>\n",
       "      <td>MED</td>\n",
       "      <td>0</td>\n",
       "    </tr>\n",
       "    <tr>\n",
       "      <th>1</th>\n",
       "      <td>97903248</td>\n",
       "      <td>3316066.0</td>\n",
       "      <td>726296.0</td>\n",
       "      <td>5300.0</td>\n",
       "      <td>Y3</td>\n",
       "      <td>Internal</td>\n",
       "      <td>Office</td>\n",
       "      <td>50</td>\n",
       "      <td>NaN</td>\n",
       "      <td>7- 8 months</td>\n",
       "      <td>NEUMENT</td>\n",
       "      <td>1-2</td>\n",
       "      <td>EM</td>\n",
       "      <td>0</td>\n",
       "    </tr>\n",
       "    <tr>\n",
       "      <th>2</th>\n",
       "      <td>2759427</td>\n",
       "      <td>2997752.0</td>\n",
       "      <td>140343.0</td>\n",
       "      <td>91972.0</td>\n",
       "      <td>Y3</td>\n",
       "      <td>Internal</td>\n",
       "      <td>Office</td>\n",
       "      <td>14</td>\n",
       "      <td>NaN</td>\n",
       "      <td>0- 1 month</td>\n",
       "      <td>METAB3</td>\n",
       "      <td>0</td>\n",
       "      <td>EM</td>\n",
       "      <td>0</td>\n",
       "    </tr>\n",
       "    <tr>\n",
       "      <th>3</th>\n",
       "      <td>73570559</td>\n",
       "      <td>7053364.0</td>\n",
       "      <td>240043.0</td>\n",
       "      <td>70119.0</td>\n",
       "      <td>Y3</td>\n",
       "      <td>Laboratory</td>\n",
       "      <td>Independent Lab</td>\n",
       "      <td>24</td>\n",
       "      <td>NaN</td>\n",
       "      <td>5- 6 months</td>\n",
       "      <td>METAB3</td>\n",
       "      <td>1-2</td>\n",
       "      <td>SCS</td>\n",
       "      <td>0</td>\n",
       "    </tr>\n",
       "    <tr>\n",
       "      <th>4</th>\n",
       "      <td>11837054</td>\n",
       "      <td>7557061.0</td>\n",
       "      <td>496247.0</td>\n",
       "      <td>68968.0</td>\n",
       "      <td>Y2</td>\n",
       "      <td>Surgery</td>\n",
       "      <td>Outpatient Hospital</td>\n",
       "      <td>27</td>\n",
       "      <td>NaN</td>\n",
       "      <td>4- 5 months</td>\n",
       "      <td>FXDISLC</td>\n",
       "      <td>1-2</td>\n",
       "      <td>EM</td>\n",
       "      <td>0</td>\n",
       "    </tr>\n",
       "  </tbody>\n",
       "</table>\n",
       "</div>"
      ],
      "text/plain": [
       "   MemberID  ProviderID    Vendor      PCP Year   Specialty  \\\n",
       "0  42286978   8013252.0  172193.0  37796.0   Y1     Surgery   \n",
       "1  97903248   3316066.0  726296.0   5300.0   Y3    Internal   \n",
       "2   2759427   2997752.0  140343.0  91972.0   Y3    Internal   \n",
       "3  73570559   7053364.0  240043.0  70119.0   Y3  Laboratory   \n",
       "4  11837054   7557061.0  496247.0  68968.0   Y2     Surgery   \n",
       "\n",
       "              PlaceSvc PayDelay LengthOfStay         DSFS  \\\n",
       "0               Office       28          NaN  8- 9 months   \n",
       "1               Office       50          NaN  7- 8 months   \n",
       "2               Office       14          NaN   0- 1 month   \n",
       "3      Independent Lab       24          NaN  5- 6 months   \n",
       "4  Outpatient Hospital       27          NaN  4- 5 months   \n",
       "\n",
       "  PrimaryConditionGroup CharlsonIndex ProcedureGroup  SupLOS  \n",
       "0               NEUMENT             0            MED       0  \n",
       "1               NEUMENT           1-2             EM       0  \n",
       "2                METAB3             0             EM       0  \n",
       "3                METAB3           1-2            SCS       0  \n",
       "4               FXDISLC           1-2             EM       0  "
      ]
     },
     "execution_count": 23,
     "metadata": {},
     "output_type": "execute_result"
    }
   ],
   "source": [
    "x.head()"
   ]
  },
  {
   "cell_type": "code",
   "execution_count": 24,
   "metadata": {},
   "outputs": [],
   "source": [
    "x = dfs['Claims']\n",
    "y = pd.DataFrame(index=all_members)\n",
    "x['los_int'] = x.LengthOfStay.map(los_map)\n",
    "x['los_unknown'] = (x.los_int.isnull()) & (x.SupLOS == 0)\n",
    "x['los_suppressed'] = (x.los_int.isnull()) & (x.SupLOS == 1)\n",
    "x['los_known'] = (~x.los_int.isnull())\n",
    "for year in ['Y1', 'Y2']:\n",
    "    x_this_year = x[x.Year == year]\n",
    "    g_known = x_this_year[~x_this_year.los_int.isnull()].groupby('MemberID').los_int\n",
    "    y['LOS_max_' + year] = g_known.max()\n",
    "    y['LOS_min_' + year] = g_known.min()\n",
    "    y['LOS_std_' + year] = g_known.std()\n",
    "    y['LOS_mean_' + year] = g_known.mean()\n",
    "\n",
    "    g = x_this_year.groupby('MemberID')\n",
    "    y['LOS_TOT_UNKNOWN_' + year] = g.los_unknown.sum()\n",
    "    y['LOS_TOT_KNOWN_' + year] = g.los_known.sum()\n",
    "    y['LOS_TOT_SUPPRESSED_' + year] = g.los_suppressed.sum()"
   ]
  },
  {
   "cell_type": "code",
   "execution_count": 25,
   "metadata": {
    "collapsed": true
   },
   "outputs": [],
   "source": [
    "df_los = y\n",
    "all_dfs['los'] = df_los"
   ]
  },
  {
   "cell_type": "markdown",
   "metadata": {},
   "source": [
    "### 6. Charlson and days since first service"
   ]
  },
  {
   "cell_type": "code",
   "execution_count": 26,
   "metadata": {},
   "outputs": [
    {
     "data": {
      "text/plain": [
       "0- 1 month      707721\n",
       "1- 2 months     247343\n",
       "2- 3 months     225216\n",
       "3- 4 months     212214\n",
       "5- 6 months     192000\n",
       "4- 5 months     189001\n",
       "6- 7 months     180662\n",
       "7- 8 months     175191\n",
       "8- 9 months     171878\n",
       "9-10 months     151527\n",
       "10-11 months    116328\n",
       "11-12 months     47139\n",
       "Name: DSFS, dtype: int64"
      ]
     },
     "execution_count": 26,
     "metadata": {},
     "output_type": "execute_result"
    }
   ],
   "source": [
    "x.DSFS.value_counts()"
   ]
  },
  {
   "cell_type": "code",
   "execution_count": 27,
   "metadata": {},
   "outputs": [],
   "source": [
    "x['dsfs_int'] = x[~x.DSFS.isnull()].DSFS.apply(lambda a:int(a.split('-')[0]) + 1)"
   ]
  },
  {
   "cell_type": "code",
   "execution_count": 28,
   "metadata": {},
   "outputs": [
    {
     "data": {
      "text/plain": [
       "1.0     707721\n",
       "2.0     247343\n",
       "3.0     225216\n",
       "4.0     212214\n",
       "6.0     192000\n",
       "5.0     189001\n",
       "7.0     180662\n",
       "8.0     175191\n",
       "9.0     171878\n",
       "10.0    151527\n",
       "11.0    116328\n",
       "12.0     47139\n",
       "Name: dsfs_int, dtype: int64"
      ]
     },
     "execution_count": 28,
     "metadata": {},
     "output_type": "execute_result"
    }
   ],
   "source": [
    "x.dsfs_int.value_counts()"
   ]
  },
  {
   "cell_type": "code",
   "execution_count": 29,
   "metadata": {},
   "outputs": [
    {
     "data": {
      "text/plain": [
       "0      1356995\n",
       "1-2    1256527\n",
       "3-4      49479\n",
       "5+        5989\n",
       "Name: CharlsonIndex, dtype: int64"
      ]
     },
     "execution_count": 29,
     "metadata": {},
     "output_type": "execute_result"
    }
   ],
   "source": [
    "x.CharlsonIndex.value_counts()"
   ]
  },
  {
   "cell_type": "code",
   "execution_count": 30,
   "metadata": {},
   "outputs": [],
   "source": [
    "x['charlson_int'] = x.CharlsonIndex.map({'0': 0, '1-2': 2, '3-4': 4, '5+': 6})"
   ]
  },
  {
   "cell_type": "code",
   "execution_count": 31,
   "metadata": {},
   "outputs": [
    {
     "data": {
      "text/plain": [
       "0    1356995\n",
       "2    1256527\n",
       "4      49479\n",
       "6       5989\n",
       "Name: charlson_int, dtype: int64"
      ]
     },
     "execution_count": 31,
     "metadata": {},
     "output_type": "execute_result"
    }
   ],
   "source": [
    "x.charlson_int.value_counts()"
   ]
  },
  {
   "cell_type": "code",
   "execution_count": 32,
   "metadata": {},
   "outputs": [
    {
     "data": {
      "text/html": [
       "<div>\n",
       "<style>\n",
       "    .dataframe thead tr:only-child th {\n",
       "        text-align: right;\n",
       "    }\n",
       "\n",
       "    .dataframe thead th {\n",
       "        text-align: left;\n",
       "    }\n",
       "\n",
       "    .dataframe tbody tr th {\n",
       "        vertical-align: top;\n",
       "    }\n",
       "</style>\n",
       "<table border=\"1\" class=\"dataframe\">\n",
       "  <thead>\n",
       "    <tr style=\"text-align: right;\">\n",
       "      <th></th>\n",
       "      <th>dsfs_max_Y1</th>\n",
       "      <th>dsfs_min_Y1</th>\n",
       "      <th>dsfs_avg_Y1</th>\n",
       "      <th>dsfs_std_Y1</th>\n",
       "      <th>dsfs_range_Y1</th>\n",
       "      <th>dsfs_max_Y2</th>\n",
       "      <th>dsfs_min_Y2</th>\n",
       "      <th>dsfs_avg_Y2</th>\n",
       "      <th>dsfs_std_Y2</th>\n",
       "      <th>dsfs_range_Y2</th>\n",
       "      <th>charlson_max_Y1</th>\n",
       "      <th>charlson_min_Y1</th>\n",
       "      <th>charlson_avg_Y1</th>\n",
       "      <th>charlson_std_Y1</th>\n",
       "      <th>charlson_range_Y1</th>\n",
       "      <th>charlson_max_Y2</th>\n",
       "      <th>charlson_min_Y2</th>\n",
       "      <th>charlson_avg_Y2</th>\n",
       "      <th>charlson_std_Y2</th>\n",
       "      <th>charlson_range_Y2</th>\n",
       "    </tr>\n",
       "  </thead>\n",
       "  <tbody>\n",
       "    <tr>\n",
       "      <th>42286978</th>\n",
       "      <td>11.0</td>\n",
       "      <td>1.0</td>\n",
       "      <td>6.666667</td>\n",
       "      <td>3.961940</td>\n",
       "      <td>10.0</td>\n",
       "      <td>NaN</td>\n",
       "      <td>NaN</td>\n",
       "      <td>NaN</td>\n",
       "      <td>NaN</td>\n",
       "      <td>NaN</td>\n",
       "      <td>0.0</td>\n",
       "      <td>0.0</td>\n",
       "      <td>0.0</td>\n",
       "      <td>0.000000</td>\n",
       "      <td>0.0</td>\n",
       "      <td>NaN</td>\n",
       "      <td>NaN</td>\n",
       "      <td>NaN</td>\n",
       "      <td>NaN</td>\n",
       "      <td>NaN</td>\n",
       "    </tr>\n",
       "    <tr>\n",
       "      <th>97903248</th>\n",
       "      <td>9.0</td>\n",
       "      <td>1.0</td>\n",
       "      <td>4.666667</td>\n",
       "      <td>3.102126</td>\n",
       "      <td>8.0</td>\n",
       "      <td>11.0</td>\n",
       "      <td>1.0</td>\n",
       "      <td>6.000000</td>\n",
       "      <td>3.008759</td>\n",
       "      <td>10.0</td>\n",
       "      <td>0.0</td>\n",
       "      <td>0.0</td>\n",
       "      <td>0.0</td>\n",
       "      <td>0.000000</td>\n",
       "      <td>0.0</td>\n",
       "      <td>0.0</td>\n",
       "      <td>0.0</td>\n",
       "      <td>0.0</td>\n",
       "      <td>0.0</td>\n",
       "      <td>0.0</td>\n",
       "    </tr>\n",
       "    <tr>\n",
       "      <th>2759427</th>\n",
       "      <td>1.0</td>\n",
       "      <td>1.0</td>\n",
       "      <td>1.000000</td>\n",
       "      <td>0.000000</td>\n",
       "      <td>0.0</td>\n",
       "      <td>1.0</td>\n",
       "      <td>1.0</td>\n",
       "      <td>1.000000</td>\n",
       "      <td>NaN</td>\n",
       "      <td>0.0</td>\n",
       "      <td>0.0</td>\n",
       "      <td>0.0</td>\n",
       "      <td>0.0</td>\n",
       "      <td>0.000000</td>\n",
       "      <td>0.0</td>\n",
       "      <td>0.0</td>\n",
       "      <td>0.0</td>\n",
       "      <td>0.0</td>\n",
       "      <td>NaN</td>\n",
       "      <td>0.0</td>\n",
       "    </tr>\n",
       "    <tr>\n",
       "      <th>73570559</th>\n",
       "      <td>9.0</td>\n",
       "      <td>1.0</td>\n",
       "      <td>4.350000</td>\n",
       "      <td>2.960708</td>\n",
       "      <td>8.0</td>\n",
       "      <td>9.0</td>\n",
       "      <td>1.0</td>\n",
       "      <td>6.800000</td>\n",
       "      <td>3.271085</td>\n",
       "      <td>8.0</td>\n",
       "      <td>2.0</td>\n",
       "      <td>0.0</td>\n",
       "      <td>1.5</td>\n",
       "      <td>0.888523</td>\n",
       "      <td>2.0</td>\n",
       "      <td>2.0</td>\n",
       "      <td>2.0</td>\n",
       "      <td>2.0</td>\n",
       "      <td>0.0</td>\n",
       "      <td>0.0</td>\n",
       "    </tr>\n",
       "    <tr>\n",
       "      <th>11837054</th>\n",
       "      <td>11.0</td>\n",
       "      <td>1.0</td>\n",
       "      <td>4.782609</td>\n",
       "      <td>2.645004</td>\n",
       "      <td>10.0</td>\n",
       "      <td>12.0</td>\n",
       "      <td>1.0</td>\n",
       "      <td>5.860465</td>\n",
       "      <td>2.578126</td>\n",
       "      <td>11.0</td>\n",
       "      <td>2.0</td>\n",
       "      <td>2.0</td>\n",
       "      <td>2.0</td>\n",
       "      <td>0.000000</td>\n",
       "      <td>0.0</td>\n",
       "      <td>2.0</td>\n",
       "      <td>2.0</td>\n",
       "      <td>2.0</td>\n",
       "      <td>0.0</td>\n",
       "      <td>0.0</td>\n",
       "    </tr>\n",
       "  </tbody>\n",
       "</table>\n",
       "</div>"
      ],
      "text/plain": [
       "          dsfs_max_Y1  dsfs_min_Y1  dsfs_avg_Y1  dsfs_std_Y1  dsfs_range_Y1  \\\n",
       "42286978         11.0          1.0     6.666667     3.961940           10.0   \n",
       "97903248          9.0          1.0     4.666667     3.102126            8.0   \n",
       "2759427           1.0          1.0     1.000000     0.000000            0.0   \n",
       "73570559          9.0          1.0     4.350000     2.960708            8.0   \n",
       "11837054         11.0          1.0     4.782609     2.645004           10.0   \n",
       "\n",
       "          dsfs_max_Y2  dsfs_min_Y2  dsfs_avg_Y2  dsfs_std_Y2  dsfs_range_Y2  \\\n",
       "42286978          NaN          NaN          NaN          NaN            NaN   \n",
       "97903248         11.0          1.0     6.000000     3.008759           10.0   \n",
       "2759427           1.0          1.0     1.000000          NaN            0.0   \n",
       "73570559          9.0          1.0     6.800000     3.271085            8.0   \n",
       "11837054         12.0          1.0     5.860465     2.578126           11.0   \n",
       "\n",
       "          charlson_max_Y1  charlson_min_Y1  charlson_avg_Y1  charlson_std_Y1  \\\n",
       "42286978              0.0              0.0              0.0         0.000000   \n",
       "97903248              0.0              0.0              0.0         0.000000   \n",
       "2759427               0.0              0.0              0.0         0.000000   \n",
       "73570559              2.0              0.0              1.5         0.888523   \n",
       "11837054              2.0              2.0              2.0         0.000000   \n",
       "\n",
       "          charlson_range_Y1  charlson_max_Y2  charlson_min_Y2  \\\n",
       "42286978                0.0              NaN              NaN   \n",
       "97903248                0.0              0.0              0.0   \n",
       "2759427                 0.0              0.0              0.0   \n",
       "73570559                2.0              2.0              2.0   \n",
       "11837054                0.0              2.0              2.0   \n",
       "\n",
       "          charlson_avg_Y2  charlson_std_Y2  charlson_range_Y2  \n",
       "42286978              NaN              NaN                NaN  \n",
       "97903248              0.0              0.0                0.0  \n",
       "2759427               0.0              NaN                0.0  \n",
       "73570559              2.0              0.0                0.0  \n",
       "11837054              2.0              0.0                0.0  "
      ]
     },
     "execution_count": 32,
     "metadata": {},
     "output_type": "execute_result"
    }
   ],
   "source": [
    "y = pd.DataFrame(index=all_members)\n",
    "for c in ['dsfs_int', 'charlson_int']:\n",
    "    for year in ['Y1', 'Y2']:\n",
    "        g = x[x.Year == year].groupby('MemberID')[c]\n",
    "        cc = c.replace('_int', '')\n",
    "        y['{}_{}_{}'.format(cc, 'max', year)] = g.max()\n",
    "        y['{}_{}_{}'.format(cc, 'min', year)] = g.min()\n",
    "        y['{}_{}_{}'.format(cc, 'avg', year)] = g.mean()\n",
    "        y['{}_{}_{}'.format(cc, 'std', year)] = g.std()\n",
    "        y['{}_{}_{}'.format(cc, 'range', year)] = g.max() - g.min()\n",
    "df_dsfs = y\n",
    "all_dfs['dsfs'] = y\n",
    "y.head()"
   ]
  },
  {
   "cell_type": "markdown",
   "metadata": {},
   "source": [
    "### 7. One Hot PCG/PG/SP/PS"
   ]
  },
  {
   "cell_type": "code",
   "execution_count": 33,
   "metadata": {},
   "outputs": [
    {
     "data": {
      "text/plain": [
       "PrimaryConditionGroup    45\n",
       "ProcedureGroup           17\n",
       "PlaceSvc                  8\n",
       "Specialty                12\n",
       "dtype: int64"
      ]
     },
     "execution_count": 33,
     "metadata": {},
     "output_type": "execute_result"
    }
   ],
   "source": [
    "x = dfs['Claims'].set_index('MemberID')\n",
    "x[['PrimaryConditionGroup', 'ProcedureGroup', 'PlaceSvc', 'Specialty']].nunique()"
   ]
  },
  {
   "cell_type": "code",
   "execution_count": 34,
   "metadata": {
    "collapsed": true
   },
   "outputs": [],
   "source": [
    "df_one_hots = \\\n",
    "    pd.get_dummies(x[['PrimaryConditionGroup', 'ProcedureGroup', 'PlaceSvc', 'Specialty']]).groupby(x.index).sum()"
   ]
  },
  {
   "cell_type": "code",
   "execution_count": 35,
   "metadata": {},
   "outputs": [
    {
     "data": {
      "text/html": [
       "<div>\n",
       "<style>\n",
       "    .dataframe thead tr:only-child th {\n",
       "        text-align: right;\n",
       "    }\n",
       "\n",
       "    .dataframe thead th {\n",
       "        text-align: left;\n",
       "    }\n",
       "\n",
       "    .dataframe tbody tr th {\n",
       "        vertical-align: top;\n",
       "    }\n",
       "</style>\n",
       "<table border=\"1\" class=\"dataframe\">\n",
       "  <thead>\n",
       "    <tr style=\"text-align: right;\">\n",
       "      <th></th>\n",
       "      <th>PrimaryConditionGroup_AMI</th>\n",
       "      <th>PrimaryConditionGroup_APPCHOL</th>\n",
       "      <th>PrimaryConditionGroup_ARTHSPIN</th>\n",
       "      <th>PrimaryConditionGroup_CANCRA</th>\n",
       "      <th>PrimaryConditionGroup_CANCRB</th>\n",
       "      <th>PrimaryConditionGroup_CANCRM</th>\n",
       "      <th>PrimaryConditionGroup_CATAST</th>\n",
       "      <th>PrimaryConditionGroup_CHF</th>\n",
       "      <th>PrimaryConditionGroup_COPD</th>\n",
       "      <th>PrimaryConditionGroup_FLaELEC</th>\n",
       "      <th>...</th>\n",
       "      <th>Specialty_Emergency</th>\n",
       "      <th>Specialty_General Practice</th>\n",
       "      <th>Specialty_Internal</th>\n",
       "      <th>Specialty_Laboratory</th>\n",
       "      <th>Specialty_Obstetrics and Gynecology</th>\n",
       "      <th>Specialty_Other</th>\n",
       "      <th>Specialty_Pathology</th>\n",
       "      <th>Specialty_Pediatrics</th>\n",
       "      <th>Specialty_Rehabilitation</th>\n",
       "      <th>Specialty_Surgery</th>\n",
       "    </tr>\n",
       "    <tr>\n",
       "      <th>MemberID</th>\n",
       "      <th></th>\n",
       "      <th></th>\n",
       "      <th></th>\n",
       "      <th></th>\n",
       "      <th></th>\n",
       "      <th></th>\n",
       "      <th></th>\n",
       "      <th></th>\n",
       "      <th></th>\n",
       "      <th></th>\n",
       "      <th></th>\n",
       "      <th></th>\n",
       "      <th></th>\n",
       "      <th></th>\n",
       "      <th></th>\n",
       "      <th></th>\n",
       "      <th></th>\n",
       "      <th></th>\n",
       "      <th></th>\n",
       "      <th></th>\n",
       "      <th></th>\n",
       "    </tr>\n",
       "  </thead>\n",
       "  <tbody>\n",
       "    <tr>\n",
       "      <th>4</th>\n",
       "      <td>0</td>\n",
       "      <td>0</td>\n",
       "      <td>0</td>\n",
       "      <td>0</td>\n",
       "      <td>0</td>\n",
       "      <td>0</td>\n",
       "      <td>0</td>\n",
       "      <td>0</td>\n",
       "      <td>0</td>\n",
       "      <td>0</td>\n",
       "      <td>...</td>\n",
       "      <td>0</td>\n",
       "      <td>0</td>\n",
       "      <td>0</td>\n",
       "      <td>0</td>\n",
       "      <td>0</td>\n",
       "      <td>0</td>\n",
       "      <td>0</td>\n",
       "      <td>1</td>\n",
       "      <td>0</td>\n",
       "      <td>0</td>\n",
       "    </tr>\n",
       "    <tr>\n",
       "      <th>210</th>\n",
       "      <td>0</td>\n",
       "      <td>0</td>\n",
       "      <td>0</td>\n",
       "      <td>0</td>\n",
       "      <td>0</td>\n",
       "      <td>0</td>\n",
       "      <td>0</td>\n",
       "      <td>0</td>\n",
       "      <td>0</td>\n",
       "      <td>0</td>\n",
       "      <td>...</td>\n",
       "      <td>2</td>\n",
       "      <td>0</td>\n",
       "      <td>5</td>\n",
       "      <td>4</td>\n",
       "      <td>0</td>\n",
       "      <td>7</td>\n",
       "      <td>0</td>\n",
       "      <td>0</td>\n",
       "      <td>0</td>\n",
       "      <td>0</td>\n",
       "    </tr>\n",
       "    <tr>\n",
       "      <th>3197</th>\n",
       "      <td>0</td>\n",
       "      <td>0</td>\n",
       "      <td>0</td>\n",
       "      <td>0</td>\n",
       "      <td>0</td>\n",
       "      <td>0</td>\n",
       "      <td>0</td>\n",
       "      <td>0</td>\n",
       "      <td>2</td>\n",
       "      <td>0</td>\n",
       "      <td>...</td>\n",
       "      <td>2</td>\n",
       "      <td>0</td>\n",
       "      <td>10</td>\n",
       "      <td>2</td>\n",
       "      <td>0</td>\n",
       "      <td>0</td>\n",
       "      <td>0</td>\n",
       "      <td>6</td>\n",
       "      <td>0</td>\n",
       "      <td>0</td>\n",
       "    </tr>\n",
       "    <tr>\n",
       "      <th>3457</th>\n",
       "      <td>0</td>\n",
       "      <td>0</td>\n",
       "      <td>0</td>\n",
       "      <td>0</td>\n",
       "      <td>0</td>\n",
       "      <td>0</td>\n",
       "      <td>0</td>\n",
       "      <td>0</td>\n",
       "      <td>0</td>\n",
       "      <td>0</td>\n",
       "      <td>...</td>\n",
       "      <td>0</td>\n",
       "      <td>0</td>\n",
       "      <td>0</td>\n",
       "      <td>0</td>\n",
       "      <td>0</td>\n",
       "      <td>0</td>\n",
       "      <td>0</td>\n",
       "      <td>1</td>\n",
       "      <td>0</td>\n",
       "      <td>0</td>\n",
       "    </tr>\n",
       "    <tr>\n",
       "      <th>3713</th>\n",
       "      <td>0</td>\n",
       "      <td>0</td>\n",
       "      <td>3</td>\n",
       "      <td>0</td>\n",
       "      <td>0</td>\n",
       "      <td>0</td>\n",
       "      <td>0</td>\n",
       "      <td>0</td>\n",
       "      <td>0</td>\n",
       "      <td>0</td>\n",
       "      <td>...</td>\n",
       "      <td>0</td>\n",
       "      <td>7</td>\n",
       "      <td>0</td>\n",
       "      <td>2</td>\n",
       "      <td>0</td>\n",
       "      <td>0</td>\n",
       "      <td>0</td>\n",
       "      <td>0</td>\n",
       "      <td>0</td>\n",
       "      <td>0</td>\n",
       "    </tr>\n",
       "  </tbody>\n",
       "</table>\n",
       "<p>5 rows × 82 columns</p>\n",
       "</div>"
      ],
      "text/plain": [
       "          PrimaryConditionGroup_AMI  PrimaryConditionGroup_APPCHOL  \\\n",
       "MemberID                                                             \n",
       "4                                 0                              0   \n",
       "210                               0                              0   \n",
       "3197                              0                              0   \n",
       "3457                              0                              0   \n",
       "3713                              0                              0   \n",
       "\n",
       "          PrimaryConditionGroup_ARTHSPIN  PrimaryConditionGroup_CANCRA  \\\n",
       "MemberID                                                                 \n",
       "4                                      0                             0   \n",
       "210                                    0                             0   \n",
       "3197                                   0                             0   \n",
       "3457                                   0                             0   \n",
       "3713                                   3                             0   \n",
       "\n",
       "          PrimaryConditionGroup_CANCRB  PrimaryConditionGroup_CANCRM  \\\n",
       "MemberID                                                               \n",
       "4                                    0                             0   \n",
       "210                                  0                             0   \n",
       "3197                                 0                             0   \n",
       "3457                                 0                             0   \n",
       "3713                                 0                             0   \n",
       "\n",
       "          PrimaryConditionGroup_CATAST  PrimaryConditionGroup_CHF  \\\n",
       "MemberID                                                            \n",
       "4                                    0                          0   \n",
       "210                                  0                          0   \n",
       "3197                                 0                          0   \n",
       "3457                                 0                          0   \n",
       "3713                                 0                          0   \n",
       "\n",
       "          PrimaryConditionGroup_COPD  PrimaryConditionGroup_FLaELEC  \\\n",
       "MemberID                                                              \n",
       "4                                  0                              0   \n",
       "210                                0                              0   \n",
       "3197                               2                              0   \n",
       "3457                               0                              0   \n",
       "3713                               0                              0   \n",
       "\n",
       "                ...          Specialty_Emergency  Specialty_General Practice  \\\n",
       "MemberID        ...                                                            \n",
       "4               ...                            0                           0   \n",
       "210             ...                            2                           0   \n",
       "3197            ...                            2                           0   \n",
       "3457            ...                            0                           0   \n",
       "3713            ...                            0                           7   \n",
       "\n",
       "          Specialty_Internal  Specialty_Laboratory  \\\n",
       "MemberID                                             \n",
       "4                          0                     0   \n",
       "210                        5                     4   \n",
       "3197                      10                     2   \n",
       "3457                       0                     0   \n",
       "3713                       0                     2   \n",
       "\n",
       "          Specialty_Obstetrics and Gynecology  Specialty_Other  \\\n",
       "MemberID                                                         \n",
       "4                                           0                0   \n",
       "210                                         0                7   \n",
       "3197                                        0                0   \n",
       "3457                                        0                0   \n",
       "3713                                        0                0   \n",
       "\n",
       "          Specialty_Pathology  Specialty_Pediatrics  Specialty_Rehabilitation  \\\n",
       "MemberID                                                                        \n",
       "4                           0                     1                         0   \n",
       "210                         0                     0                         0   \n",
       "3197                        0                     6                         0   \n",
       "3457                        0                     1                         0   \n",
       "3713                        0                     0                         0   \n",
       "\n",
       "          Specialty_Surgery  \n",
       "MemberID                     \n",
       "4                         0  \n",
       "210                       0  \n",
       "3197                      0  \n",
       "3457                      0  \n",
       "3713                      0  \n",
       "\n",
       "[5 rows x 82 columns]"
      ]
     },
     "execution_count": 35,
     "metadata": {},
     "output_type": "execute_result"
    }
   ],
   "source": [
    "df_one_hots.head()"
   ]
  },
  {
   "cell_type": "code",
   "execution_count": 36,
   "metadata": {},
   "outputs": [
    {
     "data": {
      "text/plain": [
       "(113000, 82)"
      ]
     },
     "execution_count": 36,
     "metadata": {},
     "output_type": "execute_result"
    }
   ],
   "source": [
    "df_one_hots.shape"
   ]
  },
  {
   "cell_type": "code",
   "execution_count": 48,
   "metadata": {
    "collapsed": true
   },
   "outputs": [],
   "source": [
    "all_dfs['one_hots'] = df_one_hots"
   ]
  },
  {
   "cell_type": "markdown",
   "metadata": {},
   "source": [
    "### 8. Lab Counts and Drug Count"
   ]
  },
  {
   "cell_type": "code",
   "execution_count": 63,
   "metadata": {},
   "outputs": [
    {
     "data": {
      "text/html": [
       "<div>\n",
       "<style>\n",
       "    .dataframe thead tr:only-child th {\n",
       "        text-align: right;\n",
       "    }\n",
       "\n",
       "    .dataframe thead th {\n",
       "        text-align: left;\n",
       "    }\n",
       "\n",
       "    .dataframe tbody tr th {\n",
       "        vertical-align: top;\n",
       "    }\n",
       "</style>\n",
       "<table border=\"1\" class=\"dataframe\">\n",
       "  <thead>\n",
       "    <tr style=\"text-align: right;\">\n",
       "      <th></th>\n",
       "      <th>MemberID</th>\n",
       "      <th>Year</th>\n",
       "      <th>DSFS</th>\n",
       "      <th>DrugCount</th>\n",
       "    </tr>\n",
       "  </thead>\n",
       "  <tbody>\n",
       "    <tr>\n",
       "      <th>0</th>\n",
       "      <td>48925661</td>\n",
       "      <td>Y2</td>\n",
       "      <td>9-10 months</td>\n",
       "      <td>7+</td>\n",
       "    </tr>\n",
       "    <tr>\n",
       "      <th>1</th>\n",
       "      <td>90764620</td>\n",
       "      <td>Y3</td>\n",
       "      <td>8- 9 months</td>\n",
       "      <td>3</td>\n",
       "    </tr>\n",
       "    <tr>\n",
       "      <th>2</th>\n",
       "      <td>61221204</td>\n",
       "      <td>Y1</td>\n",
       "      <td>2- 3 months</td>\n",
       "      <td>1</td>\n",
       "    </tr>\n",
       "    <tr>\n",
       "      <th>3</th>\n",
       "      <td>63628544</td>\n",
       "      <td>Y3</td>\n",
       "      <td>1- 2 months</td>\n",
       "      <td>1</td>\n",
       "    </tr>\n",
       "    <tr>\n",
       "      <th>4</th>\n",
       "      <td>46949606</td>\n",
       "      <td>Y2</td>\n",
       "      <td>10-11 months</td>\n",
       "      <td>3</td>\n",
       "    </tr>\n",
       "  </tbody>\n",
       "</table>\n",
       "</div>"
      ],
      "text/plain": [
       "   MemberID Year          DSFS DrugCount\n",
       "0  48925661   Y2   9-10 months        7+\n",
       "1  90764620   Y3   8- 9 months         3\n",
       "2  61221204   Y1   2- 3 months         1\n",
       "3  63628544   Y3   1- 2 months         1\n",
       "4  46949606   Y2  10-11 months         3"
      ]
     },
     "execution_count": 63,
     "metadata": {},
     "output_type": "execute_result"
    }
   ],
   "source": [
    "x = dfs['DrugCount']\n",
    "x.head()"
   ]
  },
  {
   "cell_type": "code",
   "execution_count": 87,
   "metadata": {},
   "outputs": [],
   "source": [
    "y = pd.DataFrame(index=all_members)\n",
    "for name in ['DrugCount', 'LabCount']:\n",
    "    df = dfs[name].copy()\n",
    "    \n",
    "    # string to integer\n",
    "    df['DSFS'] = df['DSFS'].apply(lambda a:int(a.split('-')[0]))\n",
    "    \n",
    "    # replace 7+ to 7 and 10+ to 10, and change to integer\n",
    "    df[name] = df[name].str.replace('+', '').astype('int')\n",
    "    \n",
    "    for year in ['Y1', 'Y2']:\n",
    "        g = df[df.Year == year].sort_values('DSFS').groupby('MemberID')[name]\n",
    "        y['{}_{}_{}'.format(name, 'max', year)] = g.max()\n",
    "        y['{}_{}_{}'.format(name, 'min', year)] = g.min()\n",
    "        y['{}_{}_{}'.format(name, 'avg', year)] = g.mean()\n",
    "        y['{}_{}_{}'.format(name, 'range', year)] = g.max() - g.min()\n",
    "        y['{}_{}_{}'.format(name, 'months', year)] = g.count()\n",
    "        y['{}_{}_{}'.format(name, 'velocity', year)] = g.apply(lambda a: a.iloc[-1] - a.iloc[0])\n",
    "        y['{}_{}_{}'.format(name, 'is_null', year)] = y['{}_{}_{}'.format(name, 'max', year)].isnull()\n",
    "\n",
    "all_dfs['drugs'] = y"
   ]
  },
  {
   "cell_type": "code",
   "execution_count": 88,
   "metadata": {
    "scrolled": true
   },
   "outputs": [
    {
     "data": {
      "text/html": [
       "<div>\n",
       "<style>\n",
       "    .dataframe thead tr:only-child th {\n",
       "        text-align: right;\n",
       "    }\n",
       "\n",
       "    .dataframe thead th {\n",
       "        text-align: left;\n",
       "    }\n",
       "\n",
       "    .dataframe tbody tr th {\n",
       "        vertical-align: top;\n",
       "    }\n",
       "</style>\n",
       "<table border=\"1\" class=\"dataframe\">\n",
       "  <thead>\n",
       "    <tr style=\"text-align: right;\">\n",
       "      <th></th>\n",
       "      <th>DrugCount_max_Y1</th>\n",
       "      <th>DrugCount_min_Y1</th>\n",
       "      <th>DrugCount_avg_Y1</th>\n",
       "      <th>DrugCount_range_Y1</th>\n",
       "      <th>DrugCount_months_Y1</th>\n",
       "      <th>DrugCount_velocity_Y1</th>\n",
       "      <th>DrugCount_is_null_Y1</th>\n",
       "      <th>DrugCount_max_Y2</th>\n",
       "      <th>DrugCount_min_Y2</th>\n",
       "      <th>DrugCount_avg_Y2</th>\n",
       "      <th>...</th>\n",
       "      <th>LabCount_months_Y1</th>\n",
       "      <th>LabCount_velocity_Y1</th>\n",
       "      <th>LabCount_is_null_Y1</th>\n",
       "      <th>LabCount_max_Y2</th>\n",
       "      <th>LabCount_min_Y2</th>\n",
       "      <th>LabCount_avg_Y2</th>\n",
       "      <th>LabCount_range_Y2</th>\n",
       "      <th>LabCount_months_Y2</th>\n",
       "      <th>LabCount_velocity_Y2</th>\n",
       "      <th>LabCount_is_null_Y2</th>\n",
       "    </tr>\n",
       "  </thead>\n",
       "  <tbody>\n",
       "    <tr>\n",
       "      <th>42286978</th>\n",
       "      <td>5.0</td>\n",
       "      <td>1.0</td>\n",
       "      <td>2.600000</td>\n",
       "      <td>4.0</td>\n",
       "      <td>10.0</td>\n",
       "      <td>0.0</td>\n",
       "      <td>False</td>\n",
       "      <td>NaN</td>\n",
       "      <td>NaN</td>\n",
       "      <td>NaN</td>\n",
       "      <td>...</td>\n",
       "      <td>1.0</td>\n",
       "      <td>0.0</td>\n",
       "      <td>False</td>\n",
       "      <td>NaN</td>\n",
       "      <td>NaN</td>\n",
       "      <td>NaN</td>\n",
       "      <td>NaN</td>\n",
       "      <td>NaN</td>\n",
       "      <td>NaN</td>\n",
       "      <td>True</td>\n",
       "    </tr>\n",
       "    <tr>\n",
       "      <th>97903248</th>\n",
       "      <td>NaN</td>\n",
       "      <td>NaN</td>\n",
       "      <td>NaN</td>\n",
       "      <td>NaN</td>\n",
       "      <td>NaN</td>\n",
       "      <td>NaN</td>\n",
       "      <td>True</td>\n",
       "      <td>NaN</td>\n",
       "      <td>NaN</td>\n",
       "      <td>NaN</td>\n",
       "      <td>...</td>\n",
       "      <td>5.0</td>\n",
       "      <td>-8.0</td>\n",
       "      <td>False</td>\n",
       "      <td>6.0</td>\n",
       "      <td>2.0</td>\n",
       "      <td>3.4</td>\n",
       "      <td>4.0</td>\n",
       "      <td>5.0</td>\n",
       "      <td>-4.0</td>\n",
       "      <td>False</td>\n",
       "    </tr>\n",
       "    <tr>\n",
       "      <th>2759427</th>\n",
       "      <td>6.0</td>\n",
       "      <td>2.0</td>\n",
       "      <td>3.700000</td>\n",
       "      <td>4.0</td>\n",
       "      <td>10.0</td>\n",
       "      <td>2.0</td>\n",
       "      <td>False</td>\n",
       "      <td>5.0</td>\n",
       "      <td>3.0</td>\n",
       "      <td>4.125000</td>\n",
       "      <td>...</td>\n",
       "      <td>1.0</td>\n",
       "      <td>0.0</td>\n",
       "      <td>False</td>\n",
       "      <td>NaN</td>\n",
       "      <td>NaN</td>\n",
       "      <td>NaN</td>\n",
       "      <td>NaN</td>\n",
       "      <td>NaN</td>\n",
       "      <td>NaN</td>\n",
       "      <td>True</td>\n",
       "    </tr>\n",
       "    <tr>\n",
       "      <th>73570559</th>\n",
       "      <td>NaN</td>\n",
       "      <td>NaN</td>\n",
       "      <td>NaN</td>\n",
       "      <td>NaN</td>\n",
       "      <td>NaN</td>\n",
       "      <td>NaN</td>\n",
       "      <td>True</td>\n",
       "      <td>NaN</td>\n",
       "      <td>NaN</td>\n",
       "      <td>NaN</td>\n",
       "      <td>...</td>\n",
       "      <td>3.0</td>\n",
       "      <td>-9.0</td>\n",
       "      <td>False</td>\n",
       "      <td>6.0</td>\n",
       "      <td>6.0</td>\n",
       "      <td>6.0</td>\n",
       "      <td>0.0</td>\n",
       "      <td>1.0</td>\n",
       "      <td>0.0</td>\n",
       "      <td>False</td>\n",
       "    </tr>\n",
       "    <tr>\n",
       "      <th>11837054</th>\n",
       "      <td>6.0</td>\n",
       "      <td>1.0</td>\n",
       "      <td>3.636364</td>\n",
       "      <td>5.0</td>\n",
       "      <td>11.0</td>\n",
       "      <td>2.0</td>\n",
       "      <td>False</td>\n",
       "      <td>5.0</td>\n",
       "      <td>2.0</td>\n",
       "      <td>3.416667</td>\n",
       "      <td>...</td>\n",
       "      <td>4.0</td>\n",
       "      <td>1.0</td>\n",
       "      <td>False</td>\n",
       "      <td>4.0</td>\n",
       "      <td>2.0</td>\n",
       "      <td>2.5</td>\n",
       "      <td>2.0</td>\n",
       "      <td>4.0</td>\n",
       "      <td>-2.0</td>\n",
       "      <td>False</td>\n",
       "    </tr>\n",
       "  </tbody>\n",
       "</table>\n",
       "<p>5 rows × 28 columns</p>\n",
       "</div>"
      ],
      "text/plain": [
       "          DrugCount_max_Y1  DrugCount_min_Y1  DrugCount_avg_Y1  \\\n",
       "42286978               5.0               1.0          2.600000   \n",
       "97903248               NaN               NaN               NaN   \n",
       "2759427                6.0               2.0          3.700000   \n",
       "73570559               NaN               NaN               NaN   \n",
       "11837054               6.0               1.0          3.636364   \n",
       "\n",
       "          DrugCount_range_Y1  DrugCount_months_Y1  DrugCount_velocity_Y1  \\\n",
       "42286978                 4.0                 10.0                    0.0   \n",
       "97903248                 NaN                  NaN                    NaN   \n",
       "2759427                  4.0                 10.0                    2.0   \n",
       "73570559                 NaN                  NaN                    NaN   \n",
       "11837054                 5.0                 11.0                    2.0   \n",
       "\n",
       "          DrugCount_is_null_Y1  DrugCount_max_Y2  DrugCount_min_Y2  \\\n",
       "42286978                 False               NaN               NaN   \n",
       "97903248                  True               NaN               NaN   \n",
       "2759427                  False               5.0               3.0   \n",
       "73570559                  True               NaN               NaN   \n",
       "11837054                 False               5.0               2.0   \n",
       "\n",
       "          DrugCount_avg_Y2         ...           LabCount_months_Y1  \\\n",
       "42286978               NaN         ...                          1.0   \n",
       "97903248               NaN         ...                          5.0   \n",
       "2759427           4.125000         ...                          1.0   \n",
       "73570559               NaN         ...                          3.0   \n",
       "11837054          3.416667         ...                          4.0   \n",
       "\n",
       "          LabCount_velocity_Y1  LabCount_is_null_Y1  LabCount_max_Y2  \\\n",
       "42286978                   0.0                False              NaN   \n",
       "97903248                  -8.0                False              6.0   \n",
       "2759427                    0.0                False              NaN   \n",
       "73570559                  -9.0                False              6.0   \n",
       "11837054                   1.0                False              4.0   \n",
       "\n",
       "          LabCount_min_Y2  LabCount_avg_Y2  LabCount_range_Y2  \\\n",
       "42286978              NaN              NaN                NaN   \n",
       "97903248              2.0              3.4                4.0   \n",
       "2759427               NaN              NaN                NaN   \n",
       "73570559              6.0              6.0                0.0   \n",
       "11837054              2.0              2.5                2.0   \n",
       "\n",
       "          LabCount_months_Y2  LabCount_velocity_Y2  LabCount_is_null_Y2  \n",
       "42286978                 NaN                   NaN                 True  \n",
       "97903248                 5.0                  -4.0                False  \n",
       "2759427                  NaN                   NaN                 True  \n",
       "73570559                 1.0                   0.0                False  \n",
       "11837054                 4.0                  -2.0                False  \n",
       "\n",
       "[5 rows x 28 columns]"
      ]
     },
     "execution_count": 88,
     "metadata": {},
     "output_type": "execute_result"
    }
   ],
   "source": [
    "y.head()"
   ]
  },
  {
   "cell_type": "markdown",
   "metadata": {},
   "source": [
    "### 9. Admission Risk"
   ]
  },
  {
   "cell_type": "code",
   "execution_count": 89,
   "metadata": {},
   "outputs": [
    {
     "data": {
      "text/html": [
       "<div>\n",
       "<style>\n",
       "    .dataframe thead tr:only-child th {\n",
       "        text-align: right;\n",
       "    }\n",
       "\n",
       "    .dataframe thead th {\n",
       "        text-align: left;\n",
       "    }\n",
       "\n",
       "    .dataframe tbody tr th {\n",
       "        vertical-align: top;\n",
       "    }\n",
       "</style>\n",
       "<table border=\"1\" class=\"dataframe\">\n",
       "  <thead>\n",
       "    <tr style=\"text-align: right;\">\n",
       "      <th></th>\n",
       "      <th>AdmissionRiskG70 (age &gt; 70)</th>\n",
       "      <th>AdmissionRiskL70 (age &lt; 70)</th>\n",
       "    </tr>\n",
       "    <tr>\n",
       "      <th>PCG</th>\n",
       "      <th></th>\n",
       "      <th></th>\n",
       "    </tr>\n",
       "  </thead>\n",
       "  <tbody>\n",
       "    <tr>\n",
       "      <th>AMI</th>\n",
       "      <td>5</td>\n",
       "      <td>5</td>\n",
       "    </tr>\n",
       "    <tr>\n",
       "      <th>APPCHOL</th>\n",
       "      <td>1</td>\n",
       "      <td>1</td>\n",
       "    </tr>\n",
       "    <tr>\n",
       "      <th>ARTHSPIN</th>\n",
       "      <td>2</td>\n",
       "      <td>1</td>\n",
       "    </tr>\n",
       "    <tr>\n",
       "      <th>CANCRA</th>\n",
       "      <td>4</td>\n",
       "      <td>3</td>\n",
       "    </tr>\n",
       "    <tr>\n",
       "      <th>CANCRB</th>\n",
       "      <td>4</td>\n",
       "      <td>3</td>\n",
       "    </tr>\n",
       "  </tbody>\n",
       "</table>\n",
       "</div>"
      ],
      "text/plain": [
       "          AdmissionRiskG70 (age > 70)  AdmissionRiskL70 (age < 70)\n",
       "PCG                                                               \n",
       "AMI                                 5                            5\n",
       "APPCHOL                             1                            1\n",
       "ARTHSPIN                            2                            1\n",
       "CANCRA                              4                            3\n",
       "CANCRB                              4                            3"
      ]
     },
     "execution_count": 89,
     "metadata": {},
     "output_type": "execute_result"
    }
   ],
   "source": [
    "# winner's domain expert's admission risk value\n",
    "\n",
    "df_admission_risk = pd.read_csv('/Users/roee/work/heritage/df_admission_risk.csv')\n",
    "df_admission_risk = df_admission_risk.set_index('PCG')\n",
    "\n",
    "df_admission_risk.head()"
   ]
  },
  {
   "cell_type": "code",
   "execution_count": 109,
   "metadata": {},
   "outputs": [
    {
     "data": {
      "text/html": [
       "<div>\n",
       "<style>\n",
       "    .dataframe thead tr:only-child th {\n",
       "        text-align: right;\n",
       "    }\n",
       "\n",
       "    .dataframe thead th {\n",
       "        text-align: left;\n",
       "    }\n",
       "\n",
       "    .dataframe tbody tr th {\n",
       "        vertical-align: top;\n",
       "    }\n",
       "</style>\n",
       "<table border=\"1\" class=\"dataframe\">\n",
       "  <thead>\n",
       "    <tr style=\"text-align: right;\">\n",
       "      <th></th>\n",
       "      <th>AdmissionRisk_max</th>\n",
       "      <th>AdmissionRisk_ave</th>\n",
       "    </tr>\n",
       "  </thead>\n",
       "  <tbody>\n",
       "    <tr>\n",
       "      <th>42286978</th>\n",
       "      <td>3.0</td>\n",
       "      <td>1.416667</td>\n",
       "    </tr>\n",
       "    <tr>\n",
       "      <th>97903248</th>\n",
       "      <td>4.0</td>\n",
       "      <td>1.777778</td>\n",
       "    </tr>\n",
       "    <tr>\n",
       "      <th>2759427</th>\n",
       "      <td>2.0</td>\n",
       "      <td>1.111111</td>\n",
       "    </tr>\n",
       "    <tr>\n",
       "      <th>73570559</th>\n",
       "      <td>3.0</td>\n",
       "      <td>1.054545</td>\n",
       "    </tr>\n",
       "    <tr>\n",
       "      <th>11837054</th>\n",
       "      <td>5.0</td>\n",
       "      <td>1.705128</td>\n",
       "    </tr>\n",
       "  </tbody>\n",
       "</table>\n",
       "</div>"
      ],
      "text/plain": [
       "          AdmissionRisk_max  AdmissionRisk_ave\n",
       "42286978                3.0           1.416667\n",
       "97903248                4.0           1.777778\n",
       "2759427                 2.0           1.111111\n",
       "73570559                3.0           1.054545\n",
       "11837054                5.0           1.705128"
      ]
     },
     "execution_count": 109,
     "metadata": {},
     "output_type": "execute_result"
    }
   ],
   "source": [
    "y = pd.DataFrame(index=all_members)\n",
    "\n",
    "x = pd.merge(dfs['Claims'], df_admission_risk.reset_index(), \n",
    "             how='left', left_on='PrimaryConditionGroup', right_on='PCG')\n",
    "x = x.set_index('MemberID')\n",
    "x['age'] = dfs['Members'].set_index('MemberID').AgeAtFirstClaim\n",
    "\n",
    "# taking age unknown as young\n",
    "x['is_old'] = x.age.isin(['70-79', '80+'])\n",
    "\n",
    "x['admission_risk'] = where(x.is_old, x['AdmissionRiskG70 (age > 70)'], x['AdmissionRiskL70 (age < 70)'])\n",
    "\n",
    "g = x.groupby('MemberID')['admission_risk']\n",
    "y['AdmissionRisk_max'] = g.max()\n",
    "y['AdmissionRisk_ave'] = g.mean()\n",
    "\n",
    "all_dfs['admission_risk'] = y\n",
    "y.head()"
   ]
  },
  {
   "cell_type": "markdown",
   "metadata": {},
   "source": [
    "### 10. pcp/Vendor/Provider probabilities"
   ]
  },
  {
   "cell_type": "markdown",
   "metadata": {},
   "source": [
    "- count distinct patients in Y2 for each PCP, vendor, provider.\n",
    "- Take top 100 pcps, 200 vendors, 250 providers. Group all others in 'other'.\n",
    "- calculate probability of the patients of each of those to be hospitalized.\n",
    "- For each member, take the max prob for all their pcps/vendors/providers"
   ]
  },
  {
   "cell_type": "code",
   "execution_count": 23,
   "metadata": {},
   "outputs": [
    {
     "data": {
      "text/plain": [
       "42286978     True\n",
       "97903248     True\n",
       "2759427     False\n",
       "73570559    False\n",
       "11837054    False\n",
       "Name: is_hosp, dtype: bool"
      ]
     },
     "execution_count": 23,
     "metadata": {},
     "output_type": "execute_result"
    }
   ],
   "source": [
    "total_days = pd.DataFrame(index=all_members)\n",
    "total_days['tot'] = dfs['DaysInHospital_Y2'].set_index('MemberID').DaysInHospital\n",
    "total_days['is_hosp'] = total_days.tot > 0\n",
    "total_days.is_hosp.head()"
   ]
  },
  {
   "cell_type": "code",
   "execution_count": 28,
   "metadata": {},
   "outputs": [],
   "source": [
    "probabilities = {}\n",
    "for col, n_top in zip(['ProviderID', 'PCP', 'Vendor'], [250, 100, 200]):\n",
    "    unique_members = dfs['Claims'][dfs['Claims'].Year == 'Y1'].groupby(col).MemberID.unique()\n",
    "    unique_members.name = 'unique_members'\n",
    "\n",
    "    counts = unique_members.apply(len)\n",
    "\n",
    "    names = counts.sort_values(ascending=False)\n",
    "    names.iloc[n_top:] = 'other'\n",
    "    names.iloc[:n_top] = names.iloc[:n_top].index.values\n",
    "    names.name = 'name'\n",
    "\n",
    "    x = pd.concat((unique_members, names), axis=1)\n",
    "\n",
    "    all_members_in_other = [member for list_of_members in x[x.name == 'other'].unique_members.values \\\n",
    "                            for member in list_of_members]\n",
    "    all_members_in_other = set(all_members_in_other)\n",
    "    len(all_members_in_other)\n",
    "\n",
    "    x2 = x[x.name != 'other'].unique_members.apply(lambda a: total_days.is_hosp.loc[a].mean())\n",
    "    x2.loc['other'] = total_days.is_hosp.loc[all_members_in_other].mean()\n",
    "    x2.name = '{}_prob'.format(col)\n",
    "    probabilities[col] = x2"
   ]
  },
  {
   "cell_type": "code",
   "execution_count": 29,
   "metadata": {
    "scrolled": true
   },
   "outputs": [
    {
     "data": {
      "text/plain": [
       "PCP\n",
       "1303.0    0.141321\n",
       "2136.0    0.127479\n",
       "2448.0    0.474170\n",
       "2469.0    0.178439\n",
       "3394.0    0.178694\n",
       "Name: PCP_prob, dtype: float64"
      ]
     },
     "execution_count": 29,
     "metadata": {},
     "output_type": "execute_result"
    }
   ],
   "source": [
    "probabilities['PCP'].head()"
   ]
  },
  {
   "cell_type": "markdown",
   "metadata": {},
   "source": [
    "##### And now for my next trick.."
   ]
  },
  {
   "cell_type": "code",
   "execution_count": 30,
   "metadata": {},
   "outputs": [],
   "source": [
    "x = dfs['Claims'][['MemberID', 'ProviderID', 'Vendor', 'PCP']]\n",
    "for k, v in probabilities.iteritems():\n",
    "    x = x.set_index(k)\n",
    "    \n",
    "    # top N PCP/Vendor/Provider each with own probability\n",
    "    x[v.name] = v\n",
    "    \n",
    "    # non top N = p(other)\n",
    "    x = x.reset_index()\n",
    "    claim_has_pcp = (~x[k].isnull())\n",
    "    claim_not_in_top_n_pcps = (x[v.name].isnull())\n",
    "    x.loc[claim_has_pcp & claim_not_in_top_n_pcps, v.name] = v.loc['other']"
   ]
  },
  {
   "cell_type": "code",
   "execution_count": 31,
   "metadata": {},
   "outputs": [
    {
     "data": {
      "text/html": [
       "<div>\n",
       "<style>\n",
       "    .dataframe thead tr:only-child th {\n",
       "        text-align: right;\n",
       "    }\n",
       "\n",
       "    .dataframe thead th {\n",
       "        text-align: left;\n",
       "    }\n",
       "\n",
       "    .dataframe tbody tr th {\n",
       "        vertical-align: top;\n",
       "    }\n",
       "</style>\n",
       "<table border=\"1\" class=\"dataframe\">\n",
       "  <thead>\n",
       "    <tr style=\"text-align: right;\">\n",
       "      <th></th>\n",
       "      <th>PCP</th>\n",
       "      <th>Vendor</th>\n",
       "      <th>ProviderID</th>\n",
       "      <th>MemberID</th>\n",
       "      <th>ProviderID_prob</th>\n",
       "      <th>Vendor_prob</th>\n",
       "      <th>PCP_prob</th>\n",
       "    </tr>\n",
       "  </thead>\n",
       "  <tbody>\n",
       "    <tr>\n",
       "      <th>0</th>\n",
       "      <td>37796.0</td>\n",
       "      <td>172193.0</td>\n",
       "      <td>8013252.0</td>\n",
       "      <td>42286978</td>\n",
       "      <td>0.290076</td>\n",
       "      <td>0.292639</td>\n",
       "      <td>0.174658</td>\n",
       "    </tr>\n",
       "    <tr>\n",
       "      <th>1</th>\n",
       "      <td>5300.0</td>\n",
       "      <td>726296.0</td>\n",
       "      <td>3316066.0</td>\n",
       "      <td>97903248</td>\n",
       "      <td>0.184748</td>\n",
       "      <td>0.183639</td>\n",
       "      <td>0.165433</td>\n",
       "    </tr>\n",
       "    <tr>\n",
       "      <th>2</th>\n",
       "      <td>91972.0</td>\n",
       "      <td>140343.0</td>\n",
       "      <td>2997752.0</td>\n",
       "      <td>2759427</td>\n",
       "      <td>0.137230</td>\n",
       "      <td>0.107329</td>\n",
       "      <td>0.089273</td>\n",
       "    </tr>\n",
       "    <tr>\n",
       "      <th>3</th>\n",
       "      <td>70119.0</td>\n",
       "      <td>240043.0</td>\n",
       "      <td>7053364.0</td>\n",
       "      <td>73570559</td>\n",
       "      <td>0.195870</td>\n",
       "      <td>0.195870</td>\n",
       "      <td>0.165433</td>\n",
       "    </tr>\n",
       "    <tr>\n",
       "      <th>4</th>\n",
       "      <td>68968.0</td>\n",
       "      <td>496247.0</td>\n",
       "      <td>7557061.0</td>\n",
       "      <td>11837054</td>\n",
       "      <td>0.270588</td>\n",
       "      <td>0.277040</td>\n",
       "      <td>0.190416</td>\n",
       "    </tr>\n",
       "  </tbody>\n",
       "</table>\n",
       "</div>"
      ],
      "text/plain": [
       "       PCP    Vendor  ProviderID  MemberID  ProviderID_prob  Vendor_prob  \\\n",
       "0  37796.0  172193.0   8013252.0  42286978         0.290076     0.292639   \n",
       "1   5300.0  726296.0   3316066.0  97903248         0.184748     0.183639   \n",
       "2  91972.0  140343.0   2997752.0   2759427         0.137230     0.107329   \n",
       "3  70119.0  240043.0   7053364.0  73570559         0.195870     0.195870   \n",
       "4  68968.0  496247.0   7557061.0  11837054         0.270588     0.277040   \n",
       "\n",
       "   PCP_prob  \n",
       "0  0.174658  \n",
       "1  0.165433  \n",
       "2  0.089273  \n",
       "3  0.165433  \n",
       "4  0.190416  "
      ]
     },
     "execution_count": 31,
     "metadata": {},
     "output_type": "execute_result"
    }
   ],
   "source": [
    "x.head()"
   ]
  },
  {
   "cell_type": "code",
   "execution_count": 32,
   "metadata": {},
   "outputs": [
    {
     "data": {
      "text/html": [
       "<div>\n",
       "<style>\n",
       "    .dataframe thead tr:only-child th {\n",
       "        text-align: right;\n",
       "    }\n",
       "\n",
       "    .dataframe thead th {\n",
       "        text-align: left;\n",
       "    }\n",
       "\n",
       "    .dataframe tbody tr th {\n",
       "        vertical-align: top;\n",
       "    }\n",
       "</style>\n",
       "<table border=\"1\" class=\"dataframe\">\n",
       "  <thead>\n",
       "    <tr style=\"text-align: right;\">\n",
       "      <th></th>\n",
       "      <th>PCP</th>\n",
       "      <th>Vendor</th>\n",
       "      <th>ProviderID</th>\n",
       "      <th>MemberID</th>\n",
       "      <th>ProviderID_prob</th>\n",
       "      <th>Vendor_prob</th>\n",
       "      <th>PCP_prob</th>\n",
       "    </tr>\n",
       "  </thead>\n",
       "  <tbody>\n",
       "    <tr>\n",
       "      <th>198</th>\n",
       "      <td>32724.0</td>\n",
       "      <td>NaN</td>\n",
       "      <td>NaN</td>\n",
       "      <td>45847458</td>\n",
       "      <td>NaN</td>\n",
       "      <td>NaN</td>\n",
       "      <td>0.139344</td>\n",
       "    </tr>\n",
       "    <tr>\n",
       "      <th>398</th>\n",
       "      <td>NaN</td>\n",
       "      <td>NaN</td>\n",
       "      <td>NaN</td>\n",
       "      <td>30614666</td>\n",
       "      <td>NaN</td>\n",
       "      <td>NaN</td>\n",
       "      <td>NaN</td>\n",
       "    </tr>\n",
       "    <tr>\n",
       "      <th>475</th>\n",
       "      <td>70853.0</td>\n",
       "      <td>NaN</td>\n",
       "      <td>NaN</td>\n",
       "      <td>90054573</td>\n",
       "      <td>NaN</td>\n",
       "      <td>NaN</td>\n",
       "      <td>0.165433</td>\n",
       "    </tr>\n",
       "    <tr>\n",
       "      <th>709</th>\n",
       "      <td>NaN</td>\n",
       "      <td>NaN</td>\n",
       "      <td>NaN</td>\n",
       "      <td>85492358</td>\n",
       "      <td>NaN</td>\n",
       "      <td>NaN</td>\n",
       "      <td>NaN</td>\n",
       "    </tr>\n",
       "    <tr>\n",
       "      <th>1005</th>\n",
       "      <td>27467.0</td>\n",
       "      <td>NaN</td>\n",
       "      <td>NaN</td>\n",
       "      <td>38061764</td>\n",
       "      <td>NaN</td>\n",
       "      <td>NaN</td>\n",
       "      <td>0.149725</td>\n",
       "    </tr>\n",
       "  </tbody>\n",
       "</table>\n",
       "</div>"
      ],
      "text/plain": [
       "          PCP  Vendor  ProviderID  MemberID  ProviderID_prob  Vendor_prob  \\\n",
       "198   32724.0     NaN         NaN  45847458              NaN          NaN   \n",
       "398       NaN     NaN         NaN  30614666              NaN          NaN   \n",
       "475   70853.0     NaN         NaN  90054573              NaN          NaN   \n",
       "709       NaN     NaN         NaN  85492358              NaN          NaN   \n",
       "1005  27467.0     NaN         NaN  38061764              NaN          NaN   \n",
       "\n",
       "      PCP_prob  \n",
       "198   0.139344  \n",
       "398        NaN  \n",
       "475   0.165433  \n",
       "709        NaN  \n",
       "1005  0.149725  "
      ]
     },
     "execution_count": 32,
     "metadata": {},
     "output_type": "execute_result"
    }
   ],
   "source": [
    "x[x.ProviderID.isnull()].head()"
   ]
  },
  {
   "cell_type": "code",
   "execution_count": 36,
   "metadata": {
    "collapsed": true
   },
   "outputs": [],
   "source": [
    "df_probs = x[['ProviderID_prob', 'Vendor_prob', 'PCP_prob', 'MemberID']].groupby('MemberID').max(axis=1)"
   ]
  },
  {
   "cell_type": "code",
   "execution_count": 37,
   "metadata": {},
   "outputs": [
    {
     "data": {
      "text/html": [
       "<div>\n",
       "<style>\n",
       "    .dataframe thead tr:only-child th {\n",
       "        text-align: right;\n",
       "    }\n",
       "\n",
       "    .dataframe thead th {\n",
       "        text-align: left;\n",
       "    }\n",
       "\n",
       "    .dataframe tbody tr th {\n",
       "        vertical-align: top;\n",
       "    }\n",
       "</style>\n",
       "<table border=\"1\" class=\"dataframe\">\n",
       "  <thead>\n",
       "    <tr style=\"text-align: right;\">\n",
       "      <th></th>\n",
       "      <th>ProviderID_prob</th>\n",
       "      <th>Vendor_prob</th>\n",
       "      <th>PCP_prob</th>\n",
       "    </tr>\n",
       "    <tr>\n",
       "      <th>MemberID</th>\n",
       "      <th></th>\n",
       "      <th></th>\n",
       "      <th></th>\n",
       "    </tr>\n",
       "  </thead>\n",
       "  <tbody>\n",
       "    <tr>\n",
       "      <th>4</th>\n",
       "      <td>0.184748</td>\n",
       "      <td>0.183639</td>\n",
       "      <td>0.184818</td>\n",
       "    </tr>\n",
       "    <tr>\n",
       "      <th>210</th>\n",
       "      <td>0.324277</td>\n",
       "      <td>0.342195</td>\n",
       "      <td>0.165433</td>\n",
       "    </tr>\n",
       "    <tr>\n",
       "      <th>3197</th>\n",
       "      <td>0.300000</td>\n",
       "      <td>0.263685</td>\n",
       "      <td>0.141119</td>\n",
       "    </tr>\n",
       "    <tr>\n",
       "      <th>3457</th>\n",
       "      <td>0.116071</td>\n",
       "      <td>0.118644</td>\n",
       "      <td>0.165433</td>\n",
       "    </tr>\n",
       "    <tr>\n",
       "      <th>3713</th>\n",
       "      <td>0.238938</td>\n",
       "      <td>0.217052</td>\n",
       "      <td>0.190416</td>\n",
       "    </tr>\n",
       "  </tbody>\n",
       "</table>\n",
       "</div>"
      ],
      "text/plain": [
       "          ProviderID_prob  Vendor_prob  PCP_prob\n",
       "MemberID                                        \n",
       "4                0.184748     0.183639  0.184818\n",
       "210              0.324277     0.342195  0.165433\n",
       "3197             0.300000     0.263685  0.141119\n",
       "3457             0.116071     0.118644  0.165433\n",
       "3713             0.238938     0.217052  0.190416"
      ]
     },
     "execution_count": 37,
     "metadata": {},
     "output_type": "execute_result"
    }
   ],
   "source": [
    "df_probs.head()"
   ]
  },
  {
   "cell_type": "code",
   "execution_count": 38,
   "metadata": {
    "collapsed": true
   },
   "outputs": [],
   "source": [
    "# validation"
   ]
  },
  {
   "cell_type": "code",
   "execution_count": 39,
   "metadata": {},
   "outputs": [
    {
     "data": {
      "text/plain": [
       "PCP\n",
       "37508.0         NaN\n",
       "18880.0    0.149606\n",
       "Name: PCP_prob, dtype: float64"
      ]
     },
     "execution_count": 39,
     "metadata": {},
     "output_type": "execute_result"
    }
   ],
   "source": [
    "probabilities['PCP'].loc[dfs['Claims'].set_index('MemberID').loc[210, 'PCP'].unique()]"
   ]
  },
  {
   "cell_type": "code",
   "execution_count": 40,
   "metadata": {},
   "outputs": [
    {
     "data": {
      "text/plain": [
       "PCP\n",
       "47016.0    0.141119\n",
       "Name: PCP_prob, dtype: float64"
      ]
     },
     "execution_count": 40,
     "metadata": {},
     "output_type": "execute_result"
    }
   ],
   "source": [
    "probabilities['PCP'].loc[dfs['Claims'].set_index('MemberID').loc[3197, 'PCP'].unique()]"
   ]
  },
  {
   "cell_type": "code",
   "execution_count": 41,
   "metadata": {
    "scrolled": true
   },
   "outputs": [
    {
     "data": {
      "text/plain": [
       "Vendor\n",
       "122401.0    0.191720\n",
       "844976.0    0.263685\n",
       "35565.0     0.217052\n",
       "240043.0    0.195870\n",
       "835324.0    0.238342\n",
       "Name: Vendor_prob, dtype: float64"
      ]
     },
     "execution_count": 41,
     "metadata": {},
     "output_type": "execute_result"
    }
   ],
   "source": [
    "probabilities['Vendor'].loc[dfs['Claims'].set_index('MemberID').loc[3197, 'Vendor'].unique()]"
   ]
  },
  {
   "cell_type": "code",
   "execution_count": 42,
   "metadata": {
    "collapsed": true
   },
   "outputs": [],
   "source": [
    "all_dfs['df_probs'] = df_probs"
   ]
  },
  {
   "cell_type": "markdown",
   "metadata": {},
   "source": [
    "### 11. Most Predictive Providers and Vendors"
   ]
  },
  {
   "cell_type": "raw",
   "metadata": {},
   "source": [
    "For each provider/Vendor that is widely used enough, Create binary flag for each member if used it in Y1\n",
    "Run Lasso Regression (L1 regularization promotes scarcity)\n",
    "Take 50 best"
   ]
  },
  {
   "cell_type": "markdown",
   "metadata": {},
   "source": [
    "##### get top N vendors/Providers (there are too many to consider all of them in the Logistic Regression)"
   ]
  },
  {
   "cell_type": "code",
   "execution_count": 93,
   "metadata": {},
   "outputs": [],
   "source": [
    "ys = {}\n",
    "for col in ['ProviderID', 'Vendor']:\n",
    "    unique_members = dfs['Claims'][dfs['Claims'].Year == 'Y1'].groupby(col).MemberID.unique()\n",
    "    counts = unique_members.apply(len).sort_values(ascending=False)\n",
    "    \n",
    "    top_n = pd.Series(counts.iloc[:150].index.values)\n",
    "    \n",
    "    # take only claims with those vendors\n",
    "    y = x[['MemberID', col]][x[col].isin(top_n)]\n",
    "    assert y[col].nunique() == 150\n",
    "\n",
    "    y = y.set_index('MemberID')\n",
    "    y = pd.get_dummies(y, columns=[col]).groupby(y.index).max()\n",
    "    \n",
    "    # is hospitilied Y2 is the classification target\n",
    "    y['target'] = (dfs['DaysInHospital_Y2'].set_index('MemberID').DaysInHospital > 0).astype('int')\n",
    "    \n",
    "    # take only those members who have data for hospitilization Y2\n",
    "    y = y[~y.target.isnull()]\n",
    "    ys[col] = y"
   ]
  },
  {
   "cell_type": "code",
   "execution_count": 94,
   "metadata": {},
   "outputs": [
    {
     "data": {
      "text/html": [
       "<div>\n",
       "<style>\n",
       "    .dataframe thead tr:only-child th {\n",
       "        text-align: right;\n",
       "    }\n",
       "\n",
       "    .dataframe thead th {\n",
       "        text-align: left;\n",
       "    }\n",
       "\n",
       "    .dataframe tbody tr th {\n",
       "        vertical-align: top;\n",
       "    }\n",
       "</style>\n",
       "<table border=\"1\" class=\"dataframe\">\n",
       "  <thead>\n",
       "    <tr style=\"text-align: right;\">\n",
       "      <th></th>\n",
       "      <th>Vendor_2211.0</th>\n",
       "      <th>Vendor_5166.0</th>\n",
       "      <th>Vendor_9717.0</th>\n",
       "      <th>Vendor_26108.0</th>\n",
       "      <th>Vendor_31946.0</th>\n",
       "      <th>Vendor_35565.0</th>\n",
       "      <th>Vendor_41541.0</th>\n",
       "      <th>Vendor_50613.0</th>\n",
       "      <th>Vendor_62417.0</th>\n",
       "      <th>Vendor_64764.0</th>\n",
       "      <th>...</th>\n",
       "      <th>Vendor_924708.0</th>\n",
       "      <th>Vendor_931560.0</th>\n",
       "      <th>Vendor_934620.0</th>\n",
       "      <th>Vendor_955403.0</th>\n",
       "      <th>Vendor_969292.0</th>\n",
       "      <th>Vendor_972258.0</th>\n",
       "      <th>Vendor_979983.0</th>\n",
       "      <th>Vendor_982907.0</th>\n",
       "      <th>Vendor_988813.0</th>\n",
       "      <th>target</th>\n",
       "    </tr>\n",
       "    <tr>\n",
       "      <th>MemberID</th>\n",
       "      <th></th>\n",
       "      <th></th>\n",
       "      <th></th>\n",
       "      <th></th>\n",
       "      <th></th>\n",
       "      <th></th>\n",
       "      <th></th>\n",
       "      <th></th>\n",
       "      <th></th>\n",
       "      <th></th>\n",
       "      <th></th>\n",
       "      <th></th>\n",
       "      <th></th>\n",
       "      <th></th>\n",
       "      <th></th>\n",
       "      <th></th>\n",
       "      <th></th>\n",
       "      <th></th>\n",
       "      <th></th>\n",
       "      <th></th>\n",
       "      <th></th>\n",
       "    </tr>\n",
       "  </thead>\n",
       "  <tbody>\n",
       "    <tr>\n",
       "      <th>210</th>\n",
       "      <td>0</td>\n",
       "      <td>0</td>\n",
       "      <td>0</td>\n",
       "      <td>0</td>\n",
       "      <td>0</td>\n",
       "      <td>0</td>\n",
       "      <td>0</td>\n",
       "      <td>0</td>\n",
       "      <td>0</td>\n",
       "      <td>0</td>\n",
       "      <td>...</td>\n",
       "      <td>0</td>\n",
       "      <td>0</td>\n",
       "      <td>0</td>\n",
       "      <td>0</td>\n",
       "      <td>0</td>\n",
       "      <td>0</td>\n",
       "      <td>0</td>\n",
       "      <td>0</td>\n",
       "      <td>0</td>\n",
       "      <td>0.0</td>\n",
       "    </tr>\n",
       "    <tr>\n",
       "      <th>3197</th>\n",
       "      <td>0</td>\n",
       "      <td>0</td>\n",
       "      <td>0</td>\n",
       "      <td>0</td>\n",
       "      <td>0</td>\n",
       "      <td>1</td>\n",
       "      <td>0</td>\n",
       "      <td>0</td>\n",
       "      <td>0</td>\n",
       "      <td>0</td>\n",
       "      <td>...</td>\n",
       "      <td>0</td>\n",
       "      <td>0</td>\n",
       "      <td>0</td>\n",
       "      <td>0</td>\n",
       "      <td>0</td>\n",
       "      <td>0</td>\n",
       "      <td>0</td>\n",
       "      <td>0</td>\n",
       "      <td>0</td>\n",
       "      <td>0.0</td>\n",
       "    </tr>\n",
       "    <tr>\n",
       "      <th>3889</th>\n",
       "      <td>0</td>\n",
       "      <td>1</td>\n",
       "      <td>1</td>\n",
       "      <td>0</td>\n",
       "      <td>0</td>\n",
       "      <td>0</td>\n",
       "      <td>0</td>\n",
       "      <td>0</td>\n",
       "      <td>0</td>\n",
       "      <td>0</td>\n",
       "      <td>...</td>\n",
       "      <td>0</td>\n",
       "      <td>0</td>\n",
       "      <td>0</td>\n",
       "      <td>0</td>\n",
       "      <td>0</td>\n",
       "      <td>0</td>\n",
       "      <td>0</td>\n",
       "      <td>0</td>\n",
       "      <td>0</td>\n",
       "      <td>0.0</td>\n",
       "    </tr>\n",
       "    <tr>\n",
       "      <th>9063</th>\n",
       "      <td>0</td>\n",
       "      <td>0</td>\n",
       "      <td>0</td>\n",
       "      <td>0</td>\n",
       "      <td>0</td>\n",
       "      <td>0</td>\n",
       "      <td>0</td>\n",
       "      <td>0</td>\n",
       "      <td>0</td>\n",
       "      <td>0</td>\n",
       "      <td>...</td>\n",
       "      <td>0</td>\n",
       "      <td>0</td>\n",
       "      <td>0</td>\n",
       "      <td>0</td>\n",
       "      <td>0</td>\n",
       "      <td>0</td>\n",
       "      <td>0</td>\n",
       "      <td>0</td>\n",
       "      <td>0</td>\n",
       "      <td>0.0</td>\n",
       "    </tr>\n",
       "    <tr>\n",
       "      <th>11951</th>\n",
       "      <td>0</td>\n",
       "      <td>0</td>\n",
       "      <td>0</td>\n",
       "      <td>0</td>\n",
       "      <td>0</td>\n",
       "      <td>0</td>\n",
       "      <td>0</td>\n",
       "      <td>0</td>\n",
       "      <td>0</td>\n",
       "      <td>0</td>\n",
       "      <td>...</td>\n",
       "      <td>0</td>\n",
       "      <td>0</td>\n",
       "      <td>0</td>\n",
       "      <td>0</td>\n",
       "      <td>0</td>\n",
       "      <td>1</td>\n",
       "      <td>0</td>\n",
       "      <td>0</td>\n",
       "      <td>0</td>\n",
       "      <td>1.0</td>\n",
       "    </tr>\n",
       "  </tbody>\n",
       "</table>\n",
       "<p>5 rows × 151 columns</p>\n",
       "</div>"
      ],
      "text/plain": [
       "          Vendor_2211.0  Vendor_5166.0  Vendor_9717.0  Vendor_26108.0  \\\n",
       "MemberID                                                                \n",
       "210                   0              0              0               0   \n",
       "3197                  0              0              0               0   \n",
       "3889                  0              1              1               0   \n",
       "9063                  0              0              0               0   \n",
       "11951                 0              0              0               0   \n",
       "\n",
       "          Vendor_31946.0  Vendor_35565.0  Vendor_41541.0  Vendor_50613.0  \\\n",
       "MemberID                                                                   \n",
       "210                    0               0               0               0   \n",
       "3197                   0               1               0               0   \n",
       "3889                   0               0               0               0   \n",
       "9063                   0               0               0               0   \n",
       "11951                  0               0               0               0   \n",
       "\n",
       "          Vendor_62417.0  Vendor_64764.0   ...    Vendor_924708.0  \\\n",
       "MemberID                                   ...                      \n",
       "210                    0               0   ...                  0   \n",
       "3197                   0               0   ...                  0   \n",
       "3889                   0               0   ...                  0   \n",
       "9063                   0               0   ...                  0   \n",
       "11951                  0               0   ...                  0   \n",
       "\n",
       "          Vendor_931560.0  Vendor_934620.0  Vendor_955403.0  Vendor_969292.0  \\\n",
       "MemberID                                                                       \n",
       "210                     0                0                0                0   \n",
       "3197                    0                0                0                0   \n",
       "3889                    0                0                0                0   \n",
       "9063                    0                0                0                0   \n",
       "11951                   0                0                0                0   \n",
       "\n",
       "          Vendor_972258.0  Vendor_979983.0  Vendor_982907.0  Vendor_988813.0  \\\n",
       "MemberID                                                                       \n",
       "210                     0                0                0                0   \n",
       "3197                    0                0                0                0   \n",
       "3889                    0                0                0                0   \n",
       "9063                    0                0                0                0   \n",
       "11951                   1                0                0                0   \n",
       "\n",
       "          target  \n",
       "MemberID          \n",
       "210          0.0  \n",
       "3197         0.0  \n",
       "3889         0.0  \n",
       "9063         0.0  \n",
       "11951        1.0  \n",
       "\n",
       "[5 rows x 151 columns]"
      ]
     },
     "execution_count": 94,
     "metadata": {},
     "output_type": "execute_result"
    }
   ],
   "source": [
    "ys['Vendor'].head()"
   ]
  },
  {
   "cell_type": "code",
   "execution_count": 96,
   "metadata": {},
   "outputs": [],
   "source": [
    "y = ys['Vendor']\n",
    "target = y.target\n",
    "del y['target']"
   ]
  },
  {
   "cell_type": "code",
   "execution_count": 124,
   "metadata": {
    "collapsed": true
   },
   "outputs": [],
   "source": [
    "from sklearn.metrics import roc_auc_score\n",
    "from sklearn.linear_model import LogisticRegression"
   ]
  },
  {
   "cell_type": "code",
   "execution_count": 122,
   "metadata": {},
   "outputs": [
    {
     "data": {
      "text/plain": [
       "LogisticRegression(C=0.1, class_weight=None, dual=False, fit_intercept=True,\n",
       "          intercept_scaling=1, max_iter=100, multi_class='ovr', n_jobs=1,\n",
       "          penalty='l1', random_state=None, solver='liblinear', tol=0.0001,\n",
       "          verbose=0, warm_start=False)"
      ]
     },
     "execution_count": 122,
     "metadata": {},
     "output_type": "execute_result"
    }
   ],
   "source": [
    "clf = LogisticRegression(penalty='l1', C=0.1)\n",
    "clf.fit(y, target)"
   ]
  },
  {
   "cell_type": "code",
   "execution_count": 123,
   "metadata": {},
   "outputs": [
    {
     "data": {
      "text/plain": [
       "99"
      ]
     },
     "execution_count": 123,
     "metadata": {},
     "output_type": "execute_result"
    }
   ],
   "source": [
    "sum(clf.coef_ != 0)"
   ]
  },
  {
   "cell_type": "code",
   "execution_count": 125,
   "metadata": {},
   "outputs": [
    {
     "data": {
      "text/plain": [
       "0.80245045368905177"
      ]
     },
     "execution_count": 125,
     "metadata": {},
     "output_type": "execute_result"
    }
   ],
   "source": [
    "roc_auc_score(target, clf.predict_proba(y)[:, 1])"
   ]
  },
  {
   "cell_type": "markdown",
   "metadata": {},
   "source": [
    "##### Take 50 most predictive"
   ]
  },
  {
   "cell_type": "code",
   "execution_count": null,
   "metadata": {
    "collapsed": true
   },
   "outputs": [],
   "source": []
  },
  {
   "cell_type": "markdown",
   "metadata": {},
   "source": [
    "# Concatenate all dfs"
   ]
  },
  {
   "cell_type": "code",
   "execution_count": 50,
   "metadata": {},
   "outputs": [
    {
     "name": "stdout",
     "output_type": "stream",
     "text": [
      "dsfs\n",
      "(113000, 20)\n",
      "Index([u'dsfs_max_Y1', u'dsfs_min_Y1', u'dsfs_avg_Y1', u'dsfs_std_Y1',\n",
      "       u'dsfs_range_Y1', u'dsfs_max_Y2', u'dsfs_min_Y2', u'dsfs_avg_Y2',\n",
      "       u'dsfs_std_Y2', u'dsfs_range_Y2', u'charlson_max_Y1',\n",
      "       u'charlson_min_Y1', u'charlson_avg_Y1', u'charlson_std_Y1',\n",
      "       u'charlson_range_Y1', u'charlson_max_Y2', u'charlson_min_Y2',\n",
      "       u'charlson_avg_Y2', u'charlson_std_Y2', u'charlson_range_Y2'],\n",
      "      dtype='object')\n",
      "\n",
      "claims_truncated\n",
      "(95507, 2)\n",
      "Index([u'ClaimsTruncatedY1', u'ClaimsTruncatedY2'], dtype='object')\n",
      "\n",
      "age\n",
      "(113000, 10)\n",
      "Index([u'age_5', u'age_15', u'age_25', u'age_35', u'age_45', u'age_55',\n",
      "       u'age_65', u'age_75', u'age_85', u'age_miss'],\n",
      "      dtype='object')\n",
      "\n",
      "sex\n",
      "(113000, 3)\n",
      "Index([u'sex_F', u'sex_M', u'sex_miss'], dtype='object')\n",
      "\n",
      "los\n",
      "(113000, 14)\n",
      "Index([u'LOS_max_Y1', u'LOS_min_Y1', u'LOS_std_Y1', u'LOS_mean_Y1',\n",
      "       u'LOS_TOT_UNKNOWN_Y1', u'LOS_TOT_KNOWN_Y1', u'LOS_TOT_SUPPRESSED_Y1',\n",
      "       u'LOS_max_Y2', u'LOS_min_Y2', u'LOS_std_Y2', u'LOS_mean_Y2',\n",
      "       u'LOS_TOT_UNKNOWN_Y2', u'LOS_TOT_KNOWN_Y2', u'LOS_TOT_SUPPRESSED_Y2'],\n",
      "      dtype='object')\n",
      "\n",
      "one_hots\n",
      "(113000, 82)\n",
      "Index([u'PrimaryConditionGroup_AMI', u'PrimaryConditionGroup_APPCHOL',\n",
      "       u'PrimaryConditionGroup_ARTHSPIN', u'PrimaryConditionGroup_CANCRA',\n",
      "       u'PrimaryConditionGroup_CANCRB', u'PrimaryConditionGroup_CANCRM',\n",
      "       u'PrimaryConditionGroup_CATAST', u'PrimaryConditionGroup_CHF',\n",
      "       u'PrimaryConditionGroup_COPD', u'PrimaryConditionGroup_FLaELEC',\n",
      "       u'PrimaryConditionGroup_FXDISLC', u'PrimaryConditionGroup_GIBLEED',\n",
      "       u'PrimaryConditionGroup_GIOBSENT', u'PrimaryConditionGroup_GYNEC1',\n",
      "       u'PrimaryConditionGroup_GYNECA', u'PrimaryConditionGroup_HEART2',\n",
      "       u'PrimaryConditionGroup_HEART4', u'PrimaryConditionGroup_HEMTOL',\n",
      "       u'PrimaryConditionGroup_HIPFX', u'PrimaryConditionGroup_INFEC4',\n",
      "       u'PrimaryConditionGroup_LIVERDZ', u'PrimaryConditionGroup_METAB1',\n",
      "       u'PrimaryConditionGroup_METAB3', u'PrimaryConditionGroup_MISCHRT',\n",
      "       u'PrimaryConditionGroup_MISCL1', u'PrimaryConditionGroup_MISCL5',\n",
      "       u'PrimaryConditionGroup_MSC2a3', u'PrimaryConditionGroup_NEUMENT',\n",
      "       u'PrimaryConditionGroup_ODaBNCA', u'PrimaryConditionGroup_PERINTL',\n",
      "       u'PrimaryConditionGroup_PERVALV', u'PrimaryConditionGroup_PNCRDZ',\n",
      "       u'PrimaryConditionGroup_PNEUM', u'PrimaryConditionGroup_PRGNCY',\n",
      "       u'PrimaryConditionGroup_RENAL1', u'PrimaryConditionGroup_RENAL2',\n",
      "       u'PrimaryConditionGroup_RENAL3', u'PrimaryConditionGroup_RESPR4',\n",
      "       u'PrimaryConditionGroup_ROAMI', u'PrimaryConditionGroup_SEIZURE',\n",
      "       u'PrimaryConditionGroup_SEPSIS', u'PrimaryConditionGroup_SKNAUT',\n",
      "       u'PrimaryConditionGroup_STROKE', u'PrimaryConditionGroup_TRAUMA',\n",
      "       u'PrimaryConditionGroup_UTI', u'ProcedureGroup_ANES',\n",
      "       u'ProcedureGroup_EM', u'ProcedureGroup_MED', u'ProcedureGroup_PL',\n",
      "       u'ProcedureGroup_RAD', u'ProcedureGroup_SAS', u'ProcedureGroup_SCS',\n",
      "       u'ProcedureGroup_SDS', u'ProcedureGroup_SEOA', u'ProcedureGroup_SGS',\n",
      "       u'ProcedureGroup_SIS', u'ProcedureGroup_SMCD', u'ProcedureGroup_SMS',\n",
      "       u'ProcedureGroup_SNS', u'ProcedureGroup_SO', u'ProcedureGroup_SRS',\n",
      "       u'ProcedureGroup_SUS', u'PlaceSvc_Ambulance', u'PlaceSvc_Home',\n",
      "       u'PlaceSvc_Independent Lab', u'PlaceSvc_Inpatient Hospital',\n",
      "       u'PlaceSvc_Office', u'PlaceSvc_Other', u'PlaceSvc_Outpatient Hospital',\n",
      "       u'PlaceSvc_Urgent Care', u'Specialty_Anesthesiology',\n",
      "       u'Specialty_Diagnostic Imaging', u'Specialty_Emergency',\n",
      "       u'Specialty_General Practice', u'Specialty_Internal',\n",
      "       u'Specialty_Laboratory', u'Specialty_Obstetrics and Gynecology',\n",
      "       u'Specialty_Other', u'Specialty_Pathology', u'Specialty_Pediatrics',\n",
      "       u'Specialty_Rehabilitation', u'Specialty_Surgery'],\n",
      "      dtype='object')\n",
      "\n",
      "counts\n",
      "(113000, 14)\n",
      "Index([u'n_ProviderID_Y1', u'n_Vendor_Y1', u'n_PCP_Y1', u'n_Specialty_Y1',\n",
      "       u'n_PlaceSvc_Y1', u'n_PrimaryConditionGroup_Y1', u'n_ProcedureGroup_Y1',\n",
      "       u'n_ProviderID_Y2', u'n_Vendor_Y2', u'n_PCP_Y2', u'n_Specialty_Y2',\n",
      "       u'n_PlaceSvc_Y2', u'n_PrimaryConditionGroup_Y2',\n",
      "       u'n_ProcedureGroup_Y2'],\n",
      "      dtype='object')\n",
      "\n",
      "cohort_flags\n",
      "(113000, 4)\n",
      "Index([u'is_in_y1', u'is_in_y2', u'is_in_y3', u'is_in_y1_y2'], dtype='object')\n",
      "\n"
     ]
    }
   ],
   "source": [
    "for name, df in all_dfs.iteritems():\n",
    "    print name\n",
    "    print df.shape\n",
    "    print df.columns\n",
    "    print"
   ]
  },
  {
   "cell_type": "markdown",
   "metadata": {},
   "source": [
    "TODO:\n",
    "    - Go over everything and make sure i'm only using Y1 data for training (with DaysInHosp_Y2 as labels), and Y2 data for test (with DaysInHosp_Y3 as labels)"
   ]
  }
 ],
 "metadata": {
  "kernelspec": {
   "display_name": "Python 2",
   "language": "python",
   "name": "python2"
  },
  "language_info": {
   "codemirror_mode": {
    "name": "ipython",
    "version": 2
   },
   "file_extension": ".py",
   "mimetype": "text/x-python",
   "name": "python",
   "nbconvert_exporter": "python",
   "pygments_lexer": "ipython2",
   "version": "2.7.10"
  }
 },
 "nbformat": 4,
 "nbformat_minor": 2
}
