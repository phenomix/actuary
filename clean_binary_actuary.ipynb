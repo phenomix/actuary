{
 "cells": [
  {
   "cell_type": "code",
   "execution_count": 1,
   "metadata": {
    "collapsed": true
   },
   "outputs": [],
   "source": [
    "import numpy as np\n",
    "import pandas as pd\n",
    "import seaborn as sns\n",
    "import matplotlib.pyplot as plt\n",
    "import pylab\n",
    "import cPickle as pickle\n",
    "from scipy.special import expit, logit\n",
    "\n",
    "sns.set()"
   ]
  },
  {
   "cell_type": "code",
   "execution_count": 2,
   "metadata": {
    "collapsed": true
   },
   "outputs": [],
   "source": [
    "params = {'legend.fontsize': 'x-large',\n",
    "#           'figure.figsize': (15, 5),\n",
    "         'axes.labelsize': 'x-large',\n",
    "          'axes.labelweight': 'bold',\n",
    "         'axes.titlesize':'x-large',\n",
    "          'axes.titleweight': 'bold',\n",
    "         'xtick.labelsize':'x-large',\n",
    "         'ytick.labelsize':'x-large'}\n",
    "pylab.rcParams.update(params)"
   ]
  },
  {
   "cell_type": "code",
   "execution_count": 3,
   "metadata": {
    "collapsed": true
   },
   "outputs": [],
   "source": [
    "COST_FOR_SICK = 10000 # per year\n",
    "COST_FOR_HEALTHY = 500 # per year\n",
    "SICKNESS_PREVALENCE = 5 # percent"
   ]
  },
  {
   "cell_type": "code",
   "execution_count": 4,
   "metadata": {},
   "outputs": [
    {
     "data": {
      "text/latex": [
       "total_cost_because_of_sick = FN * cost_per_sick =\n",
       "\n",
       "= total_positives * (1 - tpr) * cost_per_sick =\n",
       "\n",
       "= N * prevalence * (1 - tpr) * cost_per_sick\n",
       "\n",
       "\n",
       "total_cost_because_of_healthy = TN * cost_per_health = \n",
       "\n",
       "= total_negatives * (1 - fpr) * cost_per_healthy =\n",
       "\n",
       "= N * (1 - prevalence) * (1 - fpr) * cost_per_healthy"
      ],
      "text/plain": [
       "<IPython.core.display.Latex object>"
      ]
     },
     "metadata": {},
     "output_type": "display_data"
    }
   ],
   "source": [
    "%%latex\n",
    "total_cost_because_of_sick = FN * cost_per_sick =\n",
    "\n",
    "= total_positives * (1 - tpr) * cost_per_sick =\n",
    "\n",
    "= N * prevalence * (1 - tpr) * cost_per_sick\n",
    "\n",
    "\n",
    "total_cost_because_of_healthy = TN * cost_per_health = \n",
    "\n",
    "= total_negatives * (1 - fpr) * cost_per_healthy =\n",
    "\n",
    "= N * (1 - prevalence) * (1 - fpr) * cost_per_healthy"
   ]
  },
  {
   "cell_type": "code",
   "execution_count": 5,
   "metadata": {
    "collapsed": true
   },
   "outputs": [],
   "source": [
    "def average_cost_correctly_classified_healthy(p, fpr, cost_per_healthy):\n",
    "    return (1 - p) * (1 - fpr) * cost_per_healthy\n",
    "\n",
    "def average_cost_misclassified_sick(p, tpr, cost_per_sick):\n",
    "    return p * (1 - tpr) * cost_per_sick\n",
    "\n",
    "def total_enrolled(p, fpr, tpr):\n",
    "    total_sick_enrolled = p * (1 - tpr)\n",
    "    total_healthy_enrolled = (1 - p) * (1 - fpr)\n",
    "    return total_sick_enrolled + total_healthy_enrolled\n",
    "\n",
    "def average_premium_to_break_even(fpr, \n",
    "                                  tpr, \n",
    "                                  cost_for_sick=COST_FOR_SICK, \n",
    "                                  cost_for_healthy=COST_FOR_HEALTHY, \n",
    "                                  p=SICKNESS_PREVALENCE):\n",
    "    cost = average_cost_misclassified_sick(p, tpr, cost_for_sick)\n",
    "    cost += average_cost_correctly_classified_healthy(p, fpr, cost_for_healthy)\n",
    "    premium = cost / total_enrolled(p, fpr, tpr) / 12\n",
    "    if isinstance(fpr, numpy.ndarray):\n",
    "        premium[(tpr < fpr) | (tpr < 0.2)] = NaN\n",
    "    return premium\n",
    "\n",
    "def profit_per_patient(fpr, \n",
    "                       tpr, \n",
    "                       daily_premium,\n",
    "                       cac=0,\n",
    "                       cost_for_sick=COST_FOR_SICK, \n",
    "                       cost_for_healthy=COST_FOR_HEALTHY, \n",
    "                       p_in_percent=SICKNESS_PREVALENCE):\n",
    "    # all values normalized to one person\n",
    "    p = p_in_percent / 100.0\n",
    "    cost = cac\n",
    "    cost += average_cost_misclassified_sick(p, tpr, cost_for_sick)\n",
    "    cost += average_cost_correctly_classified_healthy(p, fpr, cost_for_healthy)\n",
    "    profit_per_person = total_enrolled(p, fpr, tpr) * daily_premium * 365 - cost\n",
    "    if isinstance(fpr, np.ndarray):\n",
    "        profit_per_person[(tpr < fpr)] = np.NaN\n",
    "    return profit_per_person\n",
    "\n",
    "def from_4_cats_to_2(cs, ps):\n",
    "    assert len(cs) == 4\n",
    "    assert len(ps) == 4\n",
    "    if cs != sorted(cs):\n",
    "        print \"costs and prevalences must be from healthiest to sickest\"\n",
    "        return 0, 0, 0\n",
    "    \n",
    "    cost_for_healthy = cs[0] * ps[0] + cs[1] * ps[1]\n",
    "    if cost_for_healthy > 0:\n",
    "        cost_for_healthy /= (ps[0] + ps[1])\n",
    "    cost_for_sick = cs[2] * ps[2] + cs[3] * ps[3] \n",
    "    if cost_for_sick > 0:\n",
    "        cost_for_sick /= (ps[2] + ps[3])\n",
    "    p_sick = ps[2] + ps[3]\n",
    "    return cost_for_healthy, cost_for_sick, p_sick\n",
    "\n",
    "def profit_per_patient_4_cats(fpr, \n",
    "                       tpr, \n",
    "                       daily_premium,\n",
    "                       cac,\n",
    "                       costs,\n",
    "                       prevalences):\n",
    "    cost_for_healthy, cost_for_sick, p_sick = from_4_cats_to_2(costs, prevalences)\n",
    "    ppp = profit_per_patient(fpr, tpr, daily_premium, cac, cost_for_sick, cost_for_healthy, p_sick * 100)\n",
    "    return cost_for_healthy, cost_for_sick, p_sick, ppp\n"
   ]
  },
  {
   "cell_type": "code",
   "execution_count": 6,
   "metadata": {
    "collapsed": true
   },
   "outputs": [],
   "source": [
    "def small_mock_unit_tests():\n",
    "    # fpr == 0 means no healthy patient is denied insurance\n",
    "    # tpr == 0 means all exploding patients are insured\n",
    "    assert total_enrolled(p=0.1, fpr=0, tpr=0) == 1.0\n",
    "    x = profit_per_patient(fpr=0, \n",
    "                          tpr=0, \n",
    "                          daily_premium=1000.0/365, \n",
    "                          cost_for_sick=100, \n",
    "                          cost_for_healthy=1, \n",
    "                          p_in_percent=10)\n",
    "    assert x == 1000 - 10 - 0.9, x\n",
    "    \n",
    "    # fpr == 0 means no healthy patient is denied insurance\n",
    "    # tpr == 1 means all exploding patient are denied insurance\n",
    "    assert total_enrolled(p=0.1, fpr=0, tpr=1) == 0.9\n",
    "    x = profit_per_patient(fpr=0, \n",
    "                          tpr=1, \n",
    "                          daily_premium=1000.0/365, \n",
    "                          cost_for_sick=100, \n",
    "                          cost_for_healthy=1, \n",
    "                          p_in_percent=10)\n",
    "    assert x == 900 - 0.9, x\n",
    "    \n",
    "    # fpr == 1 means all healthy patients are denied insurance\n",
    "    # tpr == 1 means all exploding patients are denied insurance\n",
    "    assert total_enrolled(p=0.1, fpr=1, tpr=1) == 0\n",
    "    x = profit_per_patient(fpr=1, tpr=1, daily_premium=1000.0/365)\n",
    "    assert x == 0, x\n",
    "    \n",
    "    assert total_enrolled(p=0.1, fpr=0, tpr=1) == 0.9\n",
    "    x = profit_per_patient(fpr=0, \n",
    "                          tpr=1,\n",
    "                          cac=5,\n",
    "                          daily_premium=1000.0/365, \n",
    "                          cost_for_sick=100, \n",
    "                          cost_for_healthy=1, \n",
    "                          p_in_percent=10)\n",
    "    assert x == 900 - 0.9 - 5, x\n",
    "    \n",
    "small_mock_unit_tests()"
   ]
  },
  {
   "cell_type": "code",
   "execution_count": 7,
   "metadata": {
    "collapsed": true
   },
   "outputs": [],
   "source": [
    "import matplotlib.colors as colors\n",
    "\n",
    "cm = plt.get_cmap('RdYlGn')\n",
    "c_norm = colors.Normalize(vmin=-500, vmax=500)"
   ]
  },
  {
   "cell_type": "code",
   "execution_count": 8,
   "metadata": {
    "collapsed": true
   },
   "outputs": [],
   "source": [
    "from ipywidgets import interact, FloatSlider, IntSlider\n",
    "from scipy.interpolate import interp1d"
   ]
  },
  {
   "cell_type": "code",
   "execution_count": 9,
   "metadata": {
    "collapsed": true
   },
   "outputs": [],
   "source": [
    "def auc_to_roc(auc, x=np.arange(0, 1, 0.01)):\n",
    "    # ax^2 + bx + c = 0\n",
    "    # passing through (0,0) and (1,1)\n",
    "    # with the integral equaling auc\n",
    "    return (3 - 6 * auc) * x * x + (6 * auc - 2) * x"
   ]
  },
  {
   "cell_type": "code",
   "execution_count": 10,
   "metadata": {},
   "outputs": [],
   "source": [
    "our_roc = pickle.load(open('./actuary_files/our_roc_hhp.pickle'))"
   ]
  },
  {
   "cell_type": "code",
   "execution_count": 11,
   "metadata": {
    "collapsed": true
   },
   "outputs": [],
   "source": [
    "def plot_one_roc(auc, xvec, label):\n",
    "    plt.plot(xvec, auc_to_roc(auc, xvec), '--', alpha=0.7, label=label)\n",
    "    \n",
    "def plot_hosp_heart_disease():\n",
    "    # https://www.ncbi.nlm.nih.gov/pmc/articles/PMC4314395/ ; figure 3\n",
    "    points = [(0, 0), (0.04, 0.475), (0.05, 0.51), (0.09, 0.6),\n",
    "                (0.11, 0.64), (0.15, 0.69), (0.2, 0.74),\n",
    "                (0.28, 0.8), (0.36, 0.85), (0.48, 0.89), (0.56, 0.91),\n",
    "                (0.68, 0.94), (0.8, 0.96), (1,1)]\n",
    "    x, y = zip(*points)\n",
    "    f = interp1d(x, y)\n",
    "    xvec = np.linspace(0, 1, 100)\n",
    "    plt.plot(xvec, f(xvec), 'b--', alpha=0.7, label='hosp_hd 0.82')\n",
    "    \n",
    "def plot_our_hhp():\n",
    "    plt.plot(our_roc[0], our_roc[1], 'k-', alpha=0.7, label='our HHP')\n",
    "    \n",
    "def plot_all_research():\n",
    "    xvec = np.linspace(0, 1, 50)\n",
    "    \n",
    "    plot_one_roc(0.77, xvec, 'stroke auc=0.77')\n",
    "    \n",
    "    plot_hosp_heart_disease()\n",
    "    \n",
    "    plot_our_hhp()\n",
    "\n",
    "    # Recurrent stroke predictions\n",
    "    # https://bmcmedicine.biomedcentral.com/articles/10.1186/1741-7015-12-58\n",
    "\n",
    "    # ESSEN stroke risk score\n",
    "    plot_one_roc(0.6, xvec, 'ESRS auc=0.60')\n",
    "\n",
    "    # Stroke Prognosis Instrument II (SPI-II)\n",
    "    plot_one_roc(0.62, xvec, 'SPI-II auc=0.62')\n",
    "\n",
    "    # Recurrence Risk Estimator at 90 days (RRE-90)\n",
    "    plot_one_roc(0.72, xvec, 'RRE-90 (A1) auc=0.72')\n",
    "    plot_one_roc(0.59, xvec, 'RRE-90 (A2) auc=0.59')\n",
    "    plot_one_roc(0.75, xvec, 'RRE-90 (B) auc=0.75')\n",
    "\n",
    "    # Life Long After Cerebral ischemia (LiLAC)\n",
    "    plot_one_roc(0.65, xvec, 'LiLAC auc=0.65')\n",
    "\n",
    "    # ABCD2 score\n",
    "    plot_one_roc(0.60, xvec, 'ABCD2 (1) auc=0.60')\n",
    "    plot_one_roc(0.62, xvec, 'ABCD2 (2) auc=0.62') \n",
    "    \n",
    "    # Recurrent Cardiovascular Events\n",
    "    plot_one_roc(0.632, xvec, 'Modified Essen Score (1) auc=0.632')\n",
    "    plot_one_roc(0.64, xvec, 'Modified Essen Score (2) auc=0.640')\n",
    "\n",
    "    plt.legend(loc='lower right')\n",
    "    \n",
    "class PrevalenceAdjuster:\n",
    "    def __init__(self):\n",
    "        self._ratios_race_gender = pickle.load(open('./actuary_files/race_gender_ratios.pickle'))\n",
    "        \n",
    "    def race_gender(self, race_gender):\n",
    "        if race_gender == 'average distribution':\n",
    "            return 1\n",
    "        race_gender = race_gender.replace(' ', '_').replace('african-american', 'black')\n",
    "        return self._ratios_race_gender.loc[race_gender]\n",
    "    \n",
    "class LordOfRegressions(object):\n",
    "    def __init__(self, regression_results, feature_medians, feature_percentiles):\n",
    "        self._regressions = regression_results\n",
    "        self.medians = feature_medians\n",
    "        self._percentiles = feature_percentiles\n",
    "\n",
    "    def _logodds_mean_std(self, feature_values):\n",
    "        res_in_logodds = []\n",
    "        for reg_res in self._regressions:\n",
    "            features_here = reg_res.index.values\n",
    "            # the sum ignores nans (features not used in this regression)\n",
    "            res_in_logodds.append((reg_res.coef * feature_values).sum()) \n",
    "        logodds_mean = np.array(res_in_logodds).mean()\n",
    "        logodds_std = np.array(res_in_logodds).std()\n",
    "        return logodds_mean, logodds_std\n",
    "    \n",
    "    def use_all_regressions_by_percentile(self, percentiles):\n",
    "        if isinstance(percentiles, dict):\n",
    "            percentiles = pd.Series(percentiles)     \n",
    "        values = {k: self._percentiles[k][v] for k, v in percentiles.iteritems()}\n",
    "        return self.use_all_regressions(values)\n",
    "\n",
    "    def use_all_regressions(self, provided_features):\n",
    "        if isinstance(provided_features, dict):\n",
    "            provided_features = pd.Series(provided_features)\n",
    "\n",
    "        # start with the medians (bias included)\n",
    "        x = self.medians.copy()\n",
    "\n",
    "        # plug in the values for the subset of the provided features\n",
    "        for f, v in provided_features.iteritems():\n",
    "            x.loc[f] = v\n",
    "\n",
    "        # Run all the regressions with provided features\n",
    "        logodds_user_mean, logodds_user_std = self._logodds_mean_std(x)\n",
    "\n",
    "        # Run all the regressions with median values\n",
    "        logodds_median_mean, logodds_median_std = self._logodds_mean_std(self.medians)\n",
    "\n",
    "        # reference (disregard std?)\n",
    "        median_percent = expit(logodds_median_mean)\n",
    "\n",
    "        predicted_exact = expit(logodds_user_mean)\n",
    "        predicted_high = expit(logodds_user_mean + logodds_user_std)\n",
    "        predicted_low = expit(logodds_user_mean - logodds_user_std)\n",
    "\n",
    "        ratio = predicted_exact / median_percent\n",
    "        ratio_high = predicted_high / median_percent\n",
    "        ratio_low = predicted_low / median_percent\n",
    "\n",
    "        return ratio, ratio_high, ratio_low\n",
    "    \n",
    "def plot_profit_2_cats(daily_premium, \n",
    "                       cac, \n",
    "                       cost_for_sick, \n",
    "                       cost_for_healthy, \n",
    "                       base_prevalence, \n",
    "                       race_gender,\n",
    "                       HS_diploma,\n",
    "                       diabetes,\n",
    "                       obesity,\n",
    "                       poverty,\n",
    "                       heart_disease,\n",
    "                       plot_research, \n",
    "                       case,\n",
    "                       step):\n",
    "    plt.figure(figsize=(16, 8))\n",
    "    xvec = np.linspace(0, 1, 50)                               \n",
    "    x, y = np.meshgrid(xvec, xvec)\n",
    "    \n",
    "    values = dict(no_hsdip=100 - HS_diploma,\n",
    "                 dm_prev_adj=diabetes,\n",
    "                 ob_prev_adj=obesity,\n",
    "                 povpct=poverty,\n",
    "                 prev_hd=heart_disease)\n",
    "    race_gender_ratio = prevalence_adjuster.race_gender(race_gender)\n",
    "    other_ratio, other_ratio_high, other_ratio_low = lord_of_regressions.use_all_regressions_by_percentile(values)\n",
    "    if case == 'normal':\n",
    "        r = other_ratio\n",
    "    elif case == 'best':\n",
    "        r = other_ratio_low\n",
    "    elif case == 'worst':\n",
    "        r = other_ratio_high\n",
    "    else:\n",
    "        raise ValueError\n",
    "    print 'race & gender ratio {:.2f}'.format(race_gender_ratio)\n",
    "    print 'all other features ratio {:.2f}'.format(r)\n",
    "    adjusted_prevalence = base_prevalence * race_gender_ratio * r\n",
    "    \n",
    "    z = profit_per_patient(x, y, daily_premium, cac, cost_for_sick, cost_for_healthy, adjusted_prevalence)\n",
    "    v = range(int(np.nanmin(z))/step*step, int(np.nanmax(z))/step*step+step, step)\n",
    "    cs = plt.contourf(x, y, z, v, cmap=cm, norm=c_norm, origin='lower') \n",
    "    cs2 = plt.contour(cs, levels=cs.levels[::2], colors='b', origin='lower')\n",
    "    cbar = plt.colorbar(cs, norm=c_norm, shrink=0.9) \n",
    "    cbar.add_lines(cs2)\n",
    "\n",
    "    if plot_research:\n",
    "        plot_all_research()\n",
    "\n",
    "\n",
    "    plt.xlabel('False Positive Rate')\n",
    "    plt.ylabel('True Positive Rate')\n",
    "    s = 'Yearly profit per patient\\nBase Prevalence: {:.2f}%, Adjusted Prevalence {:.2f}%\\n'.format(base_prevalence,\n",
    "                                                                                                adjusted_prevalence)\n",
    "    s += 'healthy cost {:.0f}, sick cost {:.0f}'.format(cost_for_healthy, cost_for_sick)\n",
    "    plt.title(s)\n",
    "    plt.ylim(0, 1)\n",
    "    plt.show()\n",
    "    \n",
    "def plot_profit_4_cats(daily_premium, \n",
    "                       cac, \n",
    "                       cost0=0, \n",
    "                       cost1=1000,\n",
    "                       p1=0.05, \n",
    "                       cost2=5000, \n",
    "                       p2=0.03, \n",
    "                       cost3=10000, \n",
    "                       p3=0.02,\n",
    "                       **kwargs):\n",
    "    xvec = np.linspace(0, 1, 50)                               \n",
    "    x, y = np.meshgrid(xvec, xvec)\n",
    "    c_h, c_s, p_s, z = profit_per_patient_4_cats(x, \n",
    "                                                 y, \n",
    "                                                 daily_premium, \n",
    "                                                 cac, \n",
    "                                                 [cost0, cost1, cost2, cost3], \n",
    "                                                 [(1-p1-p2-p3), p1, p2, p3])\n",
    "    plot_profit_2_cats(daily_premium, cac, c_s, c_h, p_s, **kwargs)"
   ]
  },
  {
   "cell_type": "code",
   "execution_count": 12,
   "metadata": {
    "collapsed": true
   },
   "outputs": [],
   "source": [
    "prevalence_adjuster = PrevalenceAdjuster()"
   ]
  },
  {
   "cell_type": "code",
   "execution_count": 13,
   "metadata": {
    "collapsed": true
   },
   "outputs": [],
   "source": [
    "lord_of_regressions = pickle.load(open('./actuary_files/lord_of_regressions.pickle'))"
   ]
  },
  {
   "cell_type": "code",
   "execution_count": 14,
   "metadata": {
    "collapsed": true
   },
   "outputs": [],
   "source": [
    "medians = lord_of_regressions.medians"
   ]
  },
  {
   "cell_type": "code",
   "execution_count": 15,
   "metadata": {
    "collapsed": true
   },
   "outputs": [],
   "source": [
    "race_gender_options = ['average distribution', \n",
    "                    'white male', \n",
    "                    'white female', \n",
    "                    'african-american male', \n",
    "                    'african-american female', \n",
    "                    'hispanic female']"
   ]
  },
  {
   "cell_type": "code",
   "execution_count": 16,
   "metadata": {},
   "outputs": [
    {
     "name": "stderr",
     "output_type": "stream",
     "text": [
      "Widget Javascript not detected.  It may not be installed or enabled properly.\n"
     ]
    },
    {
     "data": {
      "application/vnd.jupyter.widget-view+json": {
       "model_id": "0344b97afb5c482595f586505e8696b5"
      }
     },
     "metadata": {},
     "output_type": "display_data"
    },
    {
     "data": {
      "text/plain": [
       "<function __main__.plot_profit_2_cats>"
      ]
     },
     "execution_count": 16,
     "metadata": {},
     "output_type": "execute_result"
    }
   ],
   "source": [
    "interact(plot_profit_2_cats, \n",
    "         daily_premium=FloatSlider(min=0, max=4, step=0.1, value=2),\n",
    "         cac=IntSlider(min=0, max=300, step=50, value=150),\n",
    "         cost_for_sick=IntSlider(min=0, max=15000, step=1000, value=7000),\n",
    "         cost_for_healthy=IntSlider(min=0, max=500, step=100, value=100),\n",
    "         base_prevalence=FloatSlider(min=0.1, max=3, step=0.1, value=1.5),\n",
    "         race_gender=race_gender_options,\n",
    "         HS_diploma=IntSlider(min=0, max=100, value=50),\n",
    "         diabetes=IntSlider(min=0, max=100, value=50),\n",
    "         obesity=IntSlider(min=0, max=100, value=50),\n",
    "         poverty=IntSlider(min=0, max=100, value=50),\n",
    "         heart_disease=IntSlider(min=0, max=100, value=50),\n",
    "         case=['normal', 'best', 'worst'],\n",
    "         plot_research=True,\n",
    "         step=IntSlider(min=25, max=100, value=25, step=25))"
   ]
  },
  {
   "cell_type": "code",
   "execution_count": null,
   "metadata": {
    "collapsed": true
   },
   "outputs": [],
   "source": []
  }
 ],
 "metadata": {
  "kernelspec": {
   "display_name": "Python 2",
   "language": "python",
   "name": "python2"
  },
  "language_info": {
   "codemirror_mode": {
    "name": "ipython",
    "version": 2
   },
   "file_extension": ".py",
   "mimetype": "text/x-python",
   "name": "python",
   "nbconvert_exporter": "python",
   "pygments_lexer": "ipython2",
   "version": "2.7.10"
  },
  "widgets": {
   "state": {
    "94abbc152491411f9907ffca18c97ac1": {
     "views": [
      {
       "cell_index": 11
      }
     ]
    },
    "ce27e1bf3f8349298eeabfe45f1de65c": {
     "views": [
      {
       "cell_index": 12
      }
     ]
    }
   },
   "version": "1.2.0"
  }
 },
 "nbformat": 4,
 "nbformat_minor": 2
}
