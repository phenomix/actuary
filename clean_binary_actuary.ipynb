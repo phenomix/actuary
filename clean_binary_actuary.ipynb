{
 "cells": [
  {
   "cell_type": "code",
   "execution_count": 33,
   "metadata": {
    "collapsed": false,
    "deletable": true,
    "editable": true
   },
   "outputs": [],
   "source": [
    "import numpy as np\n",
    "import pandas as pd\n",
    "import seaborn as sns\n",
    "import matplotlib.pyplot as plt\n",
    "\n",
    "sns.set()"
   ]
  },
  {
   "cell_type": "code",
   "execution_count": 34,
   "metadata": {
    "collapsed": true,
    "deletable": true,
    "editable": true
   },
   "outputs": [],
   "source": [
    "COST_FOR_SICK = 10000 # per year\n",
    "COST_FOR_HEALTHY = 500 # per year\n",
    "SICKNESS_PREVALENCE = 0.05"
   ]
  },
  {
   "cell_type": "raw",
   "metadata": {
    "deletable": true,
    "editable": true
   },
   "source": [
    "total_cost_because_of_sick = FN * cost_per_sick =\n",
    "\n",
    "= total_positives * (1 - tpr) * cost_per_sick =\n",
    "\n",
    "= N * prevalence * (1 - tpr) * cost_per_sick\n",
    "\n",
    "\n",
    "total_cost_because_of_healthy = TN * cost_per_health = \n",
    "\n",
    "= total_negatives * (1 - fpr) * cost_per_healthy =\n",
    "\n",
    "= N * (1 - prevalence) * (1 - fpr) * cost_per_healthy"
   ]
  },
  {
   "cell_type": "code",
   "execution_count": 178,
   "metadata": {
    "collapsed": true,
    "deletable": true,
    "editable": true
   },
   "outputs": [],
   "source": [
    "def average_cost_correctly_classified_healthy(p, fpr, cost_per_healthy):\n",
    "    return (1 - p) * (1 - fpr) * cost_per_healthy\n",
    "\n",
    "def average_cost_misclassified_sick(p, tpr, cost_per_sick):\n",
    "    return p * (1 - tpr) * cost_per_sick\n",
    "\n",
    "def total_enrolled(p, fpr, tpr):\n",
    "    total_sick_enrolled = p * (1 - tpr)\n",
    "    total_healthy_enrolled = (1 - p) * (1 - fpr)\n",
    "    return total_sick_enrolled + total_healthy_enrolled\n",
    "\n",
    "def average_premium_to_break_even(fpr, \n",
    "                                  tpr, \n",
    "                                  cost_for_sick=COST_FOR_SICK, \n",
    "                                  cost_for_healthy=COST_FOR_HEALTHY, \n",
    "                                  p=SICKNESS_PREVALENCE):\n",
    "    cost = average_cost_misclassified_sick(p, tpr, cost_for_sick)\n",
    "    cost += average_cost_correctly_classified_healthy(p, fpr, cost_for_healthy)\n",
    "    premium = cost / total_enrolled(p, fpr, tpr) / 12\n",
    "    if isinstance(fpr, numpy.ndarray):\n",
    "        premium[(tpr < fpr) | (tpr < 0.2)] = NaN\n",
    "    return premium\n",
    "\n",
    "def profit_per_patient(fpr, \n",
    "                       tpr, \n",
    "                       daily_premium,\n",
    "                       cac=0,\n",
    "                       cost_for_sick=COST_FOR_SICK, \n",
    "                       cost_for_healthy=COST_FOR_HEALTHY, \n",
    "                       p=SICKNESS_PREVALENCE):\n",
    "    # all values normalized to one person\n",
    "    cost = cac\n",
    "    cost += average_cost_misclassified_sick(p, tpr, cost_for_sick)\n",
    "    cost += average_cost_correctly_classified_healthy(p, fpr, cost_for_healthy)\n",
    "    profit_per_person = total_enrolled(p, fpr, tpr) * daily_premium * 365 - cost\n",
    "    if isinstance(fpr, np.ndarray):\n",
    "        profit_per_person[(tpr < fpr)] = np.NaN\n",
    "    return profit_per_person\n",
    "\n",
    "def from_4_cats_to_2(cs, ps):\n",
    "    assert len(cs) == 4\n",
    "    assert len(ps) == 4\n",
    "    if cs != sorted(cs):\n",
    "        print \"costs and prevalences must be from healthiest to sickest\"\n",
    "        return 0, 0, 0\n",
    "    \n",
    "    cost_for_healthy = cs[0] * ps[0] + cs[1] * ps[1]\n",
    "    if cost_for_healthy > 0:\n",
    "        cost_for_healthy /= (ps[0] + ps[1])\n",
    "    cost_for_sick = cs[2] * ps[2] + cs[3] * ps[3] \n",
    "    if cost_for_sick > 0:\n",
    "        cost_for_sick /= (ps[2] + ps[3])\n",
    "    p_sick = ps[2] + ps[3]\n",
    "    return cost_for_healthy, cost_for_sick, p_sick\n",
    "\n",
    "def profit_per_patient_4_cats(fpr, \n",
    "                       tpr, \n",
    "                       daily_premium,\n",
    "                       cac,\n",
    "                       costs,\n",
    "                       prevalences):\n",
    "    cost_for_healthy, cost_for_sick, p_sick = from_4_cats_to_2(costs, prevalences)\n",
    "    return cost_for_healthy, \\\n",
    "            cost_for_sick, \\\n",
    "            p_sick, \\\n",
    "            profit_per_patient(fpr, tpr, daily_premium, cac, cost_for_sick, cost_for_healthy, p_sick)\n"
   ]
  },
  {
   "cell_type": "code",
   "execution_count": 124,
   "metadata": {
    "collapsed": false
   },
   "outputs": [],
   "source": [
    "def small_mock_unit_tests():\n",
    "    # fpr == 0 means no healthy patient is denied insurance\n",
    "    # tpr == 0 means all exploding patients are insured\n",
    "    assert total_enrolled(p=0.1, fpr=0, tpr=0) == 1.0\n",
    "    x = profit_per_patient(fpr=0, \n",
    "                          tpr=0, \n",
    "                          daily_premium=1000.0/365, \n",
    "                          cost_for_sick=100, \n",
    "                          cost_for_healthy=1, \n",
    "                          p=0.1)\n",
    "    assert x == 1000 - 10 - 0.9, x\n",
    "    \n",
    "    # fpr == 0 means no healthy patient is denied insurance\n",
    "    # tpr == 1 means all exploding patient are denied insurance\n",
    "    assert total_enrolled(p=0.1, fpr=0, tpr=1) == 0.9\n",
    "    x = profit_per_patient(fpr=0, \n",
    "                          tpr=1, \n",
    "                          daily_premium=1000.0/365, \n",
    "                          cost_for_sick=100, \n",
    "                          cost_for_healthy=1, \n",
    "                          p=0.1)\n",
    "    assert x == 900 - 0.9, x\n",
    "    \n",
    "    # fpr == 1 means all healthy patients are denied insurance\n",
    "    # tpr == 1 means all exploding patients are denied insurance\n",
    "    assert total_enrolled(p=0.1, fpr=1, tpr=1) == 0\n",
    "    x = profit_per_patient(fpr=1, tpr=1, daily_premium=1000.0/365)\n",
    "    assert x == 0, x\n",
    "    \n",
    "    assert total_enrolled(p=0.1, fpr=0, tpr=1) == 0.9\n",
    "    x = profit_per_patient(fpr=0, \n",
    "                          tpr=1,\n",
    "                          cac=5,\n",
    "                          daily_premium=1000.0/365, \n",
    "                          cost_for_sick=100, \n",
    "                          cost_for_healthy=1, \n",
    "                          p=0.1)\n",
    "    assert x == 900 - 0.9 - 5, x\n",
    "    \n",
    "small_mock_unit_tests()"
   ]
  },
  {
   "cell_type": "code",
   "execution_count": 148,
   "metadata": {
    "collapsed": true
   },
   "outputs": [],
   "source": [
    "import matplotlib.colors as colors\n",
    "\n",
    "cm = plt.get_cmap('RdYlGn')\n",
    "c_norm = colors.Normalize(vmin=-500, vmax=500)"
   ]
  },
  {
   "cell_type": "code",
   "execution_count": 149,
   "metadata": {
    "collapsed": false,
    "deletable": true,
    "editable": true,
    "scrolled": false
   },
   "outputs": [],
   "source": [
    "# f, axs = plt.subplots(2, 2, figsize=(14, 14))\n",
    "# xvec = np.linspace(0, 1, 1000)                               \n",
    "# x, y = np.meshgrid(xvec, xvec)\n",
    "# for premium, ax in zip(range(4), axs.ravel()):\n",
    "#     z = profit_per_patient(x, y, premium)\n",
    "#     cs = ax.contourf(x, y, z, 100, cmap=cm, norm=c_norm) \n",
    "#     f.colorbar(cs, norm=c_norm, ax=ax, shrink=0.9) \n",
    "#\n",
    "#     ax.set_xlabel('fpr')\n",
    "#     ax.set_ylabel('tpr')\n",
    "#     ax.set_title('yearly profit per patient (premium = {}$/day)'.format(premium))\n",
    "# plt.show()"
   ]
  },
  {
   "cell_type": "code",
   "execution_count": 150,
   "metadata": {
    "collapsed": true,
    "deletable": true,
    "editable": true
   },
   "outputs": [],
   "source": [
    "from ipywidgets import interact"
   ]
  },
  {
   "cell_type": "code",
   "execution_count": 212,
   "metadata": {
    "collapsed": true
   },
   "outputs": [],
   "source": [
    "def auc_to_roc(auc, x=np.arange(0, 1, 0.01)):\n",
    "    # ax^2 + bx + c = 0\n",
    "    # passing through (0,0) and (1,1)\n",
    "    # with the integral equaling auc\n",
    "    return (3 - 6 * auc) * x * x + (6 * auc - 2) * x"
   ]
  },
  {
   "cell_type": "code",
   "execution_count": 219,
   "metadata": {
    "collapsed": true,
    "deletable": true,
    "editable": true
   },
   "outputs": [],
   "source": [
    "def plot_profit_2_cats(daily_premium, cac, cost_for_sick, cost_for_healthy, prevalence, plot_research=False, step=100):\n",
    "    xvec = np.linspace(0, 1, 50)                               \n",
    "    x, y = np.meshgrid(xvec, xvec)\n",
    "    z = profit_per_patient(x, y, daily_premium, cac, cost_for_sick, cost_for_healthy, prevalence)\n",
    "    v = range(int(np.nanmin(z))/step*step, int(np.nanmax(z))/step*step+step, step)\n",
    "    cs = plt.contourf(x, y, z, v, cmap=cm, norm=c_norm, origin='lower') \n",
    "    cs2 = plt.contour(cs, levels=cs.levels[::2], colors='b', origin='lower')\n",
    "    cbar = plt.colorbar(cs, norm=c_norm, shrink=0.9) \n",
    "    cbar.add_lines(cs2)\n",
    "\n",
    "    if plot_research:\n",
    "        plt.plot(xvec, auc_to_roc(0.77, xvec), 'k--', label='stroke auc=0.77')\n",
    "        plt.legend(loc='lower right')\n",
    "\n",
    "    plt.xlabel('fpr')\n",
    "    plt.ylabel('tpr')\n",
    "    plt.title('yearly profit per patient\\nhealthy cost {:.0f}, sick cost {:.0f}, p_sick {:.2f}'.format(\\\n",
    "                cost_for_healthy, cost_for_sick, prevalence))\n",
    "    plt.ylim(0, 1)\n",
    "    plt.show()\n",
    "    \n",
    "def plot_profit_4_cats(daily_premium, \n",
    "                       cac, \n",
    "                       cost0=0, \n",
    "                       cost1=1000,\n",
    "                       p1=0.05, \n",
    "                       cost2=5000, \n",
    "                       p2=0.03, \n",
    "                       cost3=10000, \n",
    "                       p3=0.02,\n",
    "                       **kwargs):\n",
    "    xvec = np.linspace(0, 1, 50)                               \n",
    "    x, y = np.meshgrid(xvec, xvec)\n",
    "    c_h, c_s, p_s, z = profit_per_patient_4_cats(x, \n",
    "                                                 y, \n",
    "                                                 daily_premium, \n",
    "                                                 cac, \n",
    "                                                 [cost0, cost1, cost2, cost3], \n",
    "                                                 [(1-p1-p2-p3), p1, p2, p3])\n",
    "    plot_profit_2_cats(daily_premium, cac, c_s, c_h, p_s, **kwargs)"
   ]
  },
  {
   "cell_type": "code",
   "execution_count": 217,
   "metadata": {
    "collapsed": false,
    "deletable": true,
    "editable": true
   },
   "outputs": [
    {
     "data": {
      "image/png": "[encoded data removed]",
      "text/plain": [
       "<matplotlib.figure.Figure at 0x11d093890>"
      ]
     },
     "metadata": {},
     "output_type": "display_data"
    },
    {
     "data": {
      "text/plain": [
       "<function __main__.plot_profit>"
      ]
     },
     "execution_count": 217,
     "metadata": {},
     "output_type": "execute_result"
    }
   ],
   "source": [
    "interact(plot_profit_2_cats, \n",
    "         daily_premium=(0, 4, 0.5),\n",
    "         cac=(0, 200, 10),\n",
    "         cost_for_sick=(5000, 20000, 5000),\n",
    "         cost_for_healthy=(0, 1000, 500),\n",
    "         prevalence=(0.01, 0.1, 0.01))"
   ]
  },
  {
   "cell_type": "code",
   "execution_count": 221,
   "metadata": {
    "collapsed": false
   },
   "outputs": [
    {
     "data": {
      "image/png": "[encoded data removed]",
      "text/plain": [
       "<matplotlib.figure.Figure at 0x113d7ca50>"
      ]
     },
     "metadata": {},
     "output_type": "display_data"
    }
   ],
   "source": [
    "interact(plot_profit_4_cats, \n",
    "         daily_premium=(0, 2, 0.1),\n",
    "         cac=(0, 200, 10),\n",
    "         cost0=(0, 10000, 100),\n",
    "         cost1=(0, 10000, 100),\n",
    "         p1=(0, 0.2, 0.01),\n",
    "         cost2=(0, 10000, 100),\n",
    "         p2=(0, 0.2, 0.01),\n",
    "         cost3=(0, 10000, 100),\n",
    "         p3=(0, 0.2, 0.01), \n",
    "         plot_research=True,\n",
    "         step=(50, 100, 50))"
   ]
  }
 ],
 "metadata": {
  "kernelspec": {
   "display_name": "Python 2",
   "language": "python",
   "name": "python2"
  },
  "language_info": {
   "codemirror_mode": {
    "name": "ipython",
    "version": 2
   },
   "file_extension": ".py",
   "mimetype": "text/x-python",
   "name": "python",
   "nbconvert_exporter": "python",
   "pygments_lexer": "ipython2",
   "version": "2.7.10"
  },
  "widgets": {
   "state": {
    "835a7c623b5e4d2284a52337029315e4": {
     "views": [
      {
       "cell_index": 8
      }
     ]
    },
    "a9e079b11d024f68bf4a946d0f83fcc8": {
     "views": [
      {
       "cell_index": 9
      }
     ]
    },
    "c2c97b96fd664d59be38f22f1dd1b779": {
     "views": [
      {
       "cell_index": 10
      }
     ]
    }
   },
   "version": "1.2.0"
  }
 },
 "nbformat": 4,
 "nbformat_minor": 2
}
