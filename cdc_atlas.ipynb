{
 "cells": [
  {
   "cell_type": "code",
   "execution_count": 2,
   "metadata": {},
   "outputs": [
    {
     "name": "stdout",
     "output_type": "stream",
     "text": [
      "Populating the interactive namespace from numpy and matplotlib\n"
     ]
    },
    {
     "name": "stderr",
     "output_type": "stream",
     "text": [
      "/Users/roee/workenv/lib/python2.7/site-packages/IPython/core/magics/pylab.py:161: UserWarning: pylab import has clobbered these variables: ['pylab']\n",
      "`%matplotlib` prevents importing * from pylab and numpy\n",
      "  \"\\n`%matplotlib` prevents importing * from pylab and numpy\"\n"
     ]
    }
   ],
   "source": [
    "import pandas as pd\n",
    "import pylab\n",
    "import seaborn as sns\n",
    "from glob import glob\n",
    "import re\n",
    "\n",
    "params = {'legend.fontsize': 'x-large',\n",
    "          'figure.figsize': (7, 5),\n",
    "         'axes.labelsize': 'x-large',\n",
    "          'axes.labelweight': 'bold',\n",
    "         'axes.titlesize':'x-large',\n",
    "          'axes.titleweight': 'bold',\n",
    "         'xtick.labelsize':'x-large',\n",
    "         'ytick.labelsize':'x-large'}\n",
    "pylab.rcParams.update(params)\n",
    "\n",
    "%pylab inline"
   ]
  },
  {
   "cell_type": "code",
   "execution_count": 3,
   "metadata": {
    "collapsed": true
   },
   "outputs": [],
   "source": [
    "from sklearn.preprocessing import StandardScaler, Imputer\n",
    "from sklearn.model_selection import train_test_split\n",
    "\n",
    "from scipy.special import expit, logit\n",
    "import statsmodels.formula.api as smf"
   ]
  },
  {
   "cell_type": "raw",
   "metadata": {},
   "source": [
    "https://nccd.cdc.gov/DHDSPAtlas/Default.aspx?state=TX"
   ]
  },
  {
   "cell_type": "markdown",
   "metadata": {},
   "source": [
    "# MI Texas"
   ]
  },
  {
   "cell_type": "code",
   "execution_count": 3,
   "metadata": {
    "scrolled": true
   },
   "outputs": [
    {
     "data": {
      "text/plain": [
       "['/Users/roee/work/texas/cdc/atlas/mi_death_2012_2014_35_plus_all_gender.csv',\n",
       " '/Users/roee/work/texas/cdc/atlas/mi_death_2012_2014_35_plus_female.csv',\n",
       " '/Users/roee/work/texas/cdc/atlas/mi_death_2012_2014_35_plus_male.csv',\n",
       " '/Users/roee/work/texas/cdc/atlas/mi_death_2012_2014_45_64_all_gender.csv',\n",
       " '/Users/roee/work/texas/cdc/atlas/mi_death_2012_2014_45_64_female.csv',\n",
       " '/Users/roee/work/texas/cdc/atlas/mi_death_2012_2014_45_64_male.csv',\n",
       " '/Users/roee/work/texas/cdc/atlas/mi_death_2012_2014_65_plus_all_gender.csv',\n",
       " '/Users/roee/work/texas/cdc/atlas/mi_death_2012_2014_65_plus_female.csv',\n",
       " '/Users/roee/work/texas/cdc/atlas/mi_death_2012_2014_65_plus_male.csv',\n",
       " '/Users/roee/work/texas/cdc/atlas/mi_death_2012_2014_all_ages_all_gender.csv',\n",
       " '/Users/roee/work/texas/cdc/atlas/mi_discharged_acute_care_2012_2014_65_plus_all_genders.csv',\n",
       " '/Users/roee/work/texas/cdc/atlas/mi_discharged_dead_2012_2014_65_plus_all_genders.csv',\n",
       " '/Users/roee/work/texas/cdc/atlas/mi_discharged_home_2012_2014_65_plus_all_genders.csv',\n",
       " '/Users/roee/work/texas/cdc/atlas/mi_discharged_other_2012_2014_65_plus_all_genders.csv',\n",
       " '/Users/roee/work/texas/cdc/atlas/mi_discharged_other_care_2012_2014_65_plus_all_genders.csv',\n",
       " '/Users/roee/work/texas/cdc/atlas/mi_hosp_2012_2014_65_plus_all_gender.csv',\n",
       " '/Users/roee/work/texas/cdc/atlas/mi_hosp_2012_2014_65_plus_female.csv',\n",
       " '/Users/roee/work/texas/cdc/atlas/mi_hosp_2012_2014_65_plus_male.csv']"
      ]
     },
     "execution_count": 3,
     "metadata": {},
     "output_type": "execute_result"
    }
   ],
   "source": [
    "fns = sorted(glob('/Users/roee/work/texas/cdc/atlas/*'))\n",
    "fns"
   ]
  },
  {
   "cell_type": "raw",
   "metadata": {},
   "source": [
    "We have hospitilizations, discharge status (5 values) and deaths"
   ]
  },
  {
   "cell_type": "markdown",
   "metadata": {},
   "source": [
    "##### Let's start by comparing hospitilizations of 65+ to claims data"
   ]
  },
  {
   "cell_type": "code",
   "execution_count": 141,
   "metadata": {},
   "outputs": [],
   "source": [
    "df = pd.read_csv('/Users/roee/work/texas/cdc/atlas/mi_hosp_2012_2014_65_plus_all_gender.csv').set_index('cnty_fips')\n",
    "df = df.rename(columns={'Value': 'hosp_all_gender_65+_per_mil'})"
   ]
  },
  {
   "cell_type": "code",
   "execution_count": 142,
   "metadata": {},
   "outputs": [],
   "source": [
    "for gender in ['male', 'female']:\n",
    "    x = pd.read_csv('/Users/roee/work/texas/cdc/atlas/mi_hosp_2012_2014_65_plus_{}.csv'.format(gender))\n",
    "    df['hosp_{}_65+_per_mil'.format(gender)] = x.set_index('cnty_fips')['Value']"
   ]
  },
  {
   "cell_type": "code",
   "execution_count": 143,
   "metadata": {
    "collapsed": true
   },
   "outputs": [],
   "source": [
    "df = df.replace(-1, nan)"
   ]
  },
  {
   "cell_type": "code",
   "execution_count": 144,
   "metadata": {},
   "outputs": [
    {
     "data": {
      "text/plain": [
       "(254, 57)"
      ]
     },
     "execution_count": 144,
     "metadata": {},
     "output_type": "execute_result"
    }
   ],
   "source": [
    "df.shape"
   ]
  },
  {
   "cell_type": "code",
   "execution_count": 145,
   "metadata": {},
   "outputs": [
    {
     "data": {
      "text/html": [
       "<div>\n",
       "<style>\n",
       "    .dataframe thead tr:only-child th {\n",
       "        text-align: right;\n",
       "    }\n",
       "\n",
       "    .dataframe thead th {\n",
       "        text-align: left;\n",
       "    }\n",
       "\n",
       "    .dataframe tbody tr th {\n",
       "        vertical-align: top;\n",
       "    }\n",
       "</style>\n",
       "<table border=\"1\" class=\"dataframe\">\n",
       "  <thead>\n",
       "    <tr style=\"text-align: right;\">\n",
       "      <th></th>\n",
       "      <th>display_name</th>\n",
       "      <th>hosp_all_gender_65+_per_mil</th>\n",
       "      <th>theme_range</th>\n",
       "      <th>dm_prev_adj</th>\n",
       "      <th>ob_prev_adj</th>\n",
       "      <th>ltpia_prev_adj</th>\n",
       "      <th>no_hsdip</th>\n",
       "      <th>no_college</th>\n",
       "      <th>female_hd</th>\n",
       "      <th>foodstmp</th>\n",
       "      <th>...</th>\n",
       "      <th>inp_cost</th>\n",
       "      <th>ou_cost</th>\n",
       "      <th>pac_cost</th>\n",
       "      <th>total_inc</th>\n",
       "      <th>inp_inc</th>\n",
       "      <th>ou_inc</th>\n",
       "      <th>pac_inc</th>\n",
       "      <th>prev_hd</th>\n",
       "      <th>hosp_male_65+_per_mil</th>\n",
       "      <th>hosp_female_65+_per_mil</th>\n",
       "    </tr>\n",
       "    <tr>\n",
       "      <th>cnty_fips</th>\n",
       "      <th></th>\n",
       "      <th></th>\n",
       "      <th></th>\n",
       "      <th></th>\n",
       "      <th></th>\n",
       "      <th></th>\n",
       "      <th></th>\n",
       "      <th></th>\n",
       "      <th></th>\n",
       "      <th></th>\n",
       "      <th></th>\n",
       "      <th></th>\n",
       "      <th></th>\n",
       "      <th></th>\n",
       "      <th></th>\n",
       "      <th></th>\n",
       "      <th></th>\n",
       "      <th></th>\n",
       "      <th></th>\n",
       "      <th></th>\n",
       "      <th></th>\n",
       "    </tr>\n",
       "  </thead>\n",
       "  <tbody>\n",
       "    <tr>\n",
       "      <th>48001</th>\n",
       "      <td>\"Anderson, (TX)\"</td>\n",
       "      <td>11.9</td>\n",
       "      <td>9.9 - 15.7 (35)</td>\n",
       "      <td>11.3</td>\n",
       "      <td>31.4</td>\n",
       "      <td>25.4</td>\n",
       "      <td>19.8</td>\n",
       "      <td>88.6</td>\n",
       "      <td>16.7</td>\n",
       "      <td>13.6</td>\n",
       "      <td>...</td>\n",
       "      <td>7010</td>\n",
       "      <td>3411</td>\n",
       "      <td>6890</td>\n",
       "      <td>13756</td>\n",
       "      <td>4378</td>\n",
       "      <td>1937</td>\n",
       "      <td>4214</td>\n",
       "      <td>24.3</td>\n",
       "      <td>15.5</td>\n",
       "      <td>9.3</td>\n",
       "    </tr>\n",
       "    <tr>\n",
       "      <th>48003</th>\n",
       "      <td>\"Andrews, (TX)\"</td>\n",
       "      <td>7.4</td>\n",
       "      <td>6.7 - 7.8 (37)</td>\n",
       "      <td>8.9</td>\n",
       "      <td>27.8</td>\n",
       "      <td>23.9</td>\n",
       "      <td>23.2</td>\n",
       "      <td>86.3</td>\n",
       "      <td>12.9</td>\n",
       "      <td>12.2</td>\n",
       "      <td>...</td>\n",
       "      <td>4874</td>\n",
       "      <td>3279</td>\n",
       "      <td>4366</td>\n",
       "      <td>10691</td>\n",
       "      <td>3194</td>\n",
       "      <td>1982</td>\n",
       "      <td>3204</td>\n",
       "      <td>16.0</td>\n",
       "      <td>NaN</td>\n",
       "      <td>NaN</td>\n",
       "    </tr>\n",
       "    <tr>\n",
       "      <th>48005</th>\n",
       "      <td>\"Angelina, (TX)\"</td>\n",
       "      <td>8.9</td>\n",
       "      <td>8.8 - 9.8 (40)</td>\n",
       "      <td>11.7</td>\n",
       "      <td>37.5</td>\n",
       "      <td>28.6</td>\n",
       "      <td>20.7</td>\n",
       "      <td>84.6</td>\n",
       "      <td>21.3</td>\n",
       "      <td>20.6</td>\n",
       "      <td>...</td>\n",
       "      <td>6575</td>\n",
       "      <td>3003</td>\n",
       "      <td>7625</td>\n",
       "      <td>14410</td>\n",
       "      <td>4040</td>\n",
       "      <td>1699</td>\n",
       "      <td>4929</td>\n",
       "      <td>21.8</td>\n",
       "      <td>10.7</td>\n",
       "      <td>7.7</td>\n",
       "    </tr>\n",
       "    <tr>\n",
       "      <th>48007</th>\n",
       "      <td>\"Aransas, (TX)\"</td>\n",
       "      <td>5.0</td>\n",
       "      <td>4.9 - 6.6 (40)</td>\n",
       "      <td>8.8</td>\n",
       "      <td>26.6</td>\n",
       "      <td>21.7</td>\n",
       "      <td>15.6</td>\n",
       "      <td>80.5</td>\n",
       "      <td>12.5</td>\n",
       "      <td>17.3</td>\n",
       "      <td>...</td>\n",
       "      <td>4753</td>\n",
       "      <td>2381</td>\n",
       "      <td>5151</td>\n",
       "      <td>11227</td>\n",
       "      <td>3051</td>\n",
       "      <td>1496</td>\n",
       "      <td>3594</td>\n",
       "      <td>16.7</td>\n",
       "      <td>7.0</td>\n",
       "      <td>NaN</td>\n",
       "    </tr>\n",
       "    <tr>\n",
       "      <th>48009</th>\n",
       "      <td>\"Archer, (TX)\"</td>\n",
       "      <td>9.1</td>\n",
       "      <td>8.8 - 9.8 (40)</td>\n",
       "      <td>8.5</td>\n",
       "      <td>26.4</td>\n",
       "      <td>23.9</td>\n",
       "      <td>12.7</td>\n",
       "      <td>79.7</td>\n",
       "      <td>6.2</td>\n",
       "      <td>5.8</td>\n",
       "      <td>...</td>\n",
       "      <td>5650</td>\n",
       "      <td>1871</td>\n",
       "      <td>6468</td>\n",
       "      <td>11291</td>\n",
       "      <td>3021</td>\n",
       "      <td>670</td>\n",
       "      <td>3804</td>\n",
       "      <td>24.1</td>\n",
       "      <td>NaN</td>\n",
       "      <td>NaN</td>\n",
       "    </tr>\n",
       "  </tbody>\n",
       "</table>\n",
       "<p>5 rows × 57 columns</p>\n",
       "</div>"
      ],
      "text/plain": [
       "               display_name  hosp_all_gender_65+_per_mil      theme_range  \\\n",
       "cnty_fips                                                                   \n",
       "48001      \"Anderson, (TX)\"                         11.9  9.9 - 15.7 (35)   \n",
       "48003       \"Andrews, (TX)\"                          7.4   6.7 - 7.8 (37)   \n",
       "48005      \"Angelina, (TX)\"                          8.9   8.8 - 9.8 (40)   \n",
       "48007       \"Aransas, (TX)\"                          5.0   4.9 - 6.6 (40)   \n",
       "48009        \"Archer, (TX)\"                          9.1   8.8 - 9.8 (40)   \n",
       "\n",
       "           dm_prev_adj  ob_prev_adj  ltpia_prev_adj  no_hsdip  no_college  \\\n",
       "cnty_fips                                                                   \n",
       "48001             11.3         31.4            25.4      19.8        88.6   \n",
       "48003              8.9         27.8            23.9      23.2        86.3   \n",
       "48005             11.7         37.5            28.6      20.7        84.6   \n",
       "48007              8.8         26.6            21.7      15.6        80.5   \n",
       "48009              8.5         26.4            23.9      12.7        79.7   \n",
       "\n",
       "           female_hd  foodstmp           ...             inp_cost  ou_cost  \\\n",
       "cnty_fips                                ...                                 \n",
       "48001           16.7      13.6           ...                 7010     3411   \n",
       "48003           12.9      12.2           ...                 4874     3279   \n",
       "48005           21.3      20.6           ...                 6575     3003   \n",
       "48007           12.5      17.3           ...                 4753     2381   \n",
       "48009            6.2       5.8           ...                 5650     1871   \n",
       "\n",
       "           pac_cost  total_inc  inp_inc  ou_inc  pac_inc  prev_hd  \\\n",
       "cnty_fips                                                           \n",
       "48001          6890      13756     4378    1937     4214     24.3   \n",
       "48003          4366      10691     3194    1982     3204     16.0   \n",
       "48005          7625      14410     4040    1699     4929     21.8   \n",
       "48007          5151      11227     3051    1496     3594     16.7   \n",
       "48009          6468      11291     3021     670     3804     24.1   \n",
       "\n",
       "           hosp_male_65+_per_mil  hosp_female_65+_per_mil  \n",
       "cnty_fips                                                  \n",
       "48001                       15.5                      9.3  \n",
       "48003                        NaN                      NaN  \n",
       "48005                       10.7                      7.7  \n",
       "48007                        7.0                      NaN  \n",
       "48009                        NaN                      NaN  \n",
       "\n",
       "[5 rows x 57 columns]"
      ]
     },
     "execution_count": 145,
     "metadata": {},
     "output_type": "execute_result"
    }
   ],
   "source": [
    "df.head()"
   ]
  },
  {
   "cell_type": "code",
   "execution_count": 146,
   "metadata": {},
   "outputs": [],
   "source": [
    "df['county'] = df.display_name.str.replace(', \\(TX\\)', '').str.replace('\\\"', '')"
   ]
  },
  {
   "cell_type": "code",
   "execution_count": 10,
   "metadata": {
    "scrolled": true
   },
   "outputs": [
    {
     "name": "stdout",
     "output_type": "stream",
     "text": [
      "display_name\n",
      "hosp_all_gender_65+_per_mil\n",
      "theme_range\n",
      "dm_prev_adj\n",
      "ob_prev_adj\n",
      "ltpia_prev_adj\n",
      "no_hsdip\n",
      "no_college\n",
      "female_hd\n",
      "foodstmp\n",
      "home_val\n",
      "income\n",
      "GINI\n",
      "povpct\n",
      "unemploy\n",
      "perc_aian\n",
      "perc_api\n",
      "perc_black\n",
      "perc_white\n",
      "perc_hisp\n",
      "perc_65up\n",
      "total_pop\n",
      "airqual\n",
      "PARKS\n",
      "sev_housing\n",
      "NCHS_collapse\n",
      "htnadh_all\n",
      "htnadh_white\n",
      "htnadh_black\n",
      "htnadh_api\n",
      "htnadh_aian\n",
      "htnadh_hisp\n",
      "diuradh\n",
      "rasadh\n",
      "stg_hosp\n",
      "stg_int_cr\n",
      "stg_rehab\n",
      "stg_emerg\n",
      "stg_neuro\n",
      "pharmpc\n",
      "prim_dr\n",
      "cvd_dr\n",
      "neuro_dr\n",
      "surg_dr\n",
      "pctui\n",
      "medicaid\n",
      "total_cost\n",
      "inp_cost\n",
      "ou_cost\n",
      "pac_cost\n",
      "total_inc\n",
      "inp_inc\n",
      "ou_inc\n",
      "pac_inc\n",
      "prev_hd\n",
      "hosp_male_65+_per_mil\n",
      "hosp_female_65+_per_mil\n",
      "county\n"
     ]
    }
   ],
   "source": [
    "print '\\n'.join(df.columns)"
   ]
  },
  {
   "cell_type": "code",
   "execution_count": 147,
   "metadata": {},
   "outputs": [],
   "source": [
    "df_rates = df[[c for c in df.columns if c.startswith('hosp') or c == 'county']]\n",
    "df_rates = df_rates.reset_index().set_index('county')"
   ]
  },
  {
   "cell_type": "code",
   "execution_count": 148,
   "metadata": {},
   "outputs": [
    {
     "data": {
      "text/html": [
       "<div>\n",
       "<style>\n",
       "    .dataframe thead tr:only-child th {\n",
       "        text-align: right;\n",
       "    }\n",
       "\n",
       "    .dataframe thead th {\n",
       "        text-align: left;\n",
       "    }\n",
       "\n",
       "    .dataframe tbody tr th {\n",
       "        vertical-align: top;\n",
       "    }\n",
       "</style>\n",
       "<table border=\"1\" class=\"dataframe\">\n",
       "  <thead>\n",
       "    <tr style=\"text-align: right;\">\n",
       "      <th></th>\n",
       "      <th>cnty_fips</th>\n",
       "      <th>hosp_all_gender_65+_per_mil</th>\n",
       "      <th>hosp_male_65+_per_mil</th>\n",
       "      <th>hosp_female_65+_per_mil</th>\n",
       "    </tr>\n",
       "    <tr>\n",
       "      <th>county</th>\n",
       "      <th></th>\n",
       "      <th></th>\n",
       "      <th></th>\n",
       "      <th></th>\n",
       "    </tr>\n",
       "  </thead>\n",
       "  <tbody>\n",
       "    <tr>\n",
       "      <th>Anderson</th>\n",
       "      <td>48001</td>\n",
       "      <td>11.9</td>\n",
       "      <td>15.5</td>\n",
       "      <td>9.3</td>\n",
       "    </tr>\n",
       "    <tr>\n",
       "      <th>Andrews</th>\n",
       "      <td>48003</td>\n",
       "      <td>7.4</td>\n",
       "      <td>NaN</td>\n",
       "      <td>NaN</td>\n",
       "    </tr>\n",
       "    <tr>\n",
       "      <th>Angelina</th>\n",
       "      <td>48005</td>\n",
       "      <td>8.9</td>\n",
       "      <td>10.7</td>\n",
       "      <td>7.7</td>\n",
       "    </tr>\n",
       "    <tr>\n",
       "      <th>Aransas</th>\n",
       "      <td>48007</td>\n",
       "      <td>5.0</td>\n",
       "      <td>7.0</td>\n",
       "      <td>NaN</td>\n",
       "    </tr>\n",
       "    <tr>\n",
       "      <th>Archer</th>\n",
       "      <td>48009</td>\n",
       "      <td>9.1</td>\n",
       "      <td>NaN</td>\n",
       "      <td>NaN</td>\n",
       "    </tr>\n",
       "    <tr>\n",
       "      <th>Armstrong</th>\n",
       "      <td>48011</td>\n",
       "      <td>NaN</td>\n",
       "      <td>NaN</td>\n",
       "      <td>NaN</td>\n",
       "    </tr>\n",
       "    <tr>\n",
       "      <th>Atascosa</th>\n",
       "      <td>48013</td>\n",
       "      <td>11.6</td>\n",
       "      <td>13.7</td>\n",
       "      <td>9.9</td>\n",
       "    </tr>\n",
       "    <tr>\n",
       "      <th>Austin</th>\n",
       "      <td>48015</td>\n",
       "      <td>7.8</td>\n",
       "      <td>10.9</td>\n",
       "      <td>5.4</td>\n",
       "    </tr>\n",
       "    <tr>\n",
       "      <th>Bailey</th>\n",
       "      <td>48017</td>\n",
       "      <td>NaN</td>\n",
       "      <td>NaN</td>\n",
       "      <td>NaN</td>\n",
       "    </tr>\n",
       "    <tr>\n",
       "      <th>Bandera</th>\n",
       "      <td>48019</td>\n",
       "      <td>6.4</td>\n",
       "      <td>7.8</td>\n",
       "      <td>4.9</td>\n",
       "    </tr>\n",
       "    <tr>\n",
       "      <th>Bastrop</th>\n",
       "      <td>48021</td>\n",
       "      <td>7.1</td>\n",
       "      <td>8.6</td>\n",
       "      <td>5.9</td>\n",
       "    </tr>\n",
       "    <tr>\n",
       "      <th>Baylor</th>\n",
       "      <td>48023</td>\n",
       "      <td>NaN</td>\n",
       "      <td>NaN</td>\n",
       "      <td>NaN</td>\n",
       "    </tr>\n",
       "    <tr>\n",
       "      <th>Bee</th>\n",
       "      <td>48025</td>\n",
       "      <td>8.6</td>\n",
       "      <td>10.9</td>\n",
       "      <td>7.4</td>\n",
       "    </tr>\n",
       "    <tr>\n",
       "      <th>Bell</th>\n",
       "      <td>48027</td>\n",
       "      <td>9.2</td>\n",
       "      <td>10.3</td>\n",
       "      <td>8.2</td>\n",
       "    </tr>\n",
       "    <tr>\n",
       "      <th>Bexar</th>\n",
       "      <td>48029</td>\n",
       "      <td>6.7</td>\n",
       "      <td>7.9</td>\n",
       "      <td>5.7</td>\n",
       "    </tr>\n",
       "    <tr>\n",
       "      <th>Blanco</th>\n",
       "      <td>48031</td>\n",
       "      <td>5.5</td>\n",
       "      <td>7.4</td>\n",
       "      <td>NaN</td>\n",
       "    </tr>\n",
       "    <tr>\n",
       "      <th>Borden</th>\n",
       "      <td>48033</td>\n",
       "      <td>NaN</td>\n",
       "      <td>NaN</td>\n",
       "      <td>NaN</td>\n",
       "    </tr>\n",
       "    <tr>\n",
       "      <th>Bosque</th>\n",
       "      <td>48035</td>\n",
       "      <td>7.4</td>\n",
       "      <td>9.5</td>\n",
       "      <td>5.8</td>\n",
       "    </tr>\n",
       "    <tr>\n",
       "      <th>Bowie</th>\n",
       "      <td>48037</td>\n",
       "      <td>7.9</td>\n",
       "      <td>10.2</td>\n",
       "      <td>6.2</td>\n",
       "    </tr>\n",
       "    <tr>\n",
       "      <th>Brazoria</th>\n",
       "      <td>48039</td>\n",
       "      <td>7.3</td>\n",
       "      <td>9.4</td>\n",
       "      <td>5.6</td>\n",
       "    </tr>\n",
       "    <tr>\n",
       "      <th>Brazos</th>\n",
       "      <td>48041</td>\n",
       "      <td>5.3</td>\n",
       "      <td>6.2</td>\n",
       "      <td>4.6</td>\n",
       "    </tr>\n",
       "    <tr>\n",
       "      <th>Brewster</th>\n",
       "      <td>48043</td>\n",
       "      <td>NaN</td>\n",
       "      <td>NaN</td>\n",
       "      <td>NaN</td>\n",
       "    </tr>\n",
       "    <tr>\n",
       "      <th>Briscoe</th>\n",
       "      <td>48045</td>\n",
       "      <td>NaN</td>\n",
       "      <td>NaN</td>\n",
       "      <td>NaN</td>\n",
       "    </tr>\n",
       "    <tr>\n",
       "      <th>Brooks</th>\n",
       "      <td>48047</td>\n",
       "      <td>10.8</td>\n",
       "      <td>NaN</td>\n",
       "      <td>NaN</td>\n",
       "    </tr>\n",
       "    <tr>\n",
       "      <th>Brown</th>\n",
       "      <td>48049</td>\n",
       "      <td>6.4</td>\n",
       "      <td>8.9</td>\n",
       "      <td>4.5</td>\n",
       "    </tr>\n",
       "    <tr>\n",
       "      <th>Burleson</th>\n",
       "      <td>48051</td>\n",
       "      <td>5.9</td>\n",
       "      <td>NaN</td>\n",
       "      <td>6.1</td>\n",
       "    </tr>\n",
       "    <tr>\n",
       "      <th>Burnet</th>\n",
       "      <td>48053</td>\n",
       "      <td>5.9</td>\n",
       "      <td>6.9</td>\n",
       "      <td>4.9</td>\n",
       "    </tr>\n",
       "    <tr>\n",
       "      <th>Caldwell</th>\n",
       "      <td>48055</td>\n",
       "      <td>8.7</td>\n",
       "      <td>11.3</td>\n",
       "      <td>6.4</td>\n",
       "    </tr>\n",
       "    <tr>\n",
       "      <th>Calhoun</th>\n",
       "      <td>48057</td>\n",
       "      <td>8.6</td>\n",
       "      <td>9.7</td>\n",
       "      <td>7.5</td>\n",
       "    </tr>\n",
       "    <tr>\n",
       "      <th>Callahan</th>\n",
       "      <td>48059</td>\n",
       "      <td>8.0</td>\n",
       "      <td>9.2</td>\n",
       "      <td>6.6</td>\n",
       "    </tr>\n",
       "    <tr>\n",
       "      <th>...</th>\n",
       "      <td>...</td>\n",
       "      <td>...</td>\n",
       "      <td>...</td>\n",
       "      <td>...</td>\n",
       "    </tr>\n",
       "    <tr>\n",
       "      <th>Titus</th>\n",
       "      <td>48449</td>\n",
       "      <td>8.9</td>\n",
       "      <td>11.0</td>\n",
       "      <td>7.1</td>\n",
       "    </tr>\n",
       "    <tr>\n",
       "      <th>Tom Green</th>\n",
       "      <td>48451</td>\n",
       "      <td>8.2</td>\n",
       "      <td>10.5</td>\n",
       "      <td>6.2</td>\n",
       "    </tr>\n",
       "    <tr>\n",
       "      <th>Travis</th>\n",
       "      <td>48453</td>\n",
       "      <td>5.1</td>\n",
       "      <td>6.4</td>\n",
       "      <td>4.2</td>\n",
       "    </tr>\n",
       "    <tr>\n",
       "      <th>Trinity</th>\n",
       "      <td>48455</td>\n",
       "      <td>6.3</td>\n",
       "      <td>8.4</td>\n",
       "      <td>NaN</td>\n",
       "    </tr>\n",
       "    <tr>\n",
       "      <th>Tyler</th>\n",
       "      <td>48457</td>\n",
       "      <td>9.8</td>\n",
       "      <td>9.7</td>\n",
       "      <td>9.6</td>\n",
       "    </tr>\n",
       "    <tr>\n",
       "      <th>Upshur</th>\n",
       "      <td>48459</td>\n",
       "      <td>9.9</td>\n",
       "      <td>12.5</td>\n",
       "      <td>7.8</td>\n",
       "    </tr>\n",
       "    <tr>\n",
       "      <th>Upton</th>\n",
       "      <td>48461</td>\n",
       "      <td>NaN</td>\n",
       "      <td>NaN</td>\n",
       "      <td>NaN</td>\n",
       "    </tr>\n",
       "    <tr>\n",
       "      <th>Uvalde</th>\n",
       "      <td>48463</td>\n",
       "      <td>10.4</td>\n",
       "      <td>12.7</td>\n",
       "      <td>8.6</td>\n",
       "    </tr>\n",
       "    <tr>\n",
       "      <th>Val Verde</th>\n",
       "      <td>48465</td>\n",
       "      <td>11.2</td>\n",
       "      <td>13.4</td>\n",
       "      <td>9.1</td>\n",
       "    </tr>\n",
       "    <tr>\n",
       "      <th>Van Zandt</th>\n",
       "      <td>48467</td>\n",
       "      <td>9.7</td>\n",
       "      <td>11.8</td>\n",
       "      <td>7.9</td>\n",
       "    </tr>\n",
       "    <tr>\n",
       "      <th>Victoria</th>\n",
       "      <td>48469</td>\n",
       "      <td>9.9</td>\n",
       "      <td>12.0</td>\n",
       "      <td>8.2</td>\n",
       "    </tr>\n",
       "    <tr>\n",
       "      <th>Walker</th>\n",
       "      <td>48471</td>\n",
       "      <td>7.3</td>\n",
       "      <td>8.6</td>\n",
       "      <td>6.2</td>\n",
       "    </tr>\n",
       "    <tr>\n",
       "      <th>Waller</th>\n",
       "      <td>48473</td>\n",
       "      <td>6.8</td>\n",
       "      <td>11.1</td>\n",
       "      <td>NaN</td>\n",
       "    </tr>\n",
       "    <tr>\n",
       "      <th>Ward</th>\n",
       "      <td>48475</td>\n",
       "      <td>6.7</td>\n",
       "      <td>NaN</td>\n",
       "      <td>NaN</td>\n",
       "    </tr>\n",
       "    <tr>\n",
       "      <th>Washington</th>\n",
       "      <td>48477</td>\n",
       "      <td>6.7</td>\n",
       "      <td>6.7</td>\n",
       "      <td>6.5</td>\n",
       "    </tr>\n",
       "    <tr>\n",
       "      <th>Webb</th>\n",
       "      <td>48479</td>\n",
       "      <td>5.8</td>\n",
       "      <td>7.6</td>\n",
       "      <td>4.4</td>\n",
       "    </tr>\n",
       "    <tr>\n",
       "      <th>Wharton</th>\n",
       "      <td>48481</td>\n",
       "      <td>8.9</td>\n",
       "      <td>10.6</td>\n",
       "      <td>7.7</td>\n",
       "    </tr>\n",
       "    <tr>\n",
       "      <th>Wheeler</th>\n",
       "      <td>48483</td>\n",
       "      <td>10.6</td>\n",
       "      <td>NaN</td>\n",
       "      <td>NaN</td>\n",
       "    </tr>\n",
       "    <tr>\n",
       "      <th>Wichita</th>\n",
       "      <td>48485</td>\n",
       "      <td>5.9</td>\n",
       "      <td>7.7</td>\n",
       "      <td>4.6</td>\n",
       "    </tr>\n",
       "    <tr>\n",
       "      <th>Wilbarger</th>\n",
       "      <td>48487</td>\n",
       "      <td>14.7</td>\n",
       "      <td>18.0</td>\n",
       "      <td>11.6</td>\n",
       "    </tr>\n",
       "    <tr>\n",
       "      <th>Willacy</th>\n",
       "      <td>48489</td>\n",
       "      <td>8.6</td>\n",
       "      <td>9.5</td>\n",
       "      <td>8.3</td>\n",
       "    </tr>\n",
       "    <tr>\n",
       "      <th>Williamson</th>\n",
       "      <td>48491</td>\n",
       "      <td>5.4</td>\n",
       "      <td>6.4</td>\n",
       "      <td>4.6</td>\n",
       "    </tr>\n",
       "    <tr>\n",
       "      <th>Wilson</th>\n",
       "      <td>48493</td>\n",
       "      <td>8.0</td>\n",
       "      <td>9.4</td>\n",
       "      <td>7.4</td>\n",
       "    </tr>\n",
       "    <tr>\n",
       "      <th>Winkler</th>\n",
       "      <td>48495</td>\n",
       "      <td>9.6</td>\n",
       "      <td>NaN</td>\n",
       "      <td>NaN</td>\n",
       "    </tr>\n",
       "    <tr>\n",
       "      <th>Wise</th>\n",
       "      <td>48497</td>\n",
       "      <td>12.0</td>\n",
       "      <td>16.1</td>\n",
       "      <td>8.8</td>\n",
       "    </tr>\n",
       "    <tr>\n",
       "      <th>Wood</th>\n",
       "      <td>48499</td>\n",
       "      <td>8.5</td>\n",
       "      <td>11.2</td>\n",
       "      <td>6.5</td>\n",
       "    </tr>\n",
       "    <tr>\n",
       "      <th>Yoakum</th>\n",
       "      <td>48501</td>\n",
       "      <td>9.6</td>\n",
       "      <td>NaN</td>\n",
       "      <td>NaN</td>\n",
       "    </tr>\n",
       "    <tr>\n",
       "      <th>Young</th>\n",
       "      <td>48503</td>\n",
       "      <td>6.9</td>\n",
       "      <td>7.9</td>\n",
       "      <td>6.1</td>\n",
       "    </tr>\n",
       "    <tr>\n",
       "      <th>Zapata</th>\n",
       "      <td>48505</td>\n",
       "      <td>7.2</td>\n",
       "      <td>12.0</td>\n",
       "      <td>NaN</td>\n",
       "    </tr>\n",
       "    <tr>\n",
       "      <th>Zavala</th>\n",
       "      <td>48507</td>\n",
       "      <td>8.2</td>\n",
       "      <td>NaN</td>\n",
       "      <td>NaN</td>\n",
       "    </tr>\n",
       "  </tbody>\n",
       "</table>\n",
       "<p>254 rows × 4 columns</p>\n",
       "</div>"
      ],
      "text/plain": [
       "            cnty_fips  hosp_all_gender_65+_per_mil  hosp_male_65+_per_mil  \\\n",
       "county                                                                      \n",
       "Anderson        48001                         11.9                   15.5   \n",
       "Andrews         48003                          7.4                    NaN   \n",
       "Angelina        48005                          8.9                   10.7   \n",
       "Aransas         48007                          5.0                    7.0   \n",
       "Archer          48009                          9.1                    NaN   \n",
       "Armstrong       48011                          NaN                    NaN   \n",
       "Atascosa        48013                         11.6                   13.7   \n",
       "Austin          48015                          7.8                   10.9   \n",
       "Bailey          48017                          NaN                    NaN   \n",
       "Bandera         48019                          6.4                    7.8   \n",
       "Bastrop         48021                          7.1                    8.6   \n",
       "Baylor          48023                          NaN                    NaN   \n",
       "Bee             48025                          8.6                   10.9   \n",
       "Bell            48027                          9.2                   10.3   \n",
       "Bexar           48029                          6.7                    7.9   \n",
       "Blanco          48031                          5.5                    7.4   \n",
       "Borden          48033                          NaN                    NaN   \n",
       "Bosque          48035                          7.4                    9.5   \n",
       "Bowie           48037                          7.9                   10.2   \n",
       "Brazoria        48039                          7.3                    9.4   \n",
       "Brazos          48041                          5.3                    6.2   \n",
       "Brewster        48043                          NaN                    NaN   \n",
       "Briscoe         48045                          NaN                    NaN   \n",
       "Brooks          48047                         10.8                    NaN   \n",
       "Brown           48049                          6.4                    8.9   \n",
       "Burleson        48051                          5.9                    NaN   \n",
       "Burnet          48053                          5.9                    6.9   \n",
       "Caldwell        48055                          8.7                   11.3   \n",
       "Calhoun         48057                          8.6                    9.7   \n",
       "Callahan        48059                          8.0                    9.2   \n",
       "...               ...                          ...                    ...   \n",
       "Titus           48449                          8.9                   11.0   \n",
       "Tom Green       48451                          8.2                   10.5   \n",
       "Travis          48453                          5.1                    6.4   \n",
       "Trinity         48455                          6.3                    8.4   \n",
       "Tyler           48457                          9.8                    9.7   \n",
       "Upshur          48459                          9.9                   12.5   \n",
       "Upton           48461                          NaN                    NaN   \n",
       "Uvalde          48463                         10.4                   12.7   \n",
       "Val Verde       48465                         11.2                   13.4   \n",
       "Van Zandt       48467                          9.7                   11.8   \n",
       "Victoria        48469                          9.9                   12.0   \n",
       "Walker          48471                          7.3                    8.6   \n",
       "Waller          48473                          6.8                   11.1   \n",
       "Ward            48475                          6.7                    NaN   \n",
       "Washington      48477                          6.7                    6.7   \n",
       "Webb            48479                          5.8                    7.6   \n",
       "Wharton         48481                          8.9                   10.6   \n",
       "Wheeler         48483                         10.6                    NaN   \n",
       "Wichita         48485                          5.9                    7.7   \n",
       "Wilbarger       48487                         14.7                   18.0   \n",
       "Willacy         48489                          8.6                    9.5   \n",
       "Williamson      48491                          5.4                    6.4   \n",
       "Wilson          48493                          8.0                    9.4   \n",
       "Winkler         48495                          9.6                    NaN   \n",
       "Wise            48497                         12.0                   16.1   \n",
       "Wood            48499                          8.5                   11.2   \n",
       "Yoakum          48501                          9.6                    NaN   \n",
       "Young           48503                          6.9                    7.9   \n",
       "Zapata          48505                          7.2                   12.0   \n",
       "Zavala          48507                          8.2                    NaN   \n",
       "\n",
       "            hosp_female_65+_per_mil  \n",
       "county                               \n",
       "Anderson                        9.3  \n",
       "Andrews                         NaN  \n",
       "Angelina                        7.7  \n",
       "Aransas                         NaN  \n",
       "Archer                          NaN  \n",
       "Armstrong                       NaN  \n",
       "Atascosa                        9.9  \n",
       "Austin                          5.4  \n",
       "Bailey                          NaN  \n",
       "Bandera                         4.9  \n",
       "Bastrop                         5.9  \n",
       "Baylor                          NaN  \n",
       "Bee                             7.4  \n",
       "Bell                            8.2  \n",
       "Bexar                           5.7  \n",
       "Blanco                          NaN  \n",
       "Borden                          NaN  \n",
       "Bosque                          5.8  \n",
       "Bowie                           6.2  \n",
       "Brazoria                        5.6  \n",
       "Brazos                          4.6  \n",
       "Brewster                        NaN  \n",
       "Briscoe                         NaN  \n",
       "Brooks                          NaN  \n",
       "Brown                           4.5  \n",
       "Burleson                        6.1  \n",
       "Burnet                          4.9  \n",
       "Caldwell                        6.4  \n",
       "Calhoun                         7.5  \n",
       "Callahan                        6.6  \n",
       "...                             ...  \n",
       "Titus                           7.1  \n",
       "Tom Green                       6.2  \n",
       "Travis                          4.2  \n",
       "Trinity                         NaN  \n",
       "Tyler                           9.6  \n",
       "Upshur                          7.8  \n",
       "Upton                           NaN  \n",
       "Uvalde                          8.6  \n",
       "Val Verde                       9.1  \n",
       "Van Zandt                       7.9  \n",
       "Victoria                        8.2  \n",
       "Walker                          6.2  \n",
       "Waller                          NaN  \n",
       "Ward                            NaN  \n",
       "Washington                      6.5  \n",
       "Webb                            4.4  \n",
       "Wharton                         7.7  \n",
       "Wheeler                         NaN  \n",
       "Wichita                         4.6  \n",
       "Wilbarger                      11.6  \n",
       "Willacy                         8.3  \n",
       "Williamson                      4.6  \n",
       "Wilson                          7.4  \n",
       "Winkler                         NaN  \n",
       "Wise                            8.8  \n",
       "Wood                            6.5  \n",
       "Yoakum                          NaN  \n",
       "Young                           6.1  \n",
       "Zapata                          NaN  \n",
       "Zavala                          NaN  \n",
       "\n",
       "[254 rows x 4 columns]"
      ]
     },
     "execution_count": 148,
     "metadata": {},
     "output_type": "execute_result"
    }
   ],
   "source": [
    "df_rates"
   ]
  },
  {
   "cell_type": "code",
   "execution_count": 13,
   "metadata": {},
   "outputs": [],
   "source": [
    "df_claims_rate = pd.read_csv('~/work/texas/claims/rate_280_285_by_county_65+.csv', header=None)\n",
    "df_claims_rate = df_claims_rate.rename(columns={0: 'county', 1: 'claims_drg_rate'})\n",
    "df_claims_rate.county = df_claims_rate.county.str.replace(', Texas', '')\n",
    "df_claims_rate = df_claims_rate.set_index('county')"
   ]
  },
  {
   "cell_type": "code",
   "execution_count": 14,
   "metadata": {},
   "outputs": [
    {
     "data": {
      "text/html": [
       "<div>\n",
       "<style>\n",
       "    .dataframe thead tr:only-child th {\n",
       "        text-align: right;\n",
       "    }\n",
       "\n",
       "    .dataframe thead th {\n",
       "        text-align: left;\n",
       "    }\n",
       "\n",
       "    .dataframe tbody tr th {\n",
       "        vertical-align: top;\n",
       "    }\n",
       "</style>\n",
       "<table border=\"1\" class=\"dataframe\">\n",
       "  <thead>\n",
       "    <tr style=\"text-align: right;\">\n",
       "      <th></th>\n",
       "      <th>claims_drg_rate</th>\n",
       "    </tr>\n",
       "    <tr>\n",
       "      <th>county</th>\n",
       "      <th></th>\n",
       "    </tr>\n",
       "  </thead>\n",
       "  <tbody>\n",
       "    <tr>\n",
       "      <th>Anderson</th>\n",
       "      <td>0.734797</td>\n",
       "    </tr>\n",
       "    <tr>\n",
       "      <th>Andrews</th>\n",
       "      <td>0.707563</td>\n",
       "    </tr>\n",
       "    <tr>\n",
       "      <th>Angelina</th>\n",
       "      <td>0.418101</td>\n",
       "    </tr>\n",
       "  </tbody>\n",
       "</table>\n",
       "</div>"
      ],
      "text/plain": [
       "          claims_drg_rate\n",
       "county                   \n",
       "Anderson         0.734797\n",
       "Andrews          0.707563\n",
       "Angelina         0.418101"
      ]
     },
     "execution_count": 14,
     "metadata": {},
     "output_type": "execute_result"
    }
   ],
   "source": [
    "df_claims_rate.head(3)"
   ]
  },
  {
   "cell_type": "code",
   "execution_count": 15,
   "metadata": {},
   "outputs": [],
   "source": [
    "df_rates['claims_drg'] = (df_claims_rate.claims_drg_rate * 10).round(1)"
   ]
  },
  {
   "cell_type": "code",
   "execution_count": 16,
   "metadata": {},
   "outputs": [],
   "source": [
    "claims_icd = pd.read_csv('/Users/roee/work/texas/series_mi_icd_65+_rate.csv', header=None)\n",
    "claims_icd = claims_icd.rename(columns={0: 'county', 1: 'claims_icd'})\n",
    "\n",
    "claims_icd['county'] = claims_icd.county.str.replace(', Texas', '')\n",
    "claims_icd = claims_icd.set_index('county')"
   ]
  },
  {
   "cell_type": "code",
   "execution_count": 17,
   "metadata": {},
   "outputs": [],
   "source": [
    "df_rates['claims_icd'] = (claims_icd * 10).round(1)"
   ]
  },
  {
   "cell_type": "code",
   "execution_count": 18,
   "metadata": {},
   "outputs": [],
   "source": [
    "county_pop = pd.read_csv('/Users/roee/work/texas/county_pop_2012.csv', header=None)\n",
    "county_pop = county_pop.rename(columns={0: 'county', 1: 'claims_icd'})\n",
    "county_pop.county = county_pop.county.str.replace(', Texas', '')\n",
    "county_pop = county_pop.set_index('county')\n",
    "df_rates['population'] = county_pop.round(0)"
   ]
  },
  {
   "cell_type": "code",
   "execution_count": 19,
   "metadata": {},
   "outputs": [],
   "source": [
    "df_rates = df_rates.sort_values('population', ascending=False)"
   ]
  },
  {
   "cell_type": "code",
   "execution_count": 20,
   "metadata": {
    "scrolled": true
   },
   "outputs": [
    {
     "data": {
      "text/html": [
       "<div>\n",
       "<style>\n",
       "    .dataframe thead tr:only-child th {\n",
       "        text-align: right;\n",
       "    }\n",
       "\n",
       "    .dataframe thead th {\n",
       "        text-align: left;\n",
       "    }\n",
       "\n",
       "    .dataframe tbody tr th {\n",
       "        vertical-align: top;\n",
       "    }\n",
       "</style>\n",
       "<table border=\"1\" class=\"dataframe\">\n",
       "  <thead>\n",
       "    <tr style=\"text-align: right;\">\n",
       "      <th></th>\n",
       "      <th>cnty_fips</th>\n",
       "      <th>hosp_all_gender_65+_per_mil</th>\n",
       "      <th>hosp_male_65+_per_mil</th>\n",
       "      <th>hosp_female_65+_per_mil</th>\n",
       "      <th>claims_drg</th>\n",
       "      <th>claims_icd</th>\n",
       "      <th>population</th>\n",
       "    </tr>\n",
       "    <tr>\n",
       "      <th>county</th>\n",
       "      <th></th>\n",
       "      <th></th>\n",
       "      <th></th>\n",
       "      <th></th>\n",
       "      <th></th>\n",
       "      <th></th>\n",
       "      <th></th>\n",
       "    </tr>\n",
       "  </thead>\n",
       "  <tbody>\n",
       "    <tr>\n",
       "      <th>Harris</th>\n",
       "      <td>48201</td>\n",
       "      <td>7.1</td>\n",
       "      <td>8.4</td>\n",
       "      <td>6.1</td>\n",
       "      <td>2.8</td>\n",
       "      <td>8.8</td>\n",
       "      <td>4243880.0</td>\n",
       "    </tr>\n",
       "    <tr>\n",
       "      <th>Dallas</th>\n",
       "      <td>48113</td>\n",
       "      <td>5.9</td>\n",
       "      <td>7.5</td>\n",
       "      <td>4.8</td>\n",
       "      <td>2.4</td>\n",
       "      <td>8.5</td>\n",
       "      <td>2427342.0</td>\n",
       "    </tr>\n",
       "    <tr>\n",
       "      <th>Tarrant</th>\n",
       "      <td>48439</td>\n",
       "      <td>7.5</td>\n",
       "      <td>9.5</td>\n",
       "      <td>5.9</td>\n",
       "      <td>2.5</td>\n",
       "      <td>8.8</td>\n",
       "      <td>1875968.0</td>\n",
       "    </tr>\n",
       "    <tr>\n",
       "      <th>Bexar</th>\n",
       "      <td>48029</td>\n",
       "      <td>6.7</td>\n",
       "      <td>7.9</td>\n",
       "      <td>5.7</td>\n",
       "      <td>2.7</td>\n",
       "      <td>10.2</td>\n",
       "      <td>1785079.0</td>\n",
       "    </tr>\n",
       "    <tr>\n",
       "      <th>Travis</th>\n",
       "      <td>48453</td>\n",
       "      <td>5.1</td>\n",
       "      <td>6.4</td>\n",
       "      <td>4.2</td>\n",
       "      <td>1.3</td>\n",
       "      <td>5.5</td>\n",
       "      <td>1072407.0</td>\n",
       "    </tr>\n",
       "    <tr>\n",
       "      <th>El Paso</th>\n",
       "      <td>48141</td>\n",
       "      <td>4.9</td>\n",
       "      <td>6.2</td>\n",
       "      <td>3.8</td>\n",
       "      <td>1.6</td>\n",
       "      <td>7.7</td>\n",
       "      <td>835075.0</td>\n",
       "    </tr>\n",
       "    <tr>\n",
       "      <th>Collin</th>\n",
       "      <td>48085</td>\n",
       "      <td>6.0</td>\n",
       "      <td>7.7</td>\n",
       "      <td>4.8</td>\n",
       "      <td>2.0</td>\n",
       "      <td>7.3</td>\n",
       "      <td>827717.0</td>\n",
       "    </tr>\n",
       "    <tr>\n",
       "      <th>Hidalgo</th>\n",
       "      <td>48215</td>\n",
       "      <td>8.0</td>\n",
       "      <td>9.5</td>\n",
       "      <td>6.6</td>\n",
       "      <td>3.5</td>\n",
       "      <td>10.6</td>\n",
       "      <td>811958.0</td>\n",
       "    </tr>\n",
       "    <tr>\n",
       "      <th>Denton</th>\n",
       "      <td>48121</td>\n",
       "      <td>6.9</td>\n",
       "      <td>9.3</td>\n",
       "      <td>5.0</td>\n",
       "      <td>2.0</td>\n",
       "      <td>6.5</td>\n",
       "      <td>704359.0</td>\n",
       "    </tr>\n",
       "    <tr>\n",
       "      <th>Fort Bend</th>\n",
       "      <td>48157</td>\n",
       "      <td>6.6</td>\n",
       "      <td>8.0</td>\n",
       "      <td>5.4</td>\n",
       "      <td>2.1</td>\n",
       "      <td>6.0</td>\n",
       "      <td>624595.0</td>\n",
       "    </tr>\n",
       "    <tr>\n",
       "      <th>Montgomery</th>\n",
       "      <td>48339</td>\n",
       "      <td>7.2</td>\n",
       "      <td>9.7</td>\n",
       "      <td>5.3</td>\n",
       "      <td>2.5</td>\n",
       "      <td>9.5</td>\n",
       "      <td>482635.0</td>\n",
       "    </tr>\n",
       "    <tr>\n",
       "      <th>Williamson</th>\n",
       "      <td>48491</td>\n",
       "      <td>5.4</td>\n",
       "      <td>6.4</td>\n",
       "      <td>4.6</td>\n",
       "      <td>1.6</td>\n",
       "      <td>6.8</td>\n",
       "      <td>450576.0</td>\n",
       "    </tr>\n",
       "    <tr>\n",
       "      <th>Cameron</th>\n",
       "      <td>48061</td>\n",
       "      <td>9.7</td>\n",
       "      <td>10.9</td>\n",
       "      <td>8.6</td>\n",
       "      <td>4.1</td>\n",
       "      <td>14.9</td>\n",
       "      <td>417594.0</td>\n",
       "    </tr>\n",
       "    <tr>\n",
       "      <th>Nueces</th>\n",
       "      <td>48355</td>\n",
       "      <td>7.2</td>\n",
       "      <td>9.1</td>\n",
       "      <td>5.6</td>\n",
       "      <td>3.8</td>\n",
       "      <td>11.6</td>\n",
       "      <td>348388.0</td>\n",
       "    </tr>\n",
       "    <tr>\n",
       "      <th>Brazoria</th>\n",
       "      <td>48039</td>\n",
       "      <td>7.3</td>\n",
       "      <td>9.4</td>\n",
       "      <td>5.6</td>\n",
       "      <td>4.0</td>\n",
       "      <td>11.4</td>\n",
       "      <td>324753.0</td>\n",
       "    </tr>\n",
       "    <tr>\n",
       "      <th>Bell</th>\n",
       "      <td>48027</td>\n",
       "      <td>9.2</td>\n",
       "      <td>10.3</td>\n",
       "      <td>8.2</td>\n",
       "      <td>4.4</td>\n",
       "      <td>14.4</td>\n",
       "      <td>322955.0</td>\n",
       "    </tr>\n",
       "    <tr>\n",
       "      <th>Galveston</th>\n",
       "      <td>48167</td>\n",
       "      <td>10.1</td>\n",
       "      <td>12.6</td>\n",
       "      <td>8.2</td>\n",
       "      <td>5.2</td>\n",
       "      <td>16.0</td>\n",
       "      <td>300922.0</td>\n",
       "    </tr>\n",
       "    <tr>\n",
       "      <th>Lubbock</th>\n",
       "      <td>48303</td>\n",
       "      <td>7.3</td>\n",
       "      <td>10.1</td>\n",
       "      <td>5.3</td>\n",
       "      <td>2.7</td>\n",
       "      <td>11.1</td>\n",
       "      <td>287754.0</td>\n",
       "    </tr>\n",
       "    <tr>\n",
       "      <th>Webb</th>\n",
       "      <td>48479</td>\n",
       "      <td>5.8</td>\n",
       "      <td>7.6</td>\n",
       "      <td>4.4</td>\n",
       "      <td>2.0</td>\n",
       "      <td>5.3</td>\n",
       "      <td>262068.0</td>\n",
       "    </tr>\n",
       "    <tr>\n",
       "      <th>Jefferson</th>\n",
       "      <td>48245</td>\n",
       "      <td>5.7</td>\n",
       "      <td>6.8</td>\n",
       "      <td>4.9</td>\n",
       "      <td>3.6</td>\n",
       "      <td>12.0</td>\n",
       "      <td>254039.0</td>\n",
       "    </tr>\n",
       "  </tbody>\n",
       "</table>\n",
       "</div>"
      ],
      "text/plain": [
       "            cnty_fips  hosp_all_gender_65+_per_mil  hosp_male_65+_per_mil  \\\n",
       "county                                                                      \n",
       "Harris          48201                          7.1                    8.4   \n",
       "Dallas          48113                          5.9                    7.5   \n",
       "Tarrant         48439                          7.5                    9.5   \n",
       "Bexar           48029                          6.7                    7.9   \n",
       "Travis          48453                          5.1                    6.4   \n",
       "El Paso         48141                          4.9                    6.2   \n",
       "Collin          48085                          6.0                    7.7   \n",
       "Hidalgo         48215                          8.0                    9.5   \n",
       "Denton          48121                          6.9                    9.3   \n",
       "Fort Bend       48157                          6.6                    8.0   \n",
       "Montgomery      48339                          7.2                    9.7   \n",
       "Williamson      48491                          5.4                    6.4   \n",
       "Cameron         48061                          9.7                   10.9   \n",
       "Nueces          48355                          7.2                    9.1   \n",
       "Brazoria        48039                          7.3                    9.4   \n",
       "Bell            48027                          9.2                   10.3   \n",
       "Galveston       48167                         10.1                   12.6   \n",
       "Lubbock         48303                          7.3                   10.1   \n",
       "Webb            48479                          5.8                    7.6   \n",
       "Jefferson       48245                          5.7                    6.8   \n",
       "\n",
       "            hosp_female_65+_per_mil  claims_drg  claims_icd  population  \n",
       "county                                                                   \n",
       "Harris                          6.1         2.8         8.8   4243880.0  \n",
       "Dallas                          4.8         2.4         8.5   2427342.0  \n",
       "Tarrant                         5.9         2.5         8.8   1875968.0  \n",
       "Bexar                           5.7         2.7        10.2   1785079.0  \n",
       "Travis                          4.2         1.3         5.5   1072407.0  \n",
       "El Paso                         3.8         1.6         7.7    835075.0  \n",
       "Collin                          4.8         2.0         7.3    827717.0  \n",
       "Hidalgo                         6.6         3.5        10.6    811958.0  \n",
       "Denton                          5.0         2.0         6.5    704359.0  \n",
       "Fort Bend                       5.4         2.1         6.0    624595.0  \n",
       "Montgomery                      5.3         2.5         9.5    482635.0  \n",
       "Williamson                      4.6         1.6         6.8    450576.0  \n",
       "Cameron                         8.6         4.1        14.9    417594.0  \n",
       "Nueces                          5.6         3.8        11.6    348388.0  \n",
       "Brazoria                        5.6         4.0        11.4    324753.0  \n",
       "Bell                            8.2         4.4        14.4    322955.0  \n",
       "Galveston                       8.2         5.2        16.0    300922.0  \n",
       "Lubbock                         5.3         2.7        11.1    287754.0  \n",
       "Webb                            4.4         2.0         5.3    262068.0  \n",
       "Jefferson                       4.9         3.6        12.0    254039.0  "
      ]
     },
     "execution_count": 20,
     "metadata": {},
     "output_type": "execute_result"
    }
   ],
   "source": [
    "df_rates.head(20)"
   ]
  },
  {
   "cell_type": "code",
   "execution_count": 23,
   "metadata": {},
   "outputs": [
    {
     "data": {
      "text/plain": [
       "<matplotlib.text.Text at 0x116ef9210>"
      ]
     },
     "execution_count": 23,
     "metadata": {},
     "output_type": "execute_result"
    },
    {
     "data": {
      "image/png": "[encoded data removed]",
      "text/plain": [
       "<matplotlib.figure.Figure at 0x116665790>"
      ]
     },
     "metadata": {},
     "output_type": "display_data"
    }
   ],
   "source": [
    "x = df_rates.rename(columns={'hosp_all_gender_65+_per_mil': 'CDC Atlas'})[['CDC Atlas', 'claims_drg', 'claims_icd']].iloc[:20, ]\n",
    "x.plot(kind='bar', figsize=(12,8))\n",
    "ylabel('MI hospitalizations per 1000')\n",
    "title('MI Hospitilzations Texas 65+')"
   ]
  },
  {
   "cell_type": "markdown",
   "metadata": {},
   "source": [
    "# All types of CVD"
   ]
  },
  {
   "cell_type": "code",
   "execution_count": 149,
   "metadata": {},
   "outputs": [],
   "source": [
    "import re"
   ]
  },
  {
   "cell_type": "code",
   "execution_count": 643,
   "metadata": {},
   "outputs": [
    {
     "data": {
      "text/plain": [
       "['/Users/roee/work/cdc/tables/65_plus_percent_2012_2014.csv',\n",
       " '/Users/roee/work/cdc/tables/all_features_2012_2014.csv',\n",
       " '/Users/roee/work/cdc/tables/hosp_acute_mi_2012_2014_65_plus.csv',\n",
       " '/Users/roee/work/cdc/tables/hosp_all_stroke_2012_2014_65_plus.csv',\n",
       " '/Users/roee/work/cdc/tables/hosp_cardiac_dysrhythmia_2012_2014_65_plus.csv',\n",
       " '/Users/roee/work/cdc/tables/hosp_coronary_heart_disease_2012_2014_65_plus.csv',\n",
       " '/Users/roee/work/cdc/tables/hosp_heart_failure_2012_2014_65_plus.csv',\n",
       " '/Users/roee/work/cdc/tables/hosp_hemorrhagic_stroke_2012_2014_65_plus.csv',\n",
       " '/Users/roee/work/cdc/tables/hosp_hypertension_2012_2014_65_plus.csv',\n",
       " '/Users/roee/work/cdc/tables/hosp_ischemic_stroke_2012_2014_65_plus.csv',\n",
       " '/Users/roee/work/cdc/tables/hosp_total_cvd_2012_2014_65_plus.csv',\n",
       " '/Users/roee/work/cdc/tables/hosp_total_heart_disease_2012_2014_65_plus.csv',\n",
       " '/Users/roee/work/cdc/tables/total_population_2012_2014.csv']"
      ]
     },
     "execution_count": 643,
     "metadata": {},
     "output_type": "execute_result"
    }
   ],
   "source": [
    "fns = glob('/Users/roee/work/cdc/tables/*csv')\n",
    "fns"
   ]
  },
  {
   "cell_type": "code",
   "execution_count": 644,
   "metadata": {},
   "outputs": [],
   "source": [
    "dfs = []\n",
    "for fn in fns:\n",
    "    if 'all_features' in fn:\n",
    "        continue\n",
    "    name = re.search(r'tables/(.*)_2012_2014', fn).group(1)\n",
    "    df = pd.read_csv(fn, usecols=('cnty_fips', 'display_name', 'Value'))\n",
    "    df = df.rename(columns={'display_name': 'county_name', 'Value': name, 'cnty_fips': 'fips'})\n",
    "    df = df.set_index('fips')\n",
    "    dfs.append(df)\n",
    "\n",
    "x = pd.read_csv('/Users/roee/work/cdc/tables/all_features_2012_2014.csv')\n",
    "x = x.rename(columns={'display_name': 'county_name', 'cnty_fips': 'fips'})\n",
    "del x['Value']\n",
    "del x['theme_range']\n",
    "x = x.set_index('fips')\n",
    "dfs.append(x)\n",
    "\n",
    "df = pd.concat(dfs, axis=1).T.drop_duplicates().T\n",
    "df = df.replace(-1, nan)\n",
    "\n",
    "for c in df.columns:\n",
    "    if c == 'county_name':\n",
    "        continue\n",
    "    df[c] = df[c].astype('float')"
   ]
  },
  {
   "cell_type": "code",
   "execution_count": 647,
   "metadata": {
    "scrolled": true
   },
   "outputs": [
    {
     "name": "stdout",
     "output_type": "stream",
     "text": [
      "county_name\n",
      "65_plus_percent\n",
      "hosp_acute_mi\n",
      "hosp_all_stroke\n",
      "hosp_cardiac_dysrhythmia\n",
      "hosp_coronary_heart_disease\n",
      "hosp_heart_failure\n",
      "hosp_hemorrhagic_stroke\n",
      "hosp_hypertension\n",
      "hosp_ischemic_stroke\n",
      "hosp_total_cvd\n",
      "hosp_total_heart_disease\n",
      "total_population\n",
      "dm_prev_adj\n",
      "ob_prev_adj\n",
      "ltpia_prev_adj\n",
      "no_hsdip\n",
      "no_college\n",
      "female_hd\n",
      "foodstmp\n",
      "home_val\n",
      "income\n",
      "GINI\n",
      "povpct\n",
      "unemploy\n",
      "perc_aian\n",
      "perc_api\n",
      "perc_black\n",
      "perc_white\n",
      "perc_hisp\n",
      "airqual\n",
      "PARKS\n",
      "sev_housing\n",
      "NCHS_collapse\n",
      "htnadh_all\n",
      "htnadh_white\n",
      "htnadh_black\n",
      "htnadh_api\n",
      "htnadh_aian\n",
      "htnadh_hisp\n",
      "diuradh\n",
      "rasadh\n",
      "stg_hosp\n",
      "stg_int_cr\n",
      "stg_rehab\n",
      "stg_emerg\n",
      "stg_neuro\n",
      "pharmpc\n",
      "prim_dr\n",
      "cvd_dr\n",
      "neuro_dr\n",
      "surg_dr\n",
      "pctui\n",
      "medicaid\n",
      "total_cost\n",
      "inp_cost\n",
      "ou_cost\n",
      "pac_cost\n",
      "total_inc\n",
      "inp_inc\n",
      "ou_inc\n",
      "pac_inc\n",
      "prev_hd\n"
     ]
    }
   ],
   "source": [
    "print '\\n'.join(df.columns)"
   ]
  },
  {
   "cell_type": "code",
   "execution_count": 648,
   "metadata": {},
   "outputs": [
    {
     "data": {
      "text/html": [
       "<div>\n",
       "<style>\n",
       "    .dataframe thead tr:only-child th {\n",
       "        text-align: right;\n",
       "    }\n",
       "\n",
       "    .dataframe thead th {\n",
       "        text-align: left;\n",
       "    }\n",
       "\n",
       "    .dataframe tbody tr th {\n",
       "        vertical-align: top;\n",
       "    }\n",
       "</style>\n",
       "<table border=\"1\" class=\"dataframe\">\n",
       "  <thead>\n",
       "    <tr style=\"text-align: right;\">\n",
       "      <th></th>\n",
       "      <th>county_name</th>\n",
       "      <th>65_plus_percent</th>\n",
       "      <th>hosp_acute_mi</th>\n",
       "      <th>hosp_all_stroke</th>\n",
       "      <th>hosp_cardiac_dysrhythmia</th>\n",
       "      <th>hosp_coronary_heart_disease</th>\n",
       "      <th>hosp_heart_failure</th>\n",
       "      <th>hosp_hemorrhagic_stroke</th>\n",
       "      <th>hosp_hypertension</th>\n",
       "      <th>hosp_ischemic_stroke</th>\n",
       "      <th>...</th>\n",
       "      <th>medicaid</th>\n",
       "      <th>total_cost</th>\n",
       "      <th>inp_cost</th>\n",
       "      <th>ou_cost</th>\n",
       "      <th>pac_cost</th>\n",
       "      <th>total_inc</th>\n",
       "      <th>inp_inc</th>\n",
       "      <th>ou_inc</th>\n",
       "      <th>pac_inc</th>\n",
       "      <th>prev_hd</th>\n",
       "    </tr>\n",
       "    <tr>\n",
       "      <th>fips</th>\n",
       "      <th></th>\n",
       "      <th></th>\n",
       "      <th></th>\n",
       "      <th></th>\n",
       "      <th></th>\n",
       "      <th></th>\n",
       "      <th></th>\n",
       "      <th></th>\n",
       "      <th></th>\n",
       "      <th></th>\n",
       "      <th></th>\n",
       "      <th></th>\n",
       "      <th></th>\n",
       "      <th></th>\n",
       "      <th></th>\n",
       "      <th></th>\n",
       "      <th></th>\n",
       "      <th></th>\n",
       "      <th></th>\n",
       "      <th></th>\n",
       "      <th></th>\n",
       "    </tr>\n",
       "  </thead>\n",
       "  <tbody>\n",
       "    <tr>\n",
       "      <th>1001</th>\n",
       "      <td>\"Autauga, (AL)\"</td>\n",
       "      <td>13.2</td>\n",
       "      <td>7.3</td>\n",
       "      <td>12.2</td>\n",
       "      <td>11.5</td>\n",
       "      <td>15.5</td>\n",
       "      <td>16.8</td>\n",
       "      <td>NaN</td>\n",
       "      <td>3.8</td>\n",
       "      <td>10.6</td>\n",
       "      <td>...</td>\n",
       "      <td>15.5</td>\n",
       "      <td>18543.0</td>\n",
       "      <td>6398.0</td>\n",
       "      <td>2933.0</td>\n",
       "      <td>4254.0</td>\n",
       "      <td>9789.0</td>\n",
       "      <td>3889.0</td>\n",
       "      <td>904.0</td>\n",
       "      <td>2793.0</td>\n",
       "      <td>20.1</td>\n",
       "    </tr>\n",
       "    <tr>\n",
       "      <th>1003</th>\n",
       "      <td>\"Baldwin, (AL)\"</td>\n",
       "      <td>17.6</td>\n",
       "      <td>5.8</td>\n",
       "      <td>12.9</td>\n",
       "      <td>13.6</td>\n",
       "      <td>13.9</td>\n",
       "      <td>14.0</td>\n",
       "      <td>1.8</td>\n",
       "      <td>1.2</td>\n",
       "      <td>10.3</td>\n",
       "      <td>...</td>\n",
       "      <td>13.2</td>\n",
       "      <td>16865.0</td>\n",
       "      <td>5241.0</td>\n",
       "      <td>3015.0</td>\n",
       "      <td>3220.0</td>\n",
       "      <td>9258.0</td>\n",
       "      <td>3061.0</td>\n",
       "      <td>1574.0</td>\n",
       "      <td>2021.0</td>\n",
       "      <td>20.2</td>\n",
       "    </tr>\n",
       "    <tr>\n",
       "      <th>1005</th>\n",
       "      <td>\"Barbour, (AL)\"</td>\n",
       "      <td>15.4</td>\n",
       "      <td>7.6</td>\n",
       "      <td>12.6</td>\n",
       "      <td>12.4</td>\n",
       "      <td>13.8</td>\n",
       "      <td>18.2</td>\n",
       "      <td>2.1</td>\n",
       "      <td>5.3</td>\n",
       "      <td>9.5</td>\n",
       "      <td>...</td>\n",
       "      <td>25.9</td>\n",
       "      <td>18589.0</td>\n",
       "      <td>6255.0</td>\n",
       "      <td>2744.0</td>\n",
       "      <td>3974.0</td>\n",
       "      <td>10175.0</td>\n",
       "      <td>3816.0</td>\n",
       "      <td>1346.0</td>\n",
       "      <td>2311.0</td>\n",
       "      <td>20.1</td>\n",
       "    </tr>\n",
       "  </tbody>\n",
       "</table>\n",
       "<p>3 rows × 63 columns</p>\n",
       "</div>"
      ],
      "text/plain": [
       "          county_name  65_plus_percent  hosp_acute_mi  hosp_all_stroke  \\\n",
       "fips                                                                     \n",
       "1001  \"Autauga, (AL)\"             13.2            7.3             12.2   \n",
       "1003  \"Baldwin, (AL)\"             17.6            5.8             12.9   \n",
       "1005  \"Barbour, (AL)\"             15.4            7.6             12.6   \n",
       "\n",
       "      hosp_cardiac_dysrhythmia  hosp_coronary_heart_disease  \\\n",
       "fips                                                          \n",
       "1001                      11.5                         15.5   \n",
       "1003                      13.6                         13.9   \n",
       "1005                      12.4                         13.8   \n",
       "\n",
       "      hosp_heart_failure  hosp_hemorrhagic_stroke  hosp_hypertension  \\\n",
       "fips                                                                   \n",
       "1001                16.8                      NaN                3.8   \n",
       "1003                14.0                      1.8                1.2   \n",
       "1005                18.2                      2.1                5.3   \n",
       "\n",
       "      hosp_ischemic_stroke   ...     medicaid  total_cost  inp_cost  ou_cost  \\\n",
       "fips                         ...                                               \n",
       "1001                  10.6   ...         15.5     18543.0    6398.0   2933.0   \n",
       "1003                  10.3   ...         13.2     16865.0    5241.0   3015.0   \n",
       "1005                   9.5   ...         25.9     18589.0    6255.0   2744.0   \n",
       "\n",
       "      pac_cost  total_inc  inp_inc  ou_inc  pac_inc  prev_hd  \n",
       "fips                                                          \n",
       "1001    4254.0     9789.0   3889.0   904.0   2793.0     20.1  \n",
       "1003    3220.0     9258.0   3061.0  1574.0   2021.0     20.2  \n",
       "1005    3974.0    10175.0   3816.0  1346.0   2311.0     20.1  \n",
       "\n",
       "[3 rows x 63 columns]"
      ]
     },
     "execution_count": 648,
     "metadata": {},
     "output_type": "execute_result"
    }
   ],
   "source": [
    "df.head(3)"
   ]
  },
  {
   "cell_type": "code",
   "execution_count": 649,
   "metadata": {},
   "outputs": [
    {
     "data": {
      "text/plain": [
       "323113.63501699996"
      ]
     },
     "execution_count": 649,
     "metadata": {},
     "output_type": "execute_result"
    }
   ],
   "source": [
    "sum(df.hosp_acute_mi * df.total_population * df['65_plus_percent'] / 1000.0 / 100)"
   ]
  },
  {
   "cell_type": "code",
   "execution_count": 650,
   "metadata": {},
   "outputs": [
    {
     "name": "stdout",
     "output_type": "stream",
     "text": [
      "43604452 (13.7%) of US pop is 65+\n"
     ]
    }
   ],
   "source": [
    "x = sum(df.total_population * df['65_plus_percent']) / 100\n",
    "print '{:.0f} ({:.1f}%) of US pop is 65+'.format(x, 100.0 * x / df.total_population.sum())"
   ]
  },
  {
   "cell_type": "code",
   "execution_count": 651,
   "metadata": {},
   "outputs": [
    {
     "data": {
      "text/plain": [
       "19562134.897100002"
      ]
     },
     "execution_count": 651,
     "metadata": {},
     "output_type": "execute_result"
    }
   ],
   "source": [
    "sum(df.hosp_total_cvd * df.total_population / 1000.0)"
   ]
  },
  {
   "cell_type": "code",
   "execution_count": 652,
   "metadata": {},
   "outputs": [
    {
     "data": {
      "text/plain": [
       "(3225, 63)"
      ]
     },
     "execution_count": 652,
     "metadata": {},
     "output_type": "execute_result"
    }
   ],
   "source": [
    "df.shape"
   ]
  },
  {
   "cell_type": "code",
   "execution_count": 653,
   "metadata": {
    "collapsed": true
   },
   "outputs": [],
   "source": [
    "df['log_pop'] = df.total_population.apply(lambda x:log10(x))"
   ]
  },
  {
   "cell_type": "code",
   "execution_count": 654,
   "metadata": {},
   "outputs": [
    {
     "data": {
      "text/plain": [
       "<matplotlib.text.Text at 0x11982b2d0>"
      ]
     },
     "execution_count": 654,
     "metadata": {},
     "output_type": "execute_result"
    },
    {
     "data": {
      "image/png": "[encoded data removed]",
      "text/plain": [
       "<matplotlib.figure.Figure at 0x11fec19d0>"
      ]
     },
     "metadata": {},
     "output_type": "display_data"
    }
   ],
   "source": [
    "df.log_pop.sort_values(ascending=False).plot(kind='hist')\n",
    "xlabel('log10 population')"
   ]
  },
  {
   "cell_type": "code",
   "execution_count": 84,
   "metadata": {},
   "outputs": [
    {
     "data": {
      "text/plain": [
       "<matplotlib.axes._subplots.AxesSubplot at 0x1188bd250>"
      ]
     },
     "execution_count": 84,
     "metadata": {},
     "output_type": "execute_result"
    },
    {
     "data": {
      "image/png": "[encoded data removed]",
      "text/plain": [
       "<matplotlib.figure.Figure at 0x118cdf1d0>"
      ]
     },
     "metadata": {},
     "output_type": "display_data"
    }
   ],
   "source": [
    "df[df.total_population > 50000].plot(kind='scatter', x='hosp_total_cvd', y='hosp_acute_mi')"
   ]
  },
  {
   "cell_type": "code",
   "execution_count": 104,
   "metadata": {},
   "outputs": [],
   "source": [
    "# # convert to json for sending to the visualization\n",
    "# jsonstr = df.to_json(orient='records')\n",
    "\n",
    "# # Display the Dive visualization for this data\n",
    "# from IPython.core.display import display, HTML\n",
    "\n",
    "# HTML_TEMPLATE = \"\"\"<link rel=\"import\" href=\"/nbextensions/facets-dist/facets-jupyter.html\">\n",
    "#         <facets-dive id=\"elem\" height=\"600\"></facets-dive>\n",
    "#         <script>\n",
    "#           var data = {jsonstr};\n",
    "#           document.querySelector(\"#elem\").data = data;\n",
    "#         </script>\"\"\"\n",
    "# html = HTML_TEMPLATE.format(jsonstr=jsonstr)\n",
    "# display(HTML(html))"
   ]
  },
  {
   "cell_type": "markdown",
   "metadata": {},
   "source": [
    "# prevalence of under 65 CVD"
   ]
  },
  {
   "cell_type": "markdown",
   "metadata": {},
   "source": [
    "##### add state level"
   ]
  },
  {
   "cell_type": "code",
   "execution_count": 189,
   "metadata": {},
   "outputs": [],
   "source": [
    "df['state'] = df.county_name.str.extract(r'([A-Z]{2})', expand=False)"
   ]
  },
  {
   "cell_type": "markdown",
   "metadata": {},
   "source": [
    "#####  65+ CVD hospitilizations"
   ]
  },
  {
   "cell_type": "code",
   "execution_count": 114,
   "metadata": {},
   "outputs": [
    {
     "data": {
      "text/html": [
       "<div>\n",
       "<style>\n",
       "    .dataframe thead tr:only-child th {\n",
       "        text-align: right;\n",
       "    }\n",
       "\n",
       "    .dataframe thead th {\n",
       "        text-align: left;\n",
       "    }\n",
       "\n",
       "    .dataframe tbody tr th {\n",
       "        vertical-align: top;\n",
       "    }\n",
       "</style>\n",
       "<table border=\"1\" class=\"dataframe\">\n",
       "  <thead>\n",
       "    <tr style=\"text-align: right;\">\n",
       "      <th></th>\n",
       "      <th>county_name</th>\n",
       "      <th>65_plus_percent</th>\n",
       "      <th>hosp_acute_mi</th>\n",
       "      <th>hosp_all_stroke</th>\n",
       "      <th>hosp_cardiac_dysrhythmia</th>\n",
       "      <th>hosp_coronary_heart_disease</th>\n",
       "      <th>hosp_heart_failure</th>\n",
       "      <th>hosp_hemorrhagic_stroke</th>\n",
       "      <th>hosp_hypertension</th>\n",
       "      <th>hosp_ischemic_stroke</th>\n",
       "      <th>hosp_total_cvd</th>\n",
       "      <th>hosp_total_heart_disease</th>\n",
       "      <th>total_population</th>\n",
       "      <th>log_pop</th>\n",
       "      <th>state</th>\n",
       "    </tr>\n",
       "    <tr>\n",
       "      <th>fips</th>\n",
       "      <th></th>\n",
       "      <th></th>\n",
       "      <th></th>\n",
       "      <th></th>\n",
       "      <th></th>\n",
       "      <th></th>\n",
       "      <th></th>\n",
       "      <th></th>\n",
       "      <th></th>\n",
       "      <th></th>\n",
       "      <th></th>\n",
       "      <th></th>\n",
       "      <th></th>\n",
       "      <th></th>\n",
       "      <th></th>\n",
       "    </tr>\n",
       "  </thead>\n",
       "  <tbody>\n",
       "    <tr>\n",
       "      <th>1001</th>\n",
       "      <td>\"Autauga, (AL)\"</td>\n",
       "      <td>13.2</td>\n",
       "      <td>7.3</td>\n",
       "      <td>12.2</td>\n",
       "      <td>11.5</td>\n",
       "      <td>15.5</td>\n",
       "      <td>16.8</td>\n",
       "      <td>NaN</td>\n",
       "      <td>3.8</td>\n",
       "      <td>10.6</td>\n",
       "      <td>67.8</td>\n",
       "      <td>50.3</td>\n",
       "      <td>55136.0</td>\n",
       "      <td>4.741435</td>\n",
       "      <td>AL</td>\n",
       "    </tr>\n",
       "    <tr>\n",
       "      <th>1003</th>\n",
       "      <td>\"Baldwin, (AL)\"</td>\n",
       "      <td>17.6</td>\n",
       "      <td>5.8</td>\n",
       "      <td>12.9</td>\n",
       "      <td>13.6</td>\n",
       "      <td>13.9</td>\n",
       "      <td>14.0</td>\n",
       "      <td>1.8</td>\n",
       "      <td>1.2</td>\n",
       "      <td>10.3</td>\n",
       "      <td>68.4</td>\n",
       "      <td>48.9</td>\n",
       "      <td>191205.0</td>\n",
       "      <td>5.281499</td>\n",
       "      <td>AL</td>\n",
       "    </tr>\n",
       "    <tr>\n",
       "      <th>1005</th>\n",
       "      <td>\"Barbour, (AL)\"</td>\n",
       "      <td>15.4</td>\n",
       "      <td>7.6</td>\n",
       "      <td>12.6</td>\n",
       "      <td>12.4</td>\n",
       "      <td>13.8</td>\n",
       "      <td>18.2</td>\n",
       "      <td>2.1</td>\n",
       "      <td>5.3</td>\n",
       "      <td>9.5</td>\n",
       "      <td>70.9</td>\n",
       "      <td>52.0</td>\n",
       "      <td>27119.0</td>\n",
       "      <td>4.433274</td>\n",
       "      <td>AL</td>\n",
       "    </tr>\n",
       "    <tr>\n",
       "      <th>1007</th>\n",
       "      <td>\"Bibb, (AL)\"</td>\n",
       "      <td>14.1</td>\n",
       "      <td>11.8</td>\n",
       "      <td>14.4</td>\n",
       "      <td>8.2</td>\n",
       "      <td>19.8</td>\n",
       "      <td>16.1</td>\n",
       "      <td>NaN</td>\n",
       "      <td>4.6</td>\n",
       "      <td>11.9</td>\n",
       "      <td>74.7</td>\n",
       "      <td>53.3</td>\n",
       "      <td>22653.0</td>\n",
       "      <td>4.355126</td>\n",
       "      <td>AL</td>\n",
       "    </tr>\n",
       "    <tr>\n",
       "      <th>1009</th>\n",
       "      <td>\"Blount, (AL)\"</td>\n",
       "      <td>15.9</td>\n",
       "      <td>9.2</td>\n",
       "      <td>13.0</td>\n",
       "      <td>11.2</td>\n",
       "      <td>18.8</td>\n",
       "      <td>12.6</td>\n",
       "      <td>NaN</td>\n",
       "      <td>2.1</td>\n",
       "      <td>11.0</td>\n",
       "      <td>69.8</td>\n",
       "      <td>49.9</td>\n",
       "      <td>57645.0</td>\n",
       "      <td>4.760762</td>\n",
       "      <td>AL</td>\n",
       "    </tr>\n",
       "  </tbody>\n",
       "</table>\n",
       "</div>"
      ],
      "text/plain": [
       "          county_name  65_plus_percent  hosp_acute_mi  hosp_all_stroke  \\\n",
       "fips                                                                     \n",
       "1001  \"Autauga, (AL)\"             13.2            7.3             12.2   \n",
       "1003  \"Baldwin, (AL)\"             17.6            5.8             12.9   \n",
       "1005  \"Barbour, (AL)\"             15.4            7.6             12.6   \n",
       "1007     \"Bibb, (AL)\"             14.1           11.8             14.4   \n",
       "1009   \"Blount, (AL)\"             15.9            9.2             13.0   \n",
       "\n",
       "      hosp_cardiac_dysrhythmia  hosp_coronary_heart_disease  \\\n",
       "fips                                                          \n",
       "1001                      11.5                         15.5   \n",
       "1003                      13.6                         13.9   \n",
       "1005                      12.4                         13.8   \n",
       "1007                       8.2                         19.8   \n",
       "1009                      11.2                         18.8   \n",
       "\n",
       "      hosp_heart_failure  hosp_hemorrhagic_stroke  hosp_hypertension  \\\n",
       "fips                                                                   \n",
       "1001                16.8                      NaN                3.8   \n",
       "1003                14.0                      1.8                1.2   \n",
       "1005                18.2                      2.1                5.3   \n",
       "1007                16.1                      NaN                4.6   \n",
       "1009                12.6                      NaN                2.1   \n",
       "\n",
       "      hosp_ischemic_stroke  hosp_total_cvd  hosp_total_heart_disease  \\\n",
       "fips                                                                   \n",
       "1001                  10.6            67.8                      50.3   \n",
       "1003                  10.3            68.4                      48.9   \n",
       "1005                   9.5            70.9                      52.0   \n",
       "1007                  11.9            74.7                      53.3   \n",
       "1009                  11.0            69.8                      49.9   \n",
       "\n",
       "      total_population   log_pop state  \n",
       "fips                                    \n",
       "1001           55136.0  4.741435    AL  \n",
       "1003          191205.0  5.281499    AL  \n",
       "1005           27119.0  4.433274    AL  \n",
       "1007           22653.0  4.355126    AL  \n",
       "1009           57645.0  4.760762    AL  "
      ]
     },
     "execution_count": 114,
     "metadata": {},
     "output_type": "execute_result"
    }
   ],
   "source": [
    "df.head()"
   ]
  },
  {
   "cell_type": "code",
   "execution_count": 208,
   "metadata": {
    "collapsed": true
   },
   "outputs": [],
   "source": [
    "df['population_65+'] = df.total_population * df['65_plus_percent'] / 100"
   ]
  },
  {
   "cell_type": "code",
   "execution_count": 115,
   "metadata": {
    "collapsed": true
   },
   "outputs": [],
   "source": [
    "df['number_of_cvd_hosp_65+'] = df.hosp_total_cvd * df['population_65+'] / 1000"
   ]
  },
  {
   "cell_type": "code",
   "execution_count": 132,
   "metadata": {},
   "outputs": [],
   "source": [
    "df_state = pd.DataFrame(index=df.state.unique())\n",
    "g = df.groupby('state')\n",
    "df_state['n_cvd_hosp_65+'] = g['number_of_cvd_hosp_65+'].sum().round(0)\n",
    "df_state['population_65+'] = g['population_65+'].sum().round(0)\n",
    "df_state['population'] = g['total_population'].sum().round(0)\n",
    "df_state = df_state.sort_values('population', ascending=False)"
   ]
  },
  {
   "cell_type": "raw",
   "metadata": {},
   "source": [
    "According to https://www.ncbi.nlm.nih.gov/pmc/articles/PMC3661496/\n",
    "the distribution of 35-64 year olds vs. 65+ year olds in MIs (not CVD) is between 45-55 and 35-65 (varying per state)"
   ]
  },
  {
   "cell_type": "code",
   "execution_count": 133,
   "metadata": {
    "collapsed": true
   },
   "outputs": [],
   "source": [
    "df_state['n_cvd_hosp_35-64_est_min'] = (df_state['n_cvd_hosp_65+'] * 35 / 65).round(0)\n",
    "df_state['n_cvd_hosp_35-64_est_max'] = (df_state['n_cvd_hosp_65+'] * 45 / 55).round(0)"
   ]
  },
  {
   "cell_type": "code",
   "execution_count": 134,
   "metadata": {},
   "outputs": [
    {
     "data": {
      "text/html": [
       "<div>\n",
       "<style>\n",
       "    .dataframe thead tr:only-child th {\n",
       "        text-align: right;\n",
       "    }\n",
       "\n",
       "    .dataframe thead th {\n",
       "        text-align: left;\n",
       "    }\n",
       "\n",
       "    .dataframe tbody tr th {\n",
       "        vertical-align: top;\n",
       "    }\n",
       "</style>\n",
       "<table border=\"1\" class=\"dataframe\">\n",
       "  <thead>\n",
       "    <tr style=\"text-align: right;\">\n",
       "      <th></th>\n",
       "      <th>n_cvd_hosp_65+</th>\n",
       "      <th>population_65+</th>\n",
       "      <th>population</th>\n",
       "      <th>n_cvd_hosp_35-64_est_min</th>\n",
       "      <th>n_cvd_hosp_35-64_est_max</th>\n",
       "    </tr>\n",
       "  </thead>\n",
       "  <tbody>\n",
       "    <tr>\n",
       "      <th>CA</th>\n",
       "      <td>225127.0</td>\n",
       "      <td>4601258.0</td>\n",
       "      <td>38066920.0</td>\n",
       "      <td>121222.0</td>\n",
       "      <td>184195.0</td>\n",
       "    </tr>\n",
       "    <tr>\n",
       "      <th>TX</th>\n",
       "      <td>176768.0</td>\n",
       "      <td>2833715.0</td>\n",
       "      <td>26092033.0</td>\n",
       "      <td>95183.0</td>\n",
       "      <td>144628.0</td>\n",
       "    </tr>\n",
       "    <tr>\n",
       "      <th>NY</th>\n",
       "      <td>173734.0</td>\n",
       "      <td>2744101.0</td>\n",
       "      <td>19594330.0</td>\n",
       "      <td>93549.0</td>\n",
       "      <td>142146.0</td>\n",
       "    </tr>\n",
       "    <tr>\n",
       "      <th>FL</th>\n",
       "      <td>234476.0</td>\n",
       "      <td>3510712.0</td>\n",
       "      <td>19361792.0</td>\n",
       "      <td>126256.0</td>\n",
       "      <td>191844.0</td>\n",
       "    </tr>\n",
       "    <tr>\n",
       "      <th>IL</th>\n",
       "      <td>112637.0</td>\n",
       "      <td>1691844.0</td>\n",
       "      <td>12868747.0</td>\n",
       "      <td>60651.0</td>\n",
       "      <td>92158.0</td>\n",
       "    </tr>\n",
       "  </tbody>\n",
       "</table>\n",
       "</div>"
      ],
      "text/plain": [
       "    n_cvd_hosp_65+  population_65+  population  n_cvd_hosp_35-64_est_min  \\\n",
       "CA        225127.0       4601258.0  38066920.0                  121222.0   \n",
       "TX        176768.0       2833715.0  26092033.0                   95183.0   \n",
       "NY        173734.0       2744101.0  19594330.0                   93549.0   \n",
       "FL        234476.0       3510712.0  19361792.0                  126256.0   \n",
       "IL        112637.0       1691844.0  12868747.0                   60651.0   \n",
       "\n",
       "    n_cvd_hosp_35-64_est_max  \n",
       "CA                  184195.0  \n",
       "TX                  144628.0  \n",
       "NY                  142146.0  \n",
       "FL                  191844.0  \n",
       "IL                   92158.0  "
      ]
     },
     "execution_count": 134,
     "metadata": {},
     "output_type": "execute_result"
    }
   ],
   "source": [
    "df_state.head(5)"
   ]
  },
  {
   "cell_type": "code",
   "execution_count": 135,
   "metadata": {},
   "outputs": [
    {
     "data": {
      "text/plain": [
       "n_cvd_hosp_65+                2701590.0\n",
       "population_65+               43604455.0\n",
       "population                  317730976.0\n",
       "n_cvd_hosp_35-64_est_min      1454701.0\n",
       "n_cvd_hosp_35-64_est_max      2210393.0\n",
       "dtype: float64"
      ]
     },
     "execution_count": 135,
     "metadata": {},
     "output_type": "execute_result"
    }
   ],
   "source": [
    "df_state.sum()"
   ]
  },
  {
   "cell_type": "code",
   "execution_count": 137,
   "metadata": {
    "collapsed": true
   },
   "outputs": [],
   "source": [
    "df_state.to_csv('~/df_state.csv')"
   ]
  },
  {
   "cell_type": "markdown",
   "metadata": {},
   "source": [
    "# Heart Disease Prevalence"
   ]
  },
  {
   "cell_type": "code",
   "execution_count": 192,
   "metadata": {},
   "outputs": [
    {
     "data": {
      "image/png": "[encoded data removed]",
      "text/plain": [
       "<matplotlib.figure.Figure at 0x11bcd20d0>"
      ]
     },
     "metadata": {},
     "output_type": "display_data"
    }
   ],
   "source": [
    "cs = [c for c in df.columns if c.startswith('hosp')]\n",
    "n = len(cs) / 2\n",
    "fig, axes = subplots(nrows=n, ncols=2, figsize=(12, 20))\n",
    "axes = axes.flatten()\n",
    "for i, c in enumerate(cs):\n",
    "    df.plot.scatter(x='prev_hd', y=c, ax=axes[i])\n",
    "    axes[i].set_xlim(0, max(df.prev_hd))\n",
    "    axes[i].set_ylim(0, max(df[c]))\n",
    "tight_layout()"
   ]
  },
  {
   "cell_type": "code",
   "execution_count": 194,
   "metadata": {},
   "outputs": [
    {
     "data": {
      "text/plain": [
       "count    3187.000000\n",
       "mean       19.095795\n",
       "std         2.780602\n",
       "min         9.200000\n",
       "25%        17.400000\n",
       "50%        19.100000\n",
       "75%        20.800000\n",
       "max        40.700000\n",
       "Name: prev_hd, dtype: float64"
      ]
     },
     "execution_count": 194,
     "metadata": {},
     "output_type": "execute_result"
    }
   ],
   "source": [
    "df.prev_hd.describe()"
   ]
  },
  {
   "cell_type": "code",
   "execution_count": 205,
   "metadata": {},
   "outputs": [
    {
     "data": {
      "text/plain": [
       "count    14.000000\n",
       "mean     18.942857\n",
       "std       0.999010\n",
       "min      17.100000\n",
       "25%      18.350000\n",
       "50%      18.850000\n",
       "75%      19.700000\n",
       "max      20.400000\n",
       "Name: prev_hd, dtype: float64"
      ]
     },
     "execution_count": 205,
     "metadata": {},
     "output_type": "execute_result"
    }
   ],
   "source": [
    "df.loc[df.state == 'MA', 'prev_hd'].describe()"
   ]
  },
  {
   "cell_type": "code",
   "execution_count": 209,
   "metadata": {},
   "outputs": [
    {
     "data": {
      "text/plain": [
       "5702142.0939999996"
      ]
     },
     "execution_count": 209,
     "metadata": {},
     "output_type": "execute_result"
    }
   ],
   "source": [
    "df[df.state=='MA'].total_population.sum() - df.loc[df.state == 'MA', 'population_65+'].sum()"
   ]
  },
  {
   "cell_type": "code",
   "execution_count": 199,
   "metadata": {},
   "outputs": [
    {
     "data": {
      "text/plain": [
       "317730976.0"
      ]
     },
     "execution_count": 199,
     "metadata": {},
     "output_type": "execute_result"
    }
   ],
   "source": [
    "df.total_population.sum()"
   ]
  },
  {
   "cell_type": "markdown",
   "metadata": {},
   "source": [
    "# Training a Classifier"
   ]
  },
  {
   "cell_type": "code",
   "execution_count": 655,
   "metadata": {
    "collapsed": true
   },
   "outputs": [],
   "source": [
    "not_features = ['65_plus_percent', 'county_name', 'population_65+', 'state', 'total_population']\n",
    "not_features += [c for c in df.columns if c.startswith('hosp')]"
   ]
  },
  {
   "cell_type": "code",
   "execution_count": 656,
   "metadata": {
    "collapsed": true
   },
   "outputs": [],
   "source": [
    "features = [c for c in df.columns if c not in not_features]"
   ]
  },
  {
   "cell_type": "code",
   "execution_count": 242,
   "metadata": {},
   "outputs": [],
   "source": [
    "df_backup = df.copy()"
   ]
  },
  {
   "cell_type": "code",
   "execution_count": 241,
   "metadata": {
    "collapsed": true
   },
   "outputs": [],
   "source": [
    "df = df_backup"
   ]
  },
  {
   "cell_type": "code",
   "execution_count": 657,
   "metadata": {},
   "outputs": [
    {
     "data": {
      "text/plain": [
       "(3225, 51)"
      ]
     },
     "execution_count": 657,
     "metadata": {},
     "output_type": "execute_result"
    }
   ],
   "source": [
    "df[features].shape"
   ]
  },
  {
   "cell_type": "code",
   "execution_count": 658,
   "metadata": {
    "scrolled": true
   },
   "outputs": [
    {
     "data": {
      "text/html": [
       "<div>\n",
       "<style>\n",
       "    .dataframe thead tr:only-child th {\n",
       "        text-align: right;\n",
       "    }\n",
       "\n",
       "    .dataframe thead th {\n",
       "        text-align: left;\n",
       "    }\n",
       "\n",
       "    .dataframe tbody tr th {\n",
       "        vertical-align: top;\n",
       "    }\n",
       "</style>\n",
       "<table border=\"1\" class=\"dataframe\">\n",
       "  <thead>\n",
       "    <tr style=\"text-align: right;\">\n",
       "      <th></th>\n",
       "      <th>dm_prev_adj</th>\n",
       "      <th>ob_prev_adj</th>\n",
       "      <th>ltpia_prev_adj</th>\n",
       "      <th>no_hsdip</th>\n",
       "      <th>no_college</th>\n",
       "      <th>female_hd</th>\n",
       "      <th>foodstmp</th>\n",
       "      <th>home_val</th>\n",
       "      <th>income</th>\n",
       "      <th>GINI</th>\n",
       "      <th>...</th>\n",
       "      <th>total_cost</th>\n",
       "      <th>inp_cost</th>\n",
       "      <th>ou_cost</th>\n",
       "      <th>pac_cost</th>\n",
       "      <th>total_inc</th>\n",
       "      <th>inp_inc</th>\n",
       "      <th>ou_inc</th>\n",
       "      <th>pac_inc</th>\n",
       "      <th>prev_hd</th>\n",
       "      <th>log_pop</th>\n",
       "    </tr>\n",
       "  </thead>\n",
       "  <tbody>\n",
       "    <tr>\n",
       "      <th>count</th>\n",
       "      <td>3215.000000</td>\n",
       "      <td>3137.000000</td>\n",
       "      <td>3137.000000</td>\n",
       "      <td>3215.000000</td>\n",
       "      <td>3215.000000</td>\n",
       "      <td>3215.000000</td>\n",
       "      <td>3137.000000</td>\n",
       "      <td>3214.000000</td>\n",
       "      <td>3136.000000</td>\n",
       "      <td>3137.000000</td>\n",
       "      <td>...</td>\n",
       "      <td>3225.000000</td>\n",
       "      <td>3225.000000</td>\n",
       "      <td>3225.000000</td>\n",
       "      <td>3225.000000</td>\n",
       "      <td>3225.000000</td>\n",
       "      <td>3225.000000</td>\n",
       "      <td>3225.000000</td>\n",
       "      <td>3225.000000</td>\n",
       "      <td>3187.000000</td>\n",
       "      <td>3215.000000</td>\n",
       "    </tr>\n",
       "    <tr>\n",
       "      <th>mean</th>\n",
       "      <td>9.751446</td>\n",
       "      <td>30.842238</td>\n",
       "      <td>24.704144</td>\n",
       "      <td>15.371540</td>\n",
       "      <td>79.867527</td>\n",
       "      <td>17.267558</td>\n",
       "      <td>15.906344</td>\n",
       "      <td>130.811139</td>\n",
       "      <td>47.063361</td>\n",
       "      <td>0.439790</td>\n",
       "      <td>...</td>\n",
       "      <td>18562.266977</td>\n",
       "      <td>5829.866047</td>\n",
       "      <td>3541.172093</td>\n",
       "      <td>4138.516899</td>\n",
       "      <td>10897.701395</td>\n",
       "      <td>3664.098295</td>\n",
       "      <td>1821.863256</td>\n",
       "      <td>2653.663256</td>\n",
       "      <td>19.095795</td>\n",
       "      <td>4.463104</td>\n",
       "    </tr>\n",
       "    <tr>\n",
       "      <th>std</th>\n",
       "      <td>2.320281</td>\n",
       "      <td>4.646627</td>\n",
       "      <td>4.959254</td>\n",
       "      <td>7.181171</td>\n",
       "      <td>8.859760</td>\n",
       "      <td>6.897932</td>\n",
       "      <td>7.927617</td>\n",
       "      <td>76.142753</td>\n",
       "      <td>12.106002</td>\n",
       "      <td>0.034569</td>\n",
       "      <td>...</td>\n",
       "      <td>5064.684783</td>\n",
       "      <td>2265.638460</td>\n",
       "      <td>1913.366983</td>\n",
       "      <td>2517.482669</td>\n",
       "      <td>3940.901530</td>\n",
       "      <td>2013.078396</td>\n",
       "      <td>1516.128207</td>\n",
       "      <td>2057.818563</td>\n",
       "      <td>2.780602</td>\n",
       "      <td>0.633348</td>\n",
       "    </tr>\n",
       "    <tr>\n",
       "      <th>min</th>\n",
       "      <td>3.800000</td>\n",
       "      <td>11.800000</td>\n",
       "      <td>8.400000</td>\n",
       "      <td>1.200000</td>\n",
       "      <td>24.900000</td>\n",
       "      <td>0.000000</td>\n",
       "      <td>0.100000</td>\n",
       "      <td>20.000000</td>\n",
       "      <td>21.600000</td>\n",
       "      <td>0.334000</td>\n",
       "      <td>...</td>\n",
       "      <td>-9999.000000</td>\n",
       "      <td>-9999.000000</td>\n",
       "      <td>-9999.000000</td>\n",
       "      <td>-9999.000000</td>\n",
       "      <td>-9999.000000</td>\n",
       "      <td>-9999.000000</td>\n",
       "      <td>-9999.000000</td>\n",
       "      <td>-9999.000000</td>\n",
       "      <td>9.200000</td>\n",
       "      <td>1.863323</td>\n",
       "    </tr>\n",
       "    <tr>\n",
       "      <th>25%</th>\n",
       "      <td>8.100000</td>\n",
       "      <td>28.000000</td>\n",
       "      <td>21.400000</td>\n",
       "      <td>10.000000</td>\n",
       "      <td>76.300000</td>\n",
       "      <td>12.800000</td>\n",
       "      <td>10.100000</td>\n",
       "      <td>85.000000</td>\n",
       "      <td>38.800000</td>\n",
       "      <td>0.417000</td>\n",
       "      <td>...</td>\n",
       "      <td>16400.000000</td>\n",
       "      <td>5168.000000</td>\n",
       "      <td>2912.000000</td>\n",
       "      <td>3031.000000</td>\n",
       "      <td>9200.000000</td>\n",
       "      <td>3064.000000</td>\n",
       "      <td>1495.000000</td>\n",
       "      <td>1867.000000</td>\n",
       "      <td>17.400000</td>\n",
       "      <td>4.053520</td>\n",
       "    </tr>\n",
       "    <tr>\n",
       "      <th>50%</th>\n",
       "      <td>9.400000</td>\n",
       "      <td>31.000000</td>\n",
       "      <td>24.500000</td>\n",
       "      <td>13.700000</td>\n",
       "      <td>82.000000</td>\n",
       "      <td>16.100000</td>\n",
       "      <td>15.000000</td>\n",
       "      <td>109.150000</td>\n",
       "      <td>45.200000</td>\n",
       "      <td>0.437000</td>\n",
       "      <td>...</td>\n",
       "      <td>18635.000000</td>\n",
       "      <td>5978.000000</td>\n",
       "      <td>3472.000000</td>\n",
       "      <td>4020.000000</td>\n",
       "      <td>10917.000000</td>\n",
       "      <td>3763.000000</td>\n",
       "      <td>1834.000000</td>\n",
       "      <td>2593.000000</td>\n",
       "      <td>19.100000</td>\n",
       "      <td>4.416774</td>\n",
       "    </tr>\n",
       "    <tr>\n",
       "      <th>75%</th>\n",
       "      <td>11.200000</td>\n",
       "      <td>33.700000</td>\n",
       "      <td>28.000000</td>\n",
       "      <td>19.750000</td>\n",
       "      <td>86.000000</td>\n",
       "      <td>20.400000</td>\n",
       "      <td>20.500000</td>\n",
       "      <td>153.400000</td>\n",
       "      <td>52.500000</td>\n",
       "      <td>0.461000</td>\n",
       "      <td>...</td>\n",
       "      <td>20900.000000</td>\n",
       "      <td>6773.000000</td>\n",
       "      <td>4265.000000</td>\n",
       "      <td>5119.000000</td>\n",
       "      <td>12791.000000</td>\n",
       "      <td>4485.000000</td>\n",
       "      <td>2262.000000</td>\n",
       "      <td>3441.000000</td>\n",
       "      <td>20.800000</td>\n",
       "      <td>4.821516</td>\n",
       "    </tr>\n",
       "    <tr>\n",
       "      <th>max</th>\n",
       "      <td>20.800000</td>\n",
       "      <td>47.900000</td>\n",
       "      <td>39.800000</td>\n",
       "      <td>53.200000</td>\n",
       "      <td>97.300000</td>\n",
       "      <td>52.000000</td>\n",
       "      <td>60.600000</td>\n",
       "      <td>912.600000</td>\n",
       "      <td>125.600000</td>\n",
       "      <td>0.651000</td>\n",
       "      <td>...</td>\n",
       "      <td>44631.000000</td>\n",
       "      <td>22351.000000</td>\n",
       "      <td>12852.000000</td>\n",
       "      <td>20453.000000</td>\n",
       "      <td>37988.000000</td>\n",
       "      <td>20843.000000</td>\n",
       "      <td>11729.000000</td>\n",
       "      <td>19903.000000</td>\n",
       "      <td>40.700000</td>\n",
       "      <td>6.998878</td>\n",
       "    </tr>\n",
       "  </tbody>\n",
       "</table>\n",
       "<p>8 rows × 51 columns</p>\n",
       "</div>"
      ],
      "text/plain": [
       "       dm_prev_adj  ob_prev_adj  ltpia_prev_adj     no_hsdip   no_college  \\\n",
       "count  3215.000000  3137.000000     3137.000000  3215.000000  3215.000000   \n",
       "mean      9.751446    30.842238       24.704144    15.371540    79.867527   \n",
       "std       2.320281     4.646627        4.959254     7.181171     8.859760   \n",
       "min       3.800000    11.800000        8.400000     1.200000    24.900000   \n",
       "25%       8.100000    28.000000       21.400000    10.000000    76.300000   \n",
       "50%       9.400000    31.000000       24.500000    13.700000    82.000000   \n",
       "75%      11.200000    33.700000       28.000000    19.750000    86.000000   \n",
       "max      20.800000    47.900000       39.800000    53.200000    97.300000   \n",
       "\n",
       "         female_hd     foodstmp     home_val       income         GINI  \\\n",
       "count  3215.000000  3137.000000  3214.000000  3136.000000  3137.000000   \n",
       "mean     17.267558    15.906344   130.811139    47.063361     0.439790   \n",
       "std       6.897932     7.927617    76.142753    12.106002     0.034569   \n",
       "min       0.000000     0.100000    20.000000    21.600000     0.334000   \n",
       "25%      12.800000    10.100000    85.000000    38.800000     0.417000   \n",
       "50%      16.100000    15.000000   109.150000    45.200000     0.437000   \n",
       "75%      20.400000    20.500000   153.400000    52.500000     0.461000   \n",
       "max      52.000000    60.600000   912.600000   125.600000     0.651000   \n",
       "\n",
       "          ...         total_cost      inp_cost       ou_cost      pac_cost  \\\n",
       "count     ...        3225.000000   3225.000000   3225.000000   3225.000000   \n",
       "mean      ...       18562.266977   5829.866047   3541.172093   4138.516899   \n",
       "std       ...        5064.684783   2265.638460   1913.366983   2517.482669   \n",
       "min       ...       -9999.000000  -9999.000000  -9999.000000  -9999.000000   \n",
       "25%       ...       16400.000000   5168.000000   2912.000000   3031.000000   \n",
       "50%       ...       18635.000000   5978.000000   3472.000000   4020.000000   \n",
       "75%       ...       20900.000000   6773.000000   4265.000000   5119.000000   \n",
       "max       ...       44631.000000  22351.000000  12852.000000  20453.000000   \n",
       "\n",
       "          total_inc       inp_inc        ou_inc       pac_inc      prev_hd  \\\n",
       "count   3225.000000   3225.000000   3225.000000   3225.000000  3187.000000   \n",
       "mean   10897.701395   3664.098295   1821.863256   2653.663256    19.095795   \n",
       "std     3940.901530   2013.078396   1516.128207   2057.818563     2.780602   \n",
       "min    -9999.000000  -9999.000000  -9999.000000  -9999.000000     9.200000   \n",
       "25%     9200.000000   3064.000000   1495.000000   1867.000000    17.400000   \n",
       "50%    10917.000000   3763.000000   1834.000000   2593.000000    19.100000   \n",
       "75%    12791.000000   4485.000000   2262.000000   3441.000000    20.800000   \n",
       "max    37988.000000  20843.000000  11729.000000  19903.000000    40.700000   \n",
       "\n",
       "           log_pop  \n",
       "count  3215.000000  \n",
       "mean      4.463104  \n",
       "std       0.633348  \n",
       "min       1.863323  \n",
       "25%       4.053520  \n",
       "50%       4.416774  \n",
       "75%       4.821516  \n",
       "max       6.998878  \n",
       "\n",
       "[8 rows x 51 columns]"
      ]
     },
     "execution_count": 658,
     "metadata": {},
     "output_type": "execute_result"
    }
   ],
   "source": [
    "df[features].describe()"
   ]
  },
  {
   "cell_type": "markdown",
   "metadata": {},
   "source": [
    "##### Let's say any county with less than 10,000 pop is too small"
   ]
  },
  {
   "cell_type": "code",
   "execution_count": 659,
   "metadata": {},
   "outputs": [
    {
     "data": {
      "text/plain": [
       "count    3.215000e+03\n",
       "mean     9.882768e+04\n",
       "std      3.164549e+05\n",
       "min      7.300000e+01\n",
       "25%      1.131150e+04\n",
       "50%      2.610800e+04\n",
       "75%      6.630050e+04\n",
       "max      9.974203e+06\n",
       "Name: total_population, dtype: float64"
      ]
     },
     "execution_count": 659,
     "metadata": {},
     "output_type": "execute_result"
    }
   ],
   "source": [
    "df.total_population.describe()"
   ]
  },
  {
   "cell_type": "code",
   "execution_count": 660,
   "metadata": {},
   "outputs": [
    {
     "data": {
      "text/plain": [
       "(2521, 64)"
      ]
     },
     "execution_count": 660,
     "metadata": {},
     "output_type": "execute_result"
    }
   ],
   "source": [
    "df = df[df.total_population > 10000]\n",
    "df.shape"
   ]
  },
  {
   "cell_type": "markdown",
   "metadata": {},
   "source": [
    "##### Remove counties with no target values"
   ]
  },
  {
   "cell_type": "code",
   "execution_count": 661,
   "metadata": {},
   "outputs": [
    {
     "data": {
      "text/plain": [
       "(2517, 64)"
      ]
     },
     "execution_count": 661,
     "metadata": {},
     "output_type": "execute_result"
    }
   ],
   "source": [
    "df = df[~df[target].isnull()]\n",
    "df.shape"
   ]
  },
  {
   "cell_type": "markdown",
   "metadata": {},
   "source": [
    "##### Logistic Regression"
   ]
  },
  {
   "cell_type": "code",
   "execution_count": 662,
   "metadata": {
    "collapsed": true
   },
   "outputs": [],
   "source": []
  },
  {
   "cell_type": "code",
   "execution_count": 699,
   "metadata": {},
   "outputs": [],
   "source": [
    "df_train = df[features_personal].copy()\n",
    "df_train = df_train.fillna(0)\n",
    "del df_train['income']\n",
    "del df_train['home_val']\n",
    "df_train = df_train.replace(0, 1e-10).replace(1, 1 - 1e-10)\n",
    "df_train = logit(df_train / 100)\n",
    "features_used = df_train.columns.values"
   ]
  },
  {
   "cell_type": "code",
   "execution_count": 918,
   "metadata": {
    "collapsed": true
   },
   "outputs": [],
   "source": [
    "df_train = df[features_b].copy()\n",
    "df_train = df_train.fillna(0)\n",
    "df_train = df_train.replace(0, 1e-10).replace(1, 1 - 1e-10)\n",
    "df_train = logit(df_train / 100)\n",
    "features_used = df_train.columns.values"
   ]
  },
  {
   "cell_type": "code",
   "execution_count": 919,
   "metadata": {
    "collapsed": true
   },
   "outputs": [],
   "source": [
    "X = df_train.values\n",
    "y = df[target].values"
   ]
  },
  {
   "cell_type": "code",
   "execution_count": 704,
   "metadata": {
    "collapsed": true
   },
   "outputs": [],
   "source": [
    "# imputer = Imputer(missing_values='NaN', strategy='mean')\n",
    "\n",
    "# print X_train.shape\n",
    "# print X_test.shape\n",
    "# X_train = imputer.fit_transform(X_train)\n",
    "# X_test = imputer.transform(X_test)\n",
    "# print X_train.shape\n",
    "# print X_test.shape"
   ]
  },
  {
   "cell_type": "code",
   "execution_count": 705,
   "metadata": {
    "collapsed": true
   },
   "outputs": [],
   "source": [
    "# scaler = StandardScaler()\n",
    "\n",
    "# scaler.fit(X_train)\n",
    "\n",
    "# X_train = scaler.transform(X_train)\n",
    "# X_test = scaler.transform(X_test)\n"
   ]
  },
  {
   "cell_type": "code",
   "execution_count": 706,
   "metadata": {
    "collapsed": true
   },
   "outputs": [],
   "source": [
    "from sklearn.linear_model import LogisticRegressionCV\n",
    "from sklearn.linear_model import LinearRegression"
   ]
  },
  {
   "cell_type": "code",
   "execution_count": 707,
   "metadata": {
    "collapsed": true
   },
   "outputs": [],
   "source": [
    "target = 'hosp_total_cvd'\n",
    "y_train, y_test = train_test_split(df[target].values, test_size=0.2, random_state=666)"
   ]
  },
  {
   "cell_type": "code",
   "execution_count": 920,
   "metadata": {
    "collapsed": true
   },
   "outputs": [],
   "source": [
    "regr = LinearRegression()"
   ]
  },
  {
   "cell_type": "code",
   "execution_count": 921,
   "metadata": {},
   "outputs": [
    {
     "data": {
      "text/plain": [
       "LinearRegression(copy_X=True, fit_intercept=True, n_jobs=1, normalize=False)"
      ]
     },
     "execution_count": 921,
     "metadata": {},
     "output_type": "execute_result"
    }
   ],
   "source": [
    "regr.fit(X, y)"
   ]
  },
  {
   "cell_type": "code",
   "execution_count": 922,
   "metadata": {
    "collapsed": true
   },
   "outputs": [],
   "source": [
    "y_pred = regr.predict(X)"
   ]
  },
  {
   "cell_type": "code",
   "execution_count": 923,
   "metadata": {
    "collapsed": true
   },
   "outputs": [],
   "source": [
    "from sklearn.metrics import mean_squared_error, r2_score"
   ]
  },
  {
   "cell_type": "code",
   "execution_count": 924,
   "metadata": {},
   "outputs": [
    {
     "name": "stdout",
     "output_type": "stream",
     "text": [
      "Mean squared error: 179.86\n",
      "Variance score: 0.38\n"
     ]
    }
   ],
   "source": [
    "print \"Mean squared error: %.2f\" % mean_squared_error(y, y_pred)\n",
    "print('Variance score: %.2f' % r2_score(y, y_pred))"
   ]
  },
  {
   "cell_type": "code",
   "execution_count": 925,
   "metadata": {},
   "outputs": [
    {
     "data": {
      "text/plain": [
       "<matplotlib.text.Text at 0x11f5f3cd0>"
      ]
     },
     "execution_count": 925,
     "metadata": {},
     "output_type": "execute_result"
    },
    {
     "data": {
      "image/png": "[encoded data removed]",
      "text/plain": [
       "<matplotlib.figure.Figure at 0x120533290>"
      ]
     },
     "metadata": {},
     "output_type": "display_data"
    }
   ],
   "source": [
    "scatter(y, y_pred)\n",
    "plot([0, max(y)], [0, max(y)], 'k--')\n",
    "xlabel('y true')\n",
    "ylabel('y pred')"
   ]
  },
  {
   "cell_type": "code",
   "execution_count": 926,
   "metadata": {},
   "outputs": [],
   "source": [
    "coef = pd.DataFrame({'coef': regr.coef_, 'feature': features_used}).sort_values('coef', ascending=False)"
   ]
  },
  {
   "cell_type": "code",
   "execution_count": 927,
   "metadata": {
    "scrolled": false
   },
   "outputs": [
    {
     "data": {
      "text/html": [
       "<div>\n",
       "<style>\n",
       "    .dataframe thead tr:only-child th {\n",
       "        text-align: right;\n",
       "    }\n",
       "\n",
       "    .dataframe thead th {\n",
       "        text-align: left;\n",
       "    }\n",
       "\n",
       "    .dataframe tbody tr th {\n",
       "        vertical-align: top;\n",
       "    }\n",
       "</style>\n",
       "<table border=\"1\" class=\"dataframe\">\n",
       "  <thead>\n",
       "    <tr style=\"text-align: right;\">\n",
       "      <th></th>\n",
       "      <th>coef</th>\n",
       "      <th>feature</th>\n",
       "    </tr>\n",
       "  </thead>\n",
       "  <tbody>\n",
       "    <tr>\n",
       "      <th>1</th>\n",
       "      <td>36.719793</td>\n",
       "      <td>dm_prev_adj</td>\n",
       "    </tr>\n",
       "    <tr>\n",
       "      <th>2</th>\n",
       "      <td>2.520465</td>\n",
       "      <td>prev_hd</td>\n",
       "    </tr>\n",
       "    <tr>\n",
       "      <th>0</th>\n",
       "      <td>0.939365</td>\n",
       "      <td>povpct</td>\n",
       "    </tr>\n",
       "    <tr>\n",
       "      <th>3</th>\n",
       "      <td>0.488931</td>\n",
       "      <td>perc_black</td>\n",
       "    </tr>\n",
       "  </tbody>\n",
       "</table>\n",
       "</div>"
      ],
      "text/plain": [
       "        coef      feature\n",
       "1  36.719793  dm_prev_adj\n",
       "2   2.520465      prev_hd\n",
       "0   0.939365       povpct\n",
       "3   0.488931   perc_black"
      ]
     },
     "execution_count": 927,
     "metadata": {},
     "output_type": "execute_result"
    }
   ],
   "source": [
    "coef"
   ]
  },
  {
   "cell_type": "code",
   "execution_count": 928,
   "metadata": {},
   "outputs": [
    {
     "data": {
      "text/html": [
       "<div>\n",
       "<style>\n",
       "    .dataframe thead tr:only-child th {\n",
       "        text-align: right;\n",
       "    }\n",
       "\n",
       "    .dataframe thead th {\n",
       "        text-align: left;\n",
       "    }\n",
       "\n",
       "    .dataframe tbody tr th {\n",
       "        vertical-align: top;\n",
       "    }\n",
       "</style>\n",
       "<table border=\"1\" class=\"dataframe\">\n",
       "  <thead>\n",
       "    <tr style=\"text-align: right;\">\n",
       "      <th></th>\n",
       "      <th>povpct</th>\n",
       "      <th>dm_prev_adj</th>\n",
       "      <th>prev_hd</th>\n",
       "      <th>perc_black</th>\n",
       "    </tr>\n",
       "  </thead>\n",
       "  <tbody>\n",
       "    <tr>\n",
       "      <th>count</th>\n",
       "      <td>2517.000000</td>\n",
       "      <td>2517.000000</td>\n",
       "      <td>2517.000000</td>\n",
       "      <td>2517.000000</td>\n",
       "    </tr>\n",
       "    <tr>\n",
       "      <th>mean</th>\n",
       "      <td>-2.388189</td>\n",
       "      <td>-2.225303</td>\n",
       "      <td>-1.446587</td>\n",
       "      <td>-4.304886</td>\n",
       "    </tr>\n",
       "    <tr>\n",
       "      <th>std</th>\n",
       "      <td>4.324863</td>\n",
       "      <td>0.255610</td>\n",
       "      <td>0.547693</td>\n",
       "      <td>5.077622</td>\n",
       "    </tr>\n",
       "    <tr>\n",
       "      <th>min</th>\n",
       "      <td>-27.631021</td>\n",
       "      <td>-3.231428</td>\n",
       "      <td>-27.631021</td>\n",
       "      <td>-27.631021</td>\n",
       "    </tr>\n",
       "    <tr>\n",
       "      <th>25%</th>\n",
       "      <td>-1.982994</td>\n",
       "      <td>-2.389200</td>\n",
       "      <td>-1.529957</td>\n",
       "      <td>-4.954821</td>\n",
       "    </tr>\n",
       "    <tr>\n",
       "      <th>50%</th>\n",
       "      <td>-1.658228</td>\n",
       "      <td>-2.242481</td>\n",
       "      <td>-1.424226</td>\n",
       "      <td>-3.547151</td>\n",
       "    </tr>\n",
       "    <tr>\n",
       "      <th>75%</th>\n",
       "      <td>-1.361479</td>\n",
       "      <td>-2.040656</td>\n",
       "      <td>-1.330964</td>\n",
       "      <td>-1.973626</td>\n",
       "    </tr>\n",
       "    <tr>\n",
       "      <th>max</th>\n",
       "      <td>0.088057</td>\n",
       "      <td>-1.337023</td>\n",
       "      <td>-0.856840</td>\n",
       "      <td>1.557539</td>\n",
       "    </tr>\n",
       "  </tbody>\n",
       "</table>\n",
       "</div>"
      ],
      "text/plain": [
       "            povpct  dm_prev_adj      prev_hd   perc_black\n",
       "count  2517.000000  2517.000000  2517.000000  2517.000000\n",
       "mean     -2.388189    -2.225303    -1.446587    -4.304886\n",
       "std       4.324863     0.255610     0.547693     5.077622\n",
       "min     -27.631021    -3.231428   -27.631021   -27.631021\n",
       "25%      -1.982994    -2.389200    -1.529957    -4.954821\n",
       "50%      -1.658228    -2.242481    -1.424226    -3.547151\n",
       "75%      -1.361479    -2.040656    -1.330964    -1.973626\n",
       "max       0.088057    -1.337023    -0.856840     1.557539"
      ]
     },
     "execution_count": 928,
     "metadata": {},
     "output_type": "execute_result"
    }
   ],
   "source": [
    "df_train.describe()"
   ]
  },
  {
   "cell_type": "markdown",
   "metadata": {},
   "source": [
    "##### correlation"
   ]
  },
  {
   "cell_type": "code",
   "execution_count": 616,
   "metadata": {
    "collapsed": true
   },
   "outputs": [],
   "source": [
    "from scipy.stats import pearsonr"
   ]
  },
  {
   "cell_type": "code",
   "execution_count": 761,
   "metadata": {},
   "outputs": [
    {
     "data": {
      "text/plain": [
       "dm_prev_adj             0.497930\n",
       "no_college              0.404954\n",
       "no_hsdip                0.364870\n",
       "perc_black              0.303648\n",
       "foodstmp                0.228167\n",
       "povpct                  0.210864\n",
       "ltpia_prev_adj          0.209075\n",
       "ob_prev_adj             0.196296\n",
       "prev_hd                 0.174305\n",
       "income_div_by_1000      0.150990\n",
       "unemploy                0.116477\n",
       "perc_white              0.093016\n",
       "perc_api               -0.053717\n",
       "perc_aian              -0.065019\n",
       "perc_hisp              -0.242450\n",
       "home_val_div_by_1000   -0.404595\n",
       "dtype: float64"
      ]
     },
     "execution_count": 761,
     "metadata": {},
     "output_type": "execute_result"
    }
   ],
   "source": [
    "x = {}\n",
    "for i, f in enumerate(features_used):\n",
    "    x[f] = pearsonr(X_train[:, i], y_train)[0]\n",
    "pd.Series(x).sort_values(ascending=False)"
   ]
  },
  {
   "cell_type": "markdown",
   "metadata": {},
   "source": [
    "# Taking only personally valid features"
   ]
  },
  {
   "cell_type": "code",
   "execution_count": 367,
   "metadata": {
    "collapsed": true
   },
   "outputs": [],
   "source": [
    "feature_descriptions={\n",
    "    'dm_prev_adj': 'diabetis mellitus prevalence (age?) adjusted',\n",
    "    'ob_prev_adj': 'obesity prevalence (age?) adjusted',\n",
    "    'ltpia_prev_adj': 'leasure time physical inactivity prevalence (age?) adjusted',\n",
    "    'female_hd': 'female_headed_households',\n",
    "    'income': 'median household income',\n",
    "    'home_val': 'median home value',\n",
    "    'no_hsdip': 'no high school diploma',\n",
    "    'no_college': 'no college education',\n",
    "    'povpct': 'poverty percent',\n",
    "    'perc_aian': 'american indians/alaskan natives',\n",
    "    'perc_api': 'asian/pacific islanders',\n",
    "    'sev_housing': 'severe housing problems',\n",
    "    'NCHS_collapse': 'urban/rural status',\n",
    "    'htnadh_*': 'blood pressure medicine (non-adherence?)',\n",
    "    'duiradh': 'diuretics only (non-adherence?)',\n",
    "    'rasadh': 'Renin-Angiotensin System medicine (non-adherence?)',\n",
    "    'stg_*': 'hospital numbers',\n",
    "    '*_dr': 'number of doctors',\n",
    "    'pctui': 'health insurance status',\n",
    "    'medicaid': 'percent medicaid eligible',\n",
    "    '*_cost': 'for medicare patients with HD - total/inpatient/outpatient/post acute care costs',\n",
    "    '*_inc': 'for medicare patients with HD - incremental costs'\n",
    "}"
   ]
  },
  {
   "cell_type": "markdown",
   "metadata": {},
   "source": [
    "TODO: Add age and gender by exporting from CDC atlas"
   ]
  },
  {
   "cell_type": "code",
   "execution_count": 598,
   "metadata": {
    "collapsed": true
   },
   "outputs": [],
   "source": [
    "features_personal = ['dm_prev_adj',\n",
    "                     'ob_prev_adj',\n",
    "                     'ltpia_prev_adj',\n",
    "                     'no_hsdip',\n",
    "                     'no_college',\n",
    "                     'foodstmp',\n",
    "                     'home_val',\n",
    "                     'income',\n",
    "                     'povpct',\n",
    "                     'unemploy',\n",
    "                     'perc_aian',\n",
    "                     'perc_api',\n",
    "                     'perc_black',\n",
    "                     'perc_white',\n",
    "                     'perc_hisp',\n",
    "#                      'htnadh_all',\n",
    "#                      'diuradh',\n",
    "#                      'rasadh',\n",
    "                     'prev_hd']"
   ]
  },
  {
   "cell_type": "markdown",
   "metadata": {},
   "source": [
    "# race and gender"
   ]
  },
  {
   "cell_type": "code",
   "execution_count": 4,
   "metadata": {},
   "outputs": [
    {
     "data": {
      "text/plain": [
       "['/Users/roee/work/cdc/tables/race_gender/hosp_cvd_black_female_2012_2014.csv',\n",
       " '/Users/roee/work/cdc/tables/race_gender/hosp_cvd_black_male_2012_2014.csv',\n",
       " '/Users/roee/work/cdc/tables/race_gender/hosp_cvd_hispanic_female_2012_2014.csv',\n",
       " '/Users/roee/work/cdc/tables/race_gender/hosp_cvd_hispanic_male_2012_2014.csv',\n",
       " '/Users/roee/work/cdc/tables/race_gender/hosp_cvd_white_female_2012_2014.csv',\n",
       " '/Users/roee/work/cdc/tables/race_gender/hosp_cvd_white_male_2012_2014.csv']"
      ]
     },
     "execution_count": 4,
     "metadata": {},
     "output_type": "execute_result"
    }
   ],
   "source": [
    "fns = glob('/Users/roee/work/cdc/tables/race_gender/hosp_cvd_*')\n",
    "fns"
   ]
  },
  {
   "cell_type": "code",
   "execution_count": 5,
   "metadata": {},
   "outputs": [],
   "source": [
    "dfs = []\n",
    "for fn in fns:\n",
    "    if 'all_features' in fn:\n",
    "        continue\n",
    "    name = re.search(r'race_gender/hosp_(.*)_2012_2014', fn).group(1)\n",
    "    df_ = pd.read_csv(fn, usecols=('cnty_fips', 'display_name', 'Value'), dtype={'Value': 'float'})\n",
    "    df_ = df_.rename(columns={'display_name': 'county_name', 'Value': name, 'cnty_fips': 'fips'})\n",
    "    df_ = df_.set_index('fips')\n",
    "    dfs.append(df_)\n",
    "df_race_gender = pd.concat(dfs, axis=1).T.drop_duplicates().T.replace(-1, nan)"
   ]
  },
  {
   "cell_type": "code",
   "execution_count": 6,
   "metadata": {},
   "outputs": [
    {
     "data": {
      "text/plain": [
       "(3225, 7)"
      ]
     },
     "execution_count": 6,
     "metadata": {},
     "output_type": "execute_result"
    }
   ],
   "source": [
    "df_race_gender.shape"
   ]
  },
  {
   "cell_type": "code",
   "execution_count": 7,
   "metadata": {},
   "outputs": [],
   "source": [
    "no_data = df_race_gender.loc[:, df_race_gender.columns.str.startswith('cvd')].isnull().all(axis=1)\n",
    "no_data = no_data[no_data].index"
   ]
  },
  {
   "cell_type": "code",
   "execution_count": 8,
   "metadata": {},
   "outputs": [],
   "source": [
    "df_race_gender = df_race_gender.drop(no_data)"
   ]
  },
  {
   "cell_type": "code",
   "execution_count": 9,
   "metadata": {},
   "outputs": [
    {
     "data": {
      "text/plain": [
       "(3117, 7)"
      ]
     },
     "execution_count": 9,
     "metadata": {},
     "output_type": "execute_result"
    }
   ],
   "source": [
    "df_race_gender.shape"
   ]
  },
  {
   "cell_type": "code",
   "execution_count": 10,
   "metadata": {},
   "outputs": [
    {
     "data": {
      "text/html": [
       "<div>\n",
       "<style>\n",
       "    .dataframe thead tr:only-child th {\n",
       "        text-align: right;\n",
       "    }\n",
       "\n",
       "    .dataframe thead th {\n",
       "        text-align: left;\n",
       "    }\n",
       "\n",
       "    .dataframe tbody tr th {\n",
       "        vertical-align: top;\n",
       "    }\n",
       "</style>\n",
       "<table border=\"1\" class=\"dataframe\">\n",
       "  <thead>\n",
       "    <tr style=\"text-align: right;\">\n",
       "      <th></th>\n",
       "      <th>county_name</th>\n",
       "      <th>cvd_black_female</th>\n",
       "      <th>cvd_black_male</th>\n",
       "      <th>cvd_hispanic_female</th>\n",
       "      <th>cvd_hispanic_male</th>\n",
       "      <th>cvd_white_female</th>\n",
       "      <th>cvd_white_male</th>\n",
       "    </tr>\n",
       "    <tr>\n",
       "      <th>fips</th>\n",
       "      <th></th>\n",
       "      <th></th>\n",
       "      <th></th>\n",
       "      <th></th>\n",
       "      <th></th>\n",
       "      <th></th>\n",
       "      <th></th>\n",
       "    </tr>\n",
       "  </thead>\n",
       "  <tbody>\n",
       "    <tr>\n",
       "      <th>1001</th>\n",
       "      <td>\"Autauga, (AL)\"</td>\n",
       "      <td>60.1</td>\n",
       "      <td>106.7</td>\n",
       "      <td>NaN</td>\n",
       "      <td>NaN</td>\n",
       "      <td>61.2</td>\n",
       "      <td>76.3</td>\n",
       "    </tr>\n",
       "    <tr>\n",
       "      <th>1003</th>\n",
       "      <td>\"Baldwin, (AL)\"</td>\n",
       "      <td>56.7</td>\n",
       "      <td>63.6</td>\n",
       "      <td>NaN</td>\n",
       "      <td>NaN</td>\n",
       "      <td>56.9</td>\n",
       "      <td>82.5</td>\n",
       "    </tr>\n",
       "    <tr>\n",
       "      <th>1005</th>\n",
       "      <td>\"Barbour, (AL)\"</td>\n",
       "      <td>65.2</td>\n",
       "      <td>87.1</td>\n",
       "      <td>NaN</td>\n",
       "      <td>NaN</td>\n",
       "      <td>55.4</td>\n",
       "      <td>89.2</td>\n",
       "    </tr>\n",
       "    <tr>\n",
       "      <th>1007</th>\n",
       "      <td>\"Bibb, (AL)\"</td>\n",
       "      <td>65.3</td>\n",
       "      <td>103.9</td>\n",
       "      <td>NaN</td>\n",
       "      <td>NaN</td>\n",
       "      <td>63.3</td>\n",
       "      <td>85.9</td>\n",
       "    </tr>\n",
       "    <tr>\n",
       "      <th>1009</th>\n",
       "      <td>\"Blount, (AL)\"</td>\n",
       "      <td>NaN</td>\n",
       "      <td>NaN</td>\n",
       "      <td>NaN</td>\n",
       "      <td>NaN</td>\n",
       "      <td>64.5</td>\n",
       "      <td>78.8</td>\n",
       "    </tr>\n",
       "  </tbody>\n",
       "</table>\n",
       "</div>"
      ],
      "text/plain": [
       "          county_name  cvd_black_female  cvd_black_male  cvd_hispanic_female  \\\n",
       "fips                                                                           \n",
       "1001  \"Autauga, (AL)\"              60.1           106.7                  NaN   \n",
       "1003  \"Baldwin, (AL)\"              56.7            63.6                  NaN   \n",
       "1005  \"Barbour, (AL)\"              65.2            87.1                  NaN   \n",
       "1007     \"Bibb, (AL)\"              65.3           103.9                  NaN   \n",
       "1009   \"Blount, (AL)\"               NaN             NaN                  NaN   \n",
       "\n",
       "      cvd_hispanic_male  cvd_white_female  cvd_white_male  \n",
       "fips                                                       \n",
       "1001                NaN              61.2            76.3  \n",
       "1003                NaN              56.9            82.5  \n",
       "1005                NaN              55.4            89.2  \n",
       "1007                NaN              63.3            85.9  \n",
       "1009                NaN              64.5            78.8  "
      ]
     },
     "execution_count": 10,
     "metadata": {},
     "output_type": "execute_result"
    }
   ],
   "source": [
    "df_race_gender.head()"
   ]
  },
  {
   "cell_type": "markdown",
   "metadata": {},
   "source": [
    "### one hot encoding"
   ]
  },
  {
   "cell_type": "code",
   "execution_count": 16,
   "metadata": {},
   "outputs": [],
   "source": [
    "dfs_ = []\n",
    "for c in df_race_gender.columns:\n",
    "    if not c.startswith('cvd'):\n",
    "        continue\n",
    "    df_ = pd.DataFrame(index=df_race_gender.index)\n",
    "    df_['cvd_hosp'] = df_race_gender[c]\n",
    "    df_[c.replace('cvd_', '')] = 1\n",
    "    dfs_.append(df_)\n",
    "df_ = pd.concat(dfs_, axis=0)\n",
    "df_ = df_[~df_.cvd_hosp.isnull()]\n",
    "df_ = df_.fillna(0)\n",
    "df_.cvd_hosp = logit(df_.cvd_hosp / 1000) # original data in cases per 1000"
   ]
  },
  {
   "cell_type": "code",
   "execution_count": 17,
   "metadata": {},
   "outputs": [
    {
     "data": {
      "text/html": [
       "<div>\n",
       "<style>\n",
       "    .dataframe thead tr:only-child th {\n",
       "        text-align: right;\n",
       "    }\n",
       "\n",
       "    .dataframe thead th {\n",
       "        text-align: left;\n",
       "    }\n",
       "\n",
       "    .dataframe tbody tr th {\n",
       "        vertical-align: top;\n",
       "    }\n",
       "</style>\n",
       "<table border=\"1\" class=\"dataframe\">\n",
       "  <thead>\n",
       "    <tr style=\"text-align: right;\">\n",
       "      <th></th>\n",
       "      <th>black_female</th>\n",
       "      <th>black_male</th>\n",
       "      <th>cvd_hosp</th>\n",
       "      <th>hispanic_female</th>\n",
       "      <th>hispanic_male</th>\n",
       "      <th>white_female</th>\n",
       "      <th>white_male</th>\n",
       "    </tr>\n",
       "    <tr>\n",
       "      <th>fips</th>\n",
       "      <th></th>\n",
       "      <th></th>\n",
       "      <th></th>\n",
       "      <th></th>\n",
       "      <th></th>\n",
       "      <th></th>\n",
       "      <th></th>\n",
       "    </tr>\n",
       "  </thead>\n",
       "  <tbody>\n",
       "    <tr>\n",
       "      <th>1001</th>\n",
       "      <td>1.0</td>\n",
       "      <td>0.0</td>\n",
       "      <td>-2.749764</td>\n",
       "      <td>0.0</td>\n",
       "      <td>0.0</td>\n",
       "      <td>0.0</td>\n",
       "      <td>0.0</td>\n",
       "    </tr>\n",
       "    <tr>\n",
       "      <th>1003</th>\n",
       "      <td>1.0</td>\n",
       "      <td>0.0</td>\n",
       "      <td>-2.811610</td>\n",
       "      <td>0.0</td>\n",
       "      <td>0.0</td>\n",
       "      <td>0.0</td>\n",
       "      <td>0.0</td>\n",
       "    </tr>\n",
       "    <tr>\n",
       "      <th>1005</th>\n",
       "      <td>1.0</td>\n",
       "      <td>0.0</td>\n",
       "      <td>-2.662873</td>\n",
       "      <td>0.0</td>\n",
       "      <td>0.0</td>\n",
       "      <td>0.0</td>\n",
       "      <td>0.0</td>\n",
       "    </tr>\n",
       "    <tr>\n",
       "      <th>1007</th>\n",
       "      <td>1.0</td>\n",
       "      <td>0.0</td>\n",
       "      <td>-2.661234</td>\n",
       "      <td>0.0</td>\n",
       "      <td>0.0</td>\n",
       "      <td>0.0</td>\n",
       "      <td>0.0</td>\n",
       "    </tr>\n",
       "    <tr>\n",
       "      <th>1011</th>\n",
       "      <td>1.0</td>\n",
       "      <td>0.0</td>\n",
       "      <td>-2.282294</td>\n",
       "      <td>0.0</td>\n",
       "      <td>0.0</td>\n",
       "      <td>0.0</td>\n",
       "      <td>0.0</td>\n",
       "    </tr>\n",
       "  </tbody>\n",
       "</table>\n",
       "</div>"
      ],
      "text/plain": [
       "      black_female  black_male  cvd_hosp  hispanic_female  hispanic_male  \\\n",
       "fips                                                                       \n",
       "1001           1.0         0.0 -2.749764              0.0            0.0   \n",
       "1003           1.0         0.0 -2.811610              0.0            0.0   \n",
       "1005           1.0         0.0 -2.662873              0.0            0.0   \n",
       "1007           1.0         0.0 -2.661234              0.0            0.0   \n",
       "1011           1.0         0.0 -2.282294              0.0            0.0   \n",
       "\n",
       "      white_female  white_male  \n",
       "fips                            \n",
       "1001           0.0         0.0  \n",
       "1003           0.0         0.0  \n",
       "1005           0.0         0.0  \n",
       "1007           0.0         0.0  \n",
       "1011           0.0         0.0  "
      ]
     },
     "execution_count": 17,
     "metadata": {},
     "output_type": "execute_result"
    }
   ],
   "source": [
    "df_.head()"
   ]
  },
  {
   "cell_type": "code",
   "execution_count": null,
   "metadata": {},
   "outputs": [],
   "source": []
  },
  {
   "cell_type": "code",
   "execution_count": 18,
   "metadata": {
    "collapsed": true
   },
   "outputs": [],
   "source": [
    "imputer = Imputer(strategy='most_frequent') # essentially zeros"
   ]
  },
  {
   "cell_type": "code",
   "execution_count": 19,
   "metadata": {
    "collapsed": true
   },
   "outputs": [],
   "source": [
    "df_['bias'] = 1"
   ]
  },
  {
   "cell_type": "code",
   "execution_count": 20,
   "metadata": {
    "collapsed": true
   },
   "outputs": [],
   "source": [
    "from statsmodels.tools import add_constant"
   ]
  },
  {
   "cell_type": "code",
   "execution_count": 82,
   "metadata": {},
   "outputs": [
    {
     "name": "stdout",
     "output_type": "stream",
     "text": [
      "(8830, 6) (8830,)\n"
     ]
    }
   ],
   "source": [
    "race_gender_features = ['black_female', 'black_male',\n",
    "       'hispanic_female', 'white_female', 'hispanic_male', 'bias']\n",
    "X = df_[race_gender_features].values\n",
    "X = imputer.fit_transform(X)\n",
    "# X = scaler.fit_transform(X)\n",
    "\n",
    "y = df_.cvd_hosp.values\n",
    "print X.shape, y.shape"
   ]
  },
  {
   "cell_type": "code",
   "execution_count": 83,
   "metadata": {},
   "outputs": [
    {
     "data": {
      "text/html": [
       "<table class=\"simpletable\">\n",
       "<caption>OLS Regression Results</caption>\n",
       "<tr>\n",
       "  <th>Dep. Variable:</th>        <td>cvd_hosp</td>     <th>  R-squared:         </th> <td>   0.283</td>\n",
       "</tr>\n",
       "<tr>\n",
       "  <th>Model:</th>                   <td>OLS</td>       <th>  Adj. R-squared:    </th> <td>   0.283</td>\n",
       "</tr>\n",
       "<tr>\n",
       "  <th>Method:</th>             <td>Least Squares</td>  <th>  F-statistic:       </th> <td>   697.0</td>\n",
       "</tr>\n",
       "<tr>\n",
       "  <th>Date:</th>             <td>Wed, 30 Aug 2017</td> <th>  Prob (F-statistic):</th>  <td>  0.00</td> \n",
       "</tr>\n",
       "<tr>\n",
       "  <th>Time:</th>                 <td>18:11:39</td>     <th>  Log-Likelihood:    </th> <td> -3071.7</td>\n",
       "</tr>\n",
       "<tr>\n",
       "  <th>No. Observations:</th>      <td>  8830</td>      <th>  AIC:               </th> <td>   6155.</td>\n",
       "</tr>\n",
       "<tr>\n",
       "  <th>Df Residuals:</th>          <td>  8824</td>      <th>  BIC:               </th> <td>   6198.</td>\n",
       "</tr>\n",
       "<tr>\n",
       "  <th>Df Model:</th>              <td>     5</td>      <th>                     </th>     <td> </td>   \n",
       "</tr>\n",
       "<tr>\n",
       "  <th>Covariance Type:</th>      <td>nonrobust</td>    <th>                     </th>     <td> </td>   \n",
       "</tr>\n",
       "</table>\n",
       "<table class=\"simpletable\">\n",
       "<tr>\n",
       "         <td></td>            <th>coef</th>     <th>std err</th>      <th>t</th>      <th>P>|t|</th>  <th>[0.025</th>    <th>0.975]</th>  \n",
       "</tr>\n",
       "<tr>\n",
       "  <th>black_female</th>    <td>    0.1717</td> <td>    0.012</td> <td>   14.312</td> <td> 0.000</td> <td>    0.148</td> <td>    0.195</td>\n",
       "</tr>\n",
       "<tr>\n",
       "  <th>black_male</th>      <td>    0.2656</td> <td>    0.012</td> <td>   21.664</td> <td> 0.000</td> <td>    0.242</td> <td>    0.290</td>\n",
       "</tr>\n",
       "<tr>\n",
       "  <th>hispanic_female</th> <td>   -0.1726</td> <td>    0.022</td> <td>   -7.825</td> <td> 0.000</td> <td>   -0.216</td> <td>   -0.129</td>\n",
       "</tr>\n",
       "<tr>\n",
       "  <th>white_female</th>    <td>   -0.3313</td> <td>    0.009</td> <td>  -37.942</td> <td> 0.000</td> <td>   -0.348</td> <td>   -0.314</td>\n",
       "</tr>\n",
       "<tr>\n",
       "  <th>hispanic_male</th>   <td>   -0.1046</td> <td>    0.022</td> <td>   -4.650</td> <td> 0.000</td> <td>   -0.149</td> <td>   -0.060</td>\n",
       "</tr>\n",
       "<tr>\n",
       "  <th>bias</th>            <td>   -2.6082</td> <td>    0.006</td> <td> -424.081</td> <td> 0.000</td> <td>   -2.620</td> <td>   -2.596</td>\n",
       "</tr>\n",
       "</table>\n",
       "<table class=\"simpletable\">\n",
       "<tr>\n",
       "  <th>Omnibus:</th>       <td>392.138</td> <th>  Durbin-Watson:     </th> <td>   1.186</td> \n",
       "</tr>\n",
       "<tr>\n",
       "  <th>Prob(Omnibus):</th> <td> 0.000</td>  <th>  Jarque-Bera (JB):  </th> <td> 485.731</td> \n",
       "</tr>\n",
       "<tr>\n",
       "  <th>Skew:</th>          <td>-0.476</td>  <th>  Prob(JB):          </th> <td>3.35e-106</td>\n",
       "</tr>\n",
       "<tr>\n",
       "  <th>Kurtosis:</th>      <td> 3.643</td>  <th>  Cond. No.          </th> <td>    7.08</td> \n",
       "</tr>\n",
       "</table>"
      ],
      "text/plain": [
       "<class 'statsmodels.iolib.summary.Summary'>\n",
       "\"\"\"\n",
       "                            OLS Regression Results                            \n",
       "==============================================================================\n",
       "Dep. Variable:               cvd_hosp   R-squared:                       0.283\n",
       "Model:                            OLS   Adj. R-squared:                  0.283\n",
       "Method:                 Least Squares   F-statistic:                     697.0\n",
       "Date:                Wed, 30 Aug 2017   Prob (F-statistic):               0.00\n",
       "Time:                        18:11:39   Log-Likelihood:                -3071.7\n",
       "No. Observations:                8830   AIC:                             6155.\n",
       "Df Residuals:                    8824   BIC:                             6198.\n",
       "Df Model:                           5                                         \n",
       "Covariance Type:            nonrobust                                         \n",
       "===================================================================================\n",
       "                      coef    std err          t      P>|t|      [0.025      0.975]\n",
       "-----------------------------------------------------------------------------------\n",
       "black_female        0.1717      0.012     14.312      0.000       0.148       0.195\n",
       "black_male          0.2656      0.012     21.664      0.000       0.242       0.290\n",
       "hispanic_female    -0.1726      0.022     -7.825      0.000      -0.216      -0.129\n",
       "white_female       -0.3313      0.009    -37.942      0.000      -0.348      -0.314\n",
       "hispanic_male      -0.1046      0.022     -4.650      0.000      -0.149      -0.060\n",
       "bias               -2.6082      0.006   -424.081      0.000      -2.620      -2.596\n",
       "==============================================================================\n",
       "Omnibus:                      392.138   Durbin-Watson:                   1.186\n",
       "Prob(Omnibus):                  0.000   Jarque-Bera (JB):              485.731\n",
       "Skew:                          -0.476   Prob(JB):                    3.35e-106\n",
       "Kurtosis:                       3.643   Cond. No.                         7.08\n",
       "==============================================================================\n",
       "\n",
       "Warnings:\n",
       "[1] Standard Errors assume that the covariance matrix of the errors is correctly specified.\n",
       "\"\"\""
      ]
     },
     "execution_count": 83,
     "metadata": {},
     "output_type": "execute_result"
    }
   ],
   "source": [
    "results = smf.OLS(y, X).fit()\n",
    "\n",
    "results.summary(xname=race_gender_features, yname='cvd_hosp')"
   ]
  },
  {
   "cell_type": "code",
   "execution_count": 85,
   "metadata": {},
   "outputs": [
    {
     "data": {
      "text/html": [
       "<div>\n",
       "<style>\n",
       "    .dataframe thead tr:only-child th {\n",
       "        text-align: right;\n",
       "    }\n",
       "\n",
       "    .dataframe thead th {\n",
       "        text-align: left;\n",
       "    }\n",
       "\n",
       "    .dataframe tbody tr th {\n",
       "        vertical-align: top;\n",
       "    }\n",
       "</style>\n",
       "<table border=\"1\" class=\"dataframe\">\n",
       "  <thead>\n",
       "    <tr style=\"text-align: right;\">\n",
       "      <th></th>\n",
       "      <th>low</th>\n",
       "      <th>high</th>\n",
       "      <th>coef</th>\n",
       "    </tr>\n",
       "  </thead>\n",
       "  <tbody>\n",
       "    <tr>\n",
       "      <th>black_female</th>\n",
       "      <td>0.148193</td>\n",
       "      <td>0.195231</td>\n",
       "      <td>0.171712</td>\n",
       "    </tr>\n",
       "    <tr>\n",
       "      <th>black_male</th>\n",
       "      <td>0.241524</td>\n",
       "      <td>0.289580</td>\n",
       "      <td>0.265552</td>\n",
       "    </tr>\n",
       "    <tr>\n",
       "      <th>hispanic_female</th>\n",
       "      <td>-0.215777</td>\n",
       "      <td>-0.129327</td>\n",
       "      <td>-0.172552</td>\n",
       "    </tr>\n",
       "    <tr>\n",
       "      <th>white_female</th>\n",
       "      <td>-0.348390</td>\n",
       "      <td>-0.314160</td>\n",
       "      <td>-0.331275</td>\n",
       "    </tr>\n",
       "    <tr>\n",
       "      <th>hispanic_male</th>\n",
       "      <td>-0.148678</td>\n",
       "      <td>-0.060499</td>\n",
       "      <td>-0.104588</td>\n",
       "    </tr>\n",
       "    <tr>\n",
       "      <th>bias</th>\n",
       "      <td>-2.620243</td>\n",
       "      <td>-2.596132</td>\n",
       "      <td>-2.608188</td>\n",
       "    </tr>\n",
       "    <tr>\n",
       "      <th>white_male</th>\n",
       "      <td>0.060499</td>\n",
       "      <td>0.148678</td>\n",
       "      <td>0.104588</td>\n",
       "    </tr>\n",
       "  </tbody>\n",
       "</table>\n",
       "</div>"
      ],
      "text/plain": [
       "                      low      high      coef\n",
       "black_female     0.148193  0.195231  0.171712\n",
       "black_male       0.241524  0.289580  0.265552\n",
       "hispanic_female -0.215777 -0.129327 -0.172552\n",
       "white_female    -0.348390 -0.314160 -0.331275\n",
       "hispanic_male   -0.148678 -0.060499 -0.104588\n",
       "bias            -2.620243 -2.596132 -2.608188\n",
       "white_male       0.060499  0.148678  0.104588"
      ]
     },
     "execution_count": 85,
     "metadata": {},
     "output_type": "execute_result"
    }
   ],
   "source": [
    "conf = pd.DataFrame(results.conf_int(), index=race_gender_features, columns=('low', 'high'))\n",
    "conf['coef'] = pd.Series(results.params, index=race_gender_features)\n",
    "conf.loc['white_male'] = (0.060499, 0.148678, 0.104588) #from another run with white_male instead of hispanic_male\n",
    "conf"
   ]
  },
  {
   "cell_type": "code",
   "execution_count": 81,
   "metadata": {
    "collapsed": true
   },
   "outputs": [],
   "source": [
    "conf.to_pickle('/Users/roee/work/cdc/output/race_gender_coefs.pickle')"
   ]
  },
  {
   "cell_type": "code",
   "execution_count": 79,
   "metadata": {},
   "outputs": [
    {
     "name": "stdout",
     "output_type": "stream",
     "text": [
      "black_female is 1.2% (0.8% to 1.5%) more likely than white_male\n",
      "black_male is 1.9% (1.5% to 2.3%) more likely than white_male\n",
      "hispanic_female is -1.0% (-1.3% to -0.7%) more likely than white_male\n",
      "white_female is -1.8% (-2.0% to -1.6%) more likely than white_male\n"
     ]
    }
   ],
   "source": [
    "reference = 'white_male'\n",
    "for val, row in conf.iterrows():\n",
    "    if val in ('bias', reference):\n",
    "        continue\n",
    "    bias = conf.loc['bias', 'coef']\n",
    "    ref = expit(conf.loc[reference, 'coef'] + bias)\n",
    "    x = (expit(row.loc['coef'] + bias) - ref) * 100\n",
    "    x_l = (expit(row.loc['low'] + bias) - ref) * 100\n",
    "    x_h = (expit(row.loc['high'] + bias) - ref) * 100\n",
    "    print '{} is {:.1f}% ({:.1f}% to {:.1f}%) more likely than {}'.format(val, x, x_l, x_h, reference)"
   ]
  },
  {
   "cell_type": "code",
   "execution_count": 86,
   "metadata": {},
   "outputs": [
    {
     "data": {
      "text/plain": [
       "black_female       1.063844\n",
       "black_male         1.159334\n",
       "hispanic_female    0.772078\n",
       "white_female       0.664455\n",
       "hispanic_male      0.822997\n",
       "bias               0.071392\n",
       "white_male         1.000000\n",
       "Name: coef, dtype: float64"
      ]
     },
     "execution_count": 86,
     "metadata": {},
     "output_type": "execute_result"
    }
   ],
   "source": [
    "ratios = expit(conf.coef + conf.loc['bias', 'coef']) / expit(conf.loc['white_male', 'coef'] + conf.loc['bias', 'coef'])\n",
    "ratios"
   ]
  },
  {
   "cell_type": "code",
   "execution_count": 87,
   "metadata": {
    "collapsed": true
   },
   "outputs": [],
   "source": [
    "ratios.to_pickle('/Users/roee/work/cdc/output/race_gender_ratios.pickle')"
   ]
  },
  {
   "cell_type": "markdown",
   "metadata": {},
   "source": [
    "# --------------"
   ]
  },
  {
   "cell_type": "raw",
   "metadata": {},
   "source": [
    "(re-creating the dataframe for Daniel)"
   ]
  },
  {
   "cell_type": "code",
   "execution_count": 4,
   "metadata": {},
   "outputs": [
    {
     "data": {
      "text/plain": [
       "['/Users/roee/work/cdc/tables/65_plus_percent_2012_2014.csv',\n",
       " '/Users/roee/work/cdc/tables/all_features_2012_2014.csv',\n",
       " '/Users/roee/work/cdc/tables/hosp_acute_mi_2012_2014_65_plus.csv',\n",
       " '/Users/roee/work/cdc/tables/hosp_all_stroke_2012_2014_65_plus.csv',\n",
       " '/Users/roee/work/cdc/tables/hosp_cardiac_dysrhythmia_2012_2014_65_plus.csv',\n",
       " '/Users/roee/work/cdc/tables/hosp_coronary_heart_disease_2012_2014_65_plus.csv',\n",
       " '/Users/roee/work/cdc/tables/hosp_heart_failure_2012_2014_65_plus.csv',\n",
       " '/Users/roee/work/cdc/tables/hosp_hemorrhagic_stroke_2012_2014_65_plus.csv',\n",
       " '/Users/roee/work/cdc/tables/hosp_hypertension_2012_2014_65_plus.csv',\n",
       " '/Users/roee/work/cdc/tables/hosp_ischemic_stroke_2012_2014_65_plus.csv',\n",
       " '/Users/roee/work/cdc/tables/hosp_total_cvd_2012_2014_65_plus.csv',\n",
       " '/Users/roee/work/cdc/tables/hosp_total_heart_disease_2012_2014_65_plus.csv',\n",
       " '/Users/roee/work/cdc/tables/total_population_2012_2014.csv']"
      ]
     },
     "execution_count": 4,
     "metadata": {},
     "output_type": "execute_result"
    }
   ],
   "source": [
    "fns = glob('/Users/roee/work/cdc/tables/*csv')\n",
    "fns"
   ]
  },
  {
   "cell_type": "code",
   "execution_count": 5,
   "metadata": {
    "collapsed": true
   },
   "outputs": [],
   "source": [
    "dfs = []\n",
    "for fn in fns:\n",
    "    if 'all_features' in fn:\n",
    "        continue\n",
    "    name = re.search(r'tables/(.*)_2012_2014', fn).group(1)\n",
    "    df = pd.read_csv(fn, usecols=('cnty_fips', 'display_name', 'Value'))\n",
    "    df = df.rename(columns={'display_name': 'county_name', 'Value': name, 'cnty_fips': 'fips'})\n",
    "    df = df.set_index('fips')\n",
    "    dfs.append(df)"
   ]
  },
  {
   "cell_type": "code",
   "execution_count": 6,
   "metadata": {
    "collapsed": true
   },
   "outputs": [],
   "source": [
    "x = pd.read_csv('/Users/roee/work/cdc/tables/all_features_2012_2014.csv')\n",
    "x = x.rename(columns={'display_name': 'county_name', 'cnty_fips': 'fips'})\n",
    "del x['Value']\n",
    "del x['theme_range']\n",
    "x = x.set_index('fips')\n",
    "dfs.append(x)"
   ]
  },
  {
   "cell_type": "code",
   "execution_count": 7,
   "metadata": {},
   "outputs": [],
   "source": [
    "df = pd.concat(dfs, axis=1).T.drop_duplicates().T\n",
    "df = df.replace(-1, nan)\n",
    "\n",
    "for c in df.columns:\n",
    "    if c == 'county_name':\n",
    "        continue\n",
    "    df[c] = df[c].astype('float')"
   ]
  },
  {
   "cell_type": "code",
   "execution_count": 8,
   "metadata": {
    "collapsed": true
   },
   "outputs": [],
   "source": [
    "df['bias'] = 1"
   ]
  },
  {
   "cell_type": "code",
   "execution_count": 9,
   "metadata": {},
   "outputs": [
    {
     "data": {
      "text/plain": [
       "(3225, 64)"
      ]
     },
     "execution_count": 9,
     "metadata": {},
     "output_type": "execute_result"
    }
   ],
   "source": [
    "df.shape"
   ]
  },
  {
   "cell_type": "code",
   "execution_count": 10,
   "metadata": {},
   "outputs": [
    {
     "data": {
      "text/plain": [
       "(2521, 64)"
      ]
     },
     "execution_count": 10,
     "metadata": {},
     "output_type": "execute_result"
    }
   ],
   "source": [
    "df = df[df.total_population > 10000]\n",
    "df.shape"
   ]
  },
  {
   "cell_type": "code",
   "execution_count": 11,
   "metadata": {},
   "outputs": [
    {
     "data": {
      "text/plain": [
       "(2517, 64)"
      ]
     },
     "execution_count": 11,
     "metadata": {},
     "output_type": "execute_result"
    }
   ],
   "source": [
    "df = df[~df.hosp_total_cvd.isnull()]\n",
    "df.shape"
   ]
  },
  {
   "cell_type": "code",
   "execution_count": 12,
   "metadata": {},
   "outputs": [
    {
     "data": {
      "text/plain": [
       "(2456, 64)"
      ]
     },
     "execution_count": 12,
     "metadata": {},
     "output_type": "execute_result"
    }
   ],
   "source": [
    "df = df[~df.hosp_acute_mi.isnull()]\n",
    "df.shape"
   ]
  },
  {
   "cell_type": "code",
   "execution_count": 13,
   "metadata": {
    "collapsed": true
   },
   "outputs": [],
   "source": [
    "features_b = ['povpct', 'dm_prev_adj', 'no_hsdip', 'prev_hd', 'bias']\n",
    "# features_b = ['dm_prev_adj', 'bias']"
   ]
  },
  {
   "cell_type": "code",
   "execution_count": 14,
   "metadata": {},
   "outputs": [
    {
     "data": {
      "text/html": [
       "<div>\n",
       "<style>\n",
       "    .dataframe thead tr:only-child th {\n",
       "        text-align: right;\n",
       "    }\n",
       "\n",
       "    .dataframe thead th {\n",
       "        text-align: left;\n",
       "    }\n",
       "\n",
       "    .dataframe tbody tr th {\n",
       "        vertical-align: top;\n",
       "    }\n",
       "</style>\n",
       "<table border=\"1\" class=\"dataframe\">\n",
       "  <thead>\n",
       "    <tr style=\"text-align: right;\">\n",
       "      <th></th>\n",
       "      <th>povpct</th>\n",
       "      <th>dm_prev_adj</th>\n",
       "      <th>no_hsdip</th>\n",
       "      <th>prev_hd</th>\n",
       "      <th>bias</th>\n",
       "    </tr>\n",
       "  </thead>\n",
       "  <tbody>\n",
       "    <tr>\n",
       "      <th>count</th>\n",
       "      <td>2408.000000</td>\n",
       "      <td>2456.000000</td>\n",
       "      <td>2456.000000</td>\n",
       "      <td>2455.000000</td>\n",
       "      <td>2456.0</td>\n",
       "    </tr>\n",
       "    <tr>\n",
       "      <th>mean</th>\n",
       "      <td>16.960382</td>\n",
       "      <td>9.951140</td>\n",
       "      <td>15.361726</td>\n",
       "      <td>19.413198</td>\n",
       "      <td>1.0</td>\n",
       "    </tr>\n",
       "    <tr>\n",
       "      <th>std</th>\n",
       "      <td>6.189771</td>\n",
       "      <td>2.220911</td>\n",
       "      <td>6.845455</td>\n",
       "      <td>2.489233</td>\n",
       "      <td>0.0</td>\n",
       "    </tr>\n",
       "    <tr>\n",
       "      <th>min</th>\n",
       "      <td>3.200000</td>\n",
       "      <td>3.800000</td>\n",
       "      <td>2.500000</td>\n",
       "      <td>11.100000</td>\n",
       "      <td>1.0</td>\n",
       "    </tr>\n",
       "    <tr>\n",
       "      <th>25%</th>\n",
       "      <td>12.500000</td>\n",
       "      <td>8.400000</td>\n",
       "      <td>10.200000</td>\n",
       "      <td>17.800000</td>\n",
       "      <td>1.0</td>\n",
       "    </tr>\n",
       "    <tr>\n",
       "      <th>50%</th>\n",
       "      <td>16.300000</td>\n",
       "      <td>9.600000</td>\n",
       "      <td>14.100000</td>\n",
       "      <td>19.400000</td>\n",
       "      <td>1.0</td>\n",
       "    </tr>\n",
       "    <tr>\n",
       "      <th>75%</th>\n",
       "      <td>20.500000</td>\n",
       "      <td>11.400000</td>\n",
       "      <td>19.700000</td>\n",
       "      <td>21.000000</td>\n",
       "      <td>1.0</td>\n",
       "    </tr>\n",
       "    <tr>\n",
       "      <th>max</th>\n",
       "      <td>52.200000</td>\n",
       "      <td>19.400000</td>\n",
       "      <td>53.200000</td>\n",
       "      <td>29.800000</td>\n",
       "      <td>1.0</td>\n",
       "    </tr>\n",
       "  </tbody>\n",
       "</table>\n",
       "</div>"
      ],
      "text/plain": [
       "            povpct  dm_prev_adj     no_hsdip      prev_hd    bias\n",
       "count  2408.000000  2456.000000  2456.000000  2455.000000  2456.0\n",
       "mean     16.960382     9.951140    15.361726    19.413198     1.0\n",
       "std       6.189771     2.220911     6.845455     2.489233     0.0\n",
       "min       3.200000     3.800000     2.500000    11.100000     1.0\n",
       "25%      12.500000     8.400000    10.200000    17.800000     1.0\n",
       "50%      16.300000     9.600000    14.100000    19.400000     1.0\n",
       "75%      20.500000    11.400000    19.700000    21.000000     1.0\n",
       "max      52.200000    19.400000    53.200000    29.800000     1.0"
      ]
     },
     "execution_count": 14,
     "metadata": {},
     "output_type": "execute_result"
    }
   ],
   "source": [
    "df[features_b].describe()"
   ]
  },
  {
   "cell_type": "code",
   "execution_count": 15,
   "metadata": {},
   "outputs": [
    {
     "name": "stdout",
     "output_type": "stream",
     "text": [
      "(2456, 5) (2456,)\n"
     ]
    },
    {
     "data": {
      "text/html": [
       "<table class=\"simpletable\">\n",
       "<caption>OLS Regression Results</caption>\n",
       "<tr>\n",
       "  <th>Dep. Variable:</th>        <td>cvd_hosp</td>     <th>  R-squared:         </th> <td>   0.517</td>\n",
       "</tr>\n",
       "<tr>\n",
       "  <th>Model:</th>                   <td>OLS</td>       <th>  Adj. R-squared:    </th> <td>   0.516</td>\n",
       "</tr>\n",
       "<tr>\n",
       "  <th>Method:</th>             <td>Least Squares</td>  <th>  F-statistic:       </th> <td>   656.1</td>\n",
       "</tr>\n",
       "<tr>\n",
       "  <th>Date:</th>             <td>Sat, 23 Sep 2017</td> <th>  Prob (F-statistic):</th>  <td>  0.00</td> \n",
       "</tr>\n",
       "<tr>\n",
       "  <th>Time:</th>                 <td>20:23:07</td>     <th>  Log-Likelihood:    </th> <td>  365.60</td>\n",
       "</tr>\n",
       "<tr>\n",
       "  <th>No. Observations:</th>      <td>  2456</td>      <th>  AIC:               </th> <td>  -721.2</td>\n",
       "</tr>\n",
       "<tr>\n",
       "  <th>Df Residuals:</th>          <td>  2451</td>      <th>  BIC:               </th> <td>  -692.2</td>\n",
       "</tr>\n",
       "<tr>\n",
       "  <th>Df Model:</th>              <td>     4</td>      <th>                     </th>     <td> </td>   \n",
       "</tr>\n",
       "<tr>\n",
       "  <th>Covariance Type:</th>      <td>nonrobust</td>    <th>                     </th>     <td> </td>   \n",
       "</tr>\n",
       "</table>\n",
       "<table class=\"simpletable\">\n",
       "<tr>\n",
       "       <td></td>          <th>coef</th>     <th>std err</th>      <th>t</th>      <th>P>|t|</th>  <th>[0.025</th>    <th>0.975]</th>  \n",
       "</tr>\n",
       "<tr>\n",
       "  <th>povpct</th>      <td>    0.0029</td> <td>    0.001</td> <td>    3.047</td> <td> 0.002</td> <td>    0.001</td> <td>    0.005</td>\n",
       "</tr>\n",
       "<tr>\n",
       "  <th>dm_prev_adj</th> <td>    0.0292</td> <td>    0.003</td> <td>   11.450</td> <td> 0.000</td> <td>    0.024</td> <td>    0.034</td>\n",
       "</tr>\n",
       "<tr>\n",
       "  <th>no_hsdip</th>    <td>    0.0018</td> <td>    0.001</td> <td>    2.007</td> <td> 0.045</td> <td> 4.01e-05</td> <td>    0.003</td>\n",
       "</tr>\n",
       "<tr>\n",
       "  <th>prev_hd</th>     <td>    0.0679</td> <td>    0.002</td> <td>   37.037</td> <td> 0.000</td> <td>    0.064</td> <td>    0.071</td>\n",
       "</tr>\n",
       "<tr>\n",
       "  <th>bias</th>        <td>   -4.3963</td> <td>    0.034</td> <td> -129.376</td> <td> 0.000</td> <td>   -4.463</td> <td>   -4.330</td>\n",
       "</tr>\n",
       "</table>\n",
       "<table class=\"simpletable\">\n",
       "<tr>\n",
       "  <th>Omnibus:</th>       <td>241.401</td> <th>  Durbin-Watson:     </th> <td>   1.683</td>\n",
       "</tr>\n",
       "<tr>\n",
       "  <th>Prob(Omnibus):</th> <td> 0.000</td>  <th>  Jarque-Bera (JB):  </th> <td> 393.744</td>\n",
       "</tr>\n",
       "<tr>\n",
       "  <th>Skew:</th>          <td>-0.703</td>  <th>  Prob(JB):          </th> <td>3.16e-86</td>\n",
       "</tr>\n",
       "<tr>\n",
       "  <th>Kurtosis:</th>      <td> 4.369</td>  <th>  Cond. No.          </th> <td>    262.</td>\n",
       "</tr>\n",
       "</table>"
      ],
      "text/plain": [
       "<class 'statsmodels.iolib.summary.Summary'>\n",
       "\"\"\"\n",
       "                            OLS Regression Results                            \n",
       "==============================================================================\n",
       "Dep. Variable:               cvd_hosp   R-squared:                       0.517\n",
       "Model:                            OLS   Adj. R-squared:                  0.516\n",
       "Method:                 Least Squares   F-statistic:                     656.1\n",
       "Date:                Sat, 23 Sep 2017   Prob (F-statistic):               0.00\n",
       "Time:                        20:23:07   Log-Likelihood:                 365.60\n",
       "No. Observations:                2456   AIC:                            -721.2\n",
       "Df Residuals:                    2451   BIC:                            -692.2\n",
       "Df Model:                           4                                         \n",
       "Covariance Type:            nonrobust                                         \n",
       "===============================================================================\n",
       "                  coef    std err          t      P>|t|      [0.025      0.975]\n",
       "-------------------------------------------------------------------------------\n",
       "povpct          0.0029      0.001      3.047      0.002       0.001       0.005\n",
       "dm_prev_adj     0.0292      0.003     11.450      0.000       0.024       0.034\n",
       "no_hsdip        0.0018      0.001      2.007      0.045    4.01e-05       0.003\n",
       "prev_hd         0.0679      0.002     37.037      0.000       0.064       0.071\n",
       "bias           -4.3963      0.034   -129.376      0.000      -4.463      -4.330\n",
       "==============================================================================\n",
       "Omnibus:                      241.401   Durbin-Watson:                   1.683\n",
       "Prob(Omnibus):                  0.000   Jarque-Bera (JB):              393.744\n",
       "Skew:                          -0.703   Prob(JB):                     3.16e-86\n",
       "Kurtosis:                       4.369   Cond. No.                         262.\n",
       "==============================================================================\n",
       "\n",
       "Warnings:\n",
       "[1] Standard Errors assume that the covariance matrix of the errors is correctly specified.\n",
       "\"\"\""
      ]
     },
     "execution_count": 15,
     "metadata": {},
     "output_type": "execute_result"
    }
   ],
   "source": [
    "imputer = Imputer(strategy='mean')\n",
    "\n",
    "X2 = df[features_b].values \n",
    "X2 = imputer.fit_transform(X2)\n",
    "\n",
    "y2 = logit(df.hosp_total_cvd / 1000).values\n",
    "\n",
    "print X2.shape, y2.shape\n",
    "\n",
    "results2 = smf.OLS(y2, X2).fit()\n",
    "results2.summary(xname=features_b, yname='cvd_hosp')"
   ]
  },
  {
   "cell_type": "code",
   "execution_count": 159,
   "metadata": {},
   "outputs": [
    {
     "data": {
      "text/plain": [
       "povpct         16.960382\n",
       "dm_prev_adj     9.951140\n",
       "no_hsdip       15.361726\n",
       "prev_hd        19.413198\n",
       "bias            1.000000\n",
       "dtype: float64"
      ]
     },
     "execution_count": 159,
     "metadata": {},
     "output_type": "execute_result"
    }
   ],
   "source": [
    "df[features_b].mean()"
   ]
  },
  {
   "cell_type": "code",
   "execution_count": 160,
   "metadata": {},
   "outputs": [
    {
     "data": {
      "text/html": [
       "<div>\n",
       "<style>\n",
       "    .dataframe thead tr:only-child th {\n",
       "        text-align: right;\n",
       "    }\n",
       "\n",
       "    .dataframe thead th {\n",
       "        text-align: left;\n",
       "    }\n",
       "\n",
       "    .dataframe tbody tr th {\n",
       "        vertical-align: top;\n",
       "    }\n",
       "</style>\n",
       "<table border=\"1\" class=\"dataframe\">\n",
       "  <thead>\n",
       "    <tr style=\"text-align: right;\">\n",
       "      <th></th>\n",
       "      <th>povpct</th>\n",
       "      <th>dm_prev_adj</th>\n",
       "      <th>no_hsdip</th>\n",
       "      <th>prev_hd</th>\n",
       "      <th>bias</th>\n",
       "    </tr>\n",
       "  </thead>\n",
       "  <tbody>\n",
       "    <tr>\n",
       "      <th>count</th>\n",
       "      <td>2408.000000</td>\n",
       "      <td>2456.000000</td>\n",
       "      <td>2456.000000</td>\n",
       "      <td>2455.000000</td>\n",
       "      <td>2456.0</td>\n",
       "    </tr>\n",
       "    <tr>\n",
       "      <th>mean</th>\n",
       "      <td>16.960382</td>\n",
       "      <td>9.951140</td>\n",
       "      <td>15.361726</td>\n",
       "      <td>19.413198</td>\n",
       "      <td>1.0</td>\n",
       "    </tr>\n",
       "    <tr>\n",
       "      <th>std</th>\n",
       "      <td>6.189771</td>\n",
       "      <td>2.220911</td>\n",
       "      <td>6.845455</td>\n",
       "      <td>2.489233</td>\n",
       "      <td>0.0</td>\n",
       "    </tr>\n",
       "    <tr>\n",
       "      <th>min</th>\n",
       "      <td>3.200000</td>\n",
       "      <td>3.800000</td>\n",
       "      <td>2.500000</td>\n",
       "      <td>11.100000</td>\n",
       "      <td>1.0</td>\n",
       "    </tr>\n",
       "    <tr>\n",
       "      <th>25%</th>\n",
       "      <td>12.500000</td>\n",
       "      <td>8.400000</td>\n",
       "      <td>10.200000</td>\n",
       "      <td>17.800000</td>\n",
       "      <td>1.0</td>\n",
       "    </tr>\n",
       "    <tr>\n",
       "      <th>50%</th>\n",
       "      <td>16.300000</td>\n",
       "      <td>9.600000</td>\n",
       "      <td>14.100000</td>\n",
       "      <td>19.400000</td>\n",
       "      <td>1.0</td>\n",
       "    </tr>\n",
       "    <tr>\n",
       "      <th>75%</th>\n",
       "      <td>20.500000</td>\n",
       "      <td>11.400000</td>\n",
       "      <td>19.700000</td>\n",
       "      <td>21.000000</td>\n",
       "      <td>1.0</td>\n",
       "    </tr>\n",
       "    <tr>\n",
       "      <th>max</th>\n",
       "      <td>52.200000</td>\n",
       "      <td>19.400000</td>\n",
       "      <td>53.200000</td>\n",
       "      <td>29.800000</td>\n",
       "      <td>1.0</td>\n",
       "    </tr>\n",
       "  </tbody>\n",
       "</table>\n",
       "</div>"
      ],
      "text/plain": [
       "            povpct  dm_prev_adj     no_hsdip      prev_hd    bias\n",
       "count  2408.000000  2456.000000  2456.000000  2455.000000  2456.0\n",
       "mean     16.960382     9.951140    15.361726    19.413198     1.0\n",
       "std       6.189771     2.220911     6.845455     2.489233     0.0\n",
       "min       3.200000     3.800000     2.500000    11.100000     1.0\n",
       "25%      12.500000     8.400000    10.200000    17.800000     1.0\n",
       "50%      16.300000     9.600000    14.100000    19.400000     1.0\n",
       "75%      20.500000    11.400000    19.700000    21.000000     1.0\n",
       "max      52.200000    19.400000    53.200000    29.800000     1.0"
      ]
     },
     "execution_count": 160,
     "metadata": {},
     "output_type": "execute_result"
    }
   ],
   "source": [
    "df[features_b].describe()"
   ]
  },
  {
   "cell_type": "code",
   "execution_count": 17,
   "metadata": {},
   "outputs": [
    {
     "data": {
      "text/html": [
       "<div>\n",
       "<style>\n",
       "    .dataframe thead tr:only-child th {\n",
       "        text-align: right;\n",
       "    }\n",
       "\n",
       "    .dataframe thead th {\n",
       "        text-align: left;\n",
       "    }\n",
       "\n",
       "    .dataframe tbody tr th {\n",
       "        vertical-align: top;\n",
       "    }\n",
       "</style>\n",
       "<table border=\"1\" class=\"dataframe\">\n",
       "  <thead>\n",
       "    <tr style=\"text-align: right;\">\n",
       "      <th></th>\n",
       "      <th>low</th>\n",
       "      <th>high</th>\n",
       "      <th>coef</th>\n",
       "    </tr>\n",
       "  </thead>\n",
       "  <tbody>\n",
       "    <tr>\n",
       "      <th>povpct</th>\n",
       "      <td>0.001045</td>\n",
       "      <td>0.004819</td>\n",
       "      <td>0.002932</td>\n",
       "    </tr>\n",
       "    <tr>\n",
       "      <th>dm_prev_adj</th>\n",
       "      <td>0.024176</td>\n",
       "      <td>0.034168</td>\n",
       "      <td>0.029172</td>\n",
       "    </tr>\n",
       "    <tr>\n",
       "      <th>no_hsdip</th>\n",
       "      <td>0.000040</td>\n",
       "      <td>0.003464</td>\n",
       "      <td>0.001752</td>\n",
       "    </tr>\n",
       "    <tr>\n",
       "      <th>prev_hd</th>\n",
       "      <td>0.064278</td>\n",
       "      <td>0.071465</td>\n",
       "      <td>0.067872</td>\n",
       "    </tr>\n",
       "    <tr>\n",
       "      <th>bias</th>\n",
       "      <td>-4.462970</td>\n",
       "      <td>-4.329700</td>\n",
       "      <td>-4.396335</td>\n",
       "    </tr>\n",
       "  </tbody>\n",
       "</table>\n",
       "</div>"
      ],
      "text/plain": [
       "                  low      high      coef\n",
       "povpct       0.001045  0.004819  0.002932\n",
       "dm_prev_adj  0.024176  0.034168  0.029172\n",
       "no_hsdip     0.000040  0.003464  0.001752\n",
       "prev_hd      0.064278  0.071465  0.067872\n",
       "bias        -4.462970 -4.329700 -4.396335"
      ]
     },
     "execution_count": 17,
     "metadata": {},
     "output_type": "execute_result"
    },
    {
     "name": "stdout",
     "output_type": "stream",
     "text": [
      "\n"
     ]
    }
   ],
   "source": [
    "confs_ = pd.DataFrame(results2.conf_int(), index=features_b, columns=('low', 'high'))\n",
    "confs_['coef'] = pd.Series(results2.params, index=features_b)\n",
    "confs_"
   ]
  },
  {
   "cell_type": "code",
   "execution_count": 18,
   "metadata": {
    "collapsed": true
   },
   "outputs": [],
   "source": [
    "confs_.to_pickle('/Users/roee/work/cdc/output/linear_regression_1.pickle')"
   ]
  },
  {
   "cell_type": "code",
   "execution_count": 19,
   "metadata": {},
   "outputs": [],
   "source": [
    "df[features_b].mean().to_pickle('/Users/roee/work/cdc/output/counties_mean.pickle')"
   ]
  },
  {
   "cell_type": "code",
   "execution_count": 20,
   "metadata": {},
   "outputs": [
    {
     "name": "stdout",
     "output_type": "stream",
     "text": [
      "for an average county 0.0622813892511\n"
     ]
    }
   ],
   "source": [
    "print 'for an average county', expit((confs_.coef * df[features_b].mean()).sum())"
   ]
  },
  {
   "cell_type": "code",
   "execution_count": 21,
   "metadata": {},
   "outputs": [
    {
     "data": {
      "text/plain": [
       "0.012172429053750296"
      ]
     },
     "execution_count": 21,
     "metadata": {},
     "output_type": "execute_result"
    }
   ],
   "source": [
    "expit(confs_.loc['bias', 'coef'])"
   ]
  },
  {
   "cell_type": "code",
   "execution_count": 22,
   "metadata": {},
   "outputs": [
    {
     "data": {
      "text/plain": [
       "0.013458338310919617"
      ]
     },
     "execution_count": 22,
     "metadata": {},
     "output_type": "execute_result"
    }
   ],
   "source": [
    "expit(confs_.coef.sum())"
   ]
  },
  {
   "cell_type": "code",
   "execution_count": 23,
   "metadata": {},
   "outputs": [
    {
     "data": {
      "text/plain": [
       "-2.6746737203330668"
      ]
     },
     "execution_count": 23,
     "metadata": {},
     "output_type": "execute_result"
    }
   ],
   "source": [
    "logit(df.hosp_total_cvd.mean() / 1000)"
   ]
  },
  {
   "cell_type": "code",
   "execution_count": 27,
   "metadata": {},
   "outputs": [],
   "source": [
    "# for reference in confs_.index:\n",
    "#     if reference == 'bias':\n",
    "#         continue\n",
    "#     bias = confs_.loc['bias', 'coef']\n",
    "#     positives = confs_[confs_.coef > 0].index.values\n",
    "#     positives = set(positives).difference(('bias', reference))\n",
    "#     negatives = confs_[confs_.coef < 0].index.values\n",
    "#     negatives = set(negatives).difference(('bias', reference))\n",
    "    \n",
    "#     highest_with = expit(sum(confs_.loc[positives, 'coef']) + \\\n",
    "#                     confs_.loc[reference, 'coef'] + bias)\n",
    "#     highest_without = expit(sum(confs_.loc[positives, 'coef']) + bias)\n",
    "    \n",
    "#     lowest_with = expit(sum(confs_.loc[negatives, 'coef']) + \\\n",
    "#                         confs_.loc[reference, 'coef'] + bias)\n",
    "#     lowest_without = expit(sum(confs_.loc[negatives, 'coef']) + bias)\n",
    " \n",
    "#     print reference\n",
    "#     print '{:.2f}% difference ({:.2f}%, {:.2f}%) between {} + itself versus those without it'.format(\n",
    "#         100.0 * (highest_with - highest_without), 100 * highest_with, 100 * highest_without, list(positives))\n",
    "#     print '{:.2f}% difference ({:.2f}%, {:.2f}%) between {} + itself versus those without it'.format(\n",
    "#         100.0 * (lowest_with - lowest_without), 100 * lowest_with, 100 * lowest_without, list(negatives))\n",
    "#     print"
   ]
  },
  {
   "cell_type": "code",
   "execution_count": 40,
   "metadata": {},
   "outputs": [
    {
     "data": {
      "text/plain": [
       "63.970480731028999"
      ]
     },
     "execution_count": 40,
     "metadata": {},
     "output_type": "execute_result"
    }
   ],
   "source": [
    "df.hosp_total_cvd.mean()"
   ]
  },
  {
   "cell_type": "code",
   "execution_count": 41,
   "metadata": {},
   "outputs": [
    {
     "data": {
      "text/plain": [
       "<matplotlib.axes._subplots.AxesSubplot at 0x10acf9710>"
      ]
     },
     "execution_count": 41,
     "metadata": {},
     "output_type": "execute_result"
    },
    {
     "data": {
      "image/png": "[encoded data removed]",
      "text/plain": [
       "<matplotlib.figure.Figure at 0x10a4c6790>"
      ]
     },
     "metadata": {},
     "output_type": "display_data"
    }
   ],
   "source": [
    "df.plot.scatter(x='hosp_total_cvd', y='dm_prev_adj')"
   ]
  },
  {
   "cell_type": "markdown",
   "metadata": {},
   "source": [
    "# Ok, down to business"
   ]
  },
  {
   "cell_type": "code",
   "execution_count": 24,
   "metadata": {
    "scrolled": true
   },
   "outputs": [
    {
     "name": "stdout",
     "output_type": "stream",
     "text": [
      "county_name\n",
      "65_plus_percent\n",
      "hosp_acute_mi\n",
      "hosp_all_stroke\n",
      "hosp_cardiac_dysrhythmia\n",
      "hosp_coronary_heart_disease\n",
      "hosp_heart_failure\n",
      "hosp_hemorrhagic_stroke\n",
      "hosp_hypertension\n",
      "hosp_ischemic_stroke\n",
      "hosp_total_cvd\n",
      "hosp_total_heart_disease\n",
      "total_population\n",
      "dm_prev_adj\n",
      "ob_prev_adj\n",
      "ltpia_prev_adj\n",
      "no_hsdip\n",
      "no_college\n",
      "female_hd\n",
      "foodstmp\n",
      "home_val\n",
      "income\n",
      "GINI\n",
      "povpct\n",
      "unemploy\n",
      "perc_aian\n",
      "perc_api\n",
      "perc_black\n",
      "perc_white\n",
      "perc_hisp\n",
      "airqual\n",
      "PARKS\n",
      "sev_housing\n",
      "NCHS_collapse\n",
      "htnadh_all\n",
      "htnadh_white\n",
      "htnadh_black\n",
      "htnadh_api\n",
      "htnadh_aian\n",
      "htnadh_hisp\n",
      "diuradh\n",
      "rasadh\n",
      "stg_hosp\n",
      "stg_int_cr\n",
      "stg_rehab\n",
      "stg_emerg\n",
      "stg_neuro\n",
      "pharmpc\n",
      "prim_dr\n",
      "cvd_dr\n",
      "neuro_dr\n",
      "surg_dr\n",
      "pctui\n",
      "medicaid\n",
      "total_cost\n",
      "inp_cost\n",
      "ou_cost\n",
      "pac_cost\n",
      "total_inc\n",
      "inp_inc\n",
      "ou_inc\n",
      "pac_inc\n",
      "prev_hd\n",
      "bias\n"
     ]
    }
   ],
   "source": [
    "print '\\n'.join(df.columns)"
   ]
  },
  {
   "cell_type": "code",
   "execution_count": 73,
   "metadata": {
    "collapsed": true
   },
   "outputs": [],
   "source": [
    "groups = [['no_hsdip', 'no_college'], \n",
    "          ['foodstmp', 'povpct', 'unemploy'], \n",
    "          ['dm_prev_adj', 'ob_prev_adj', 'ltpia_prev_adj'],\n",
    "         ['prev_hd'],\n",
    "         ['bias']]"
   ]
  },
  {
   "cell_type": "code",
   "execution_count": 66,
   "metadata": {
    "collapsed": true
   },
   "outputs": [],
   "source": [
    "from itertools import product"
   ]
  },
  {
   "cell_type": "code",
   "execution_count": 74,
   "metadata": {},
   "outputs": [
    {
     "data": {
      "text/plain": [
       "[('no_hsdip', 'foodstmp', 'dm_prev_adj', 'prev_hd', 'bias'),\n",
       " ('no_hsdip', 'foodstmp', 'ob_prev_adj', 'prev_hd', 'bias'),\n",
       " ('no_hsdip', 'foodstmp', 'ltpia_prev_adj', 'prev_hd', 'bias'),\n",
       " ('no_hsdip', 'povpct', 'dm_prev_adj', 'prev_hd', 'bias'),\n",
       " ('no_hsdip', 'povpct', 'ob_prev_adj', 'prev_hd', 'bias'),\n",
       " ('no_hsdip', 'povpct', 'ltpia_prev_adj', 'prev_hd', 'bias'),\n",
       " ('no_hsdip', 'unemploy', 'dm_prev_adj', 'prev_hd', 'bias'),\n",
       " ('no_hsdip', 'unemploy', 'ob_prev_adj', 'prev_hd', 'bias'),\n",
       " ('no_hsdip', 'unemploy', 'ltpia_prev_adj', 'prev_hd', 'bias'),\n",
       " ('no_college', 'foodstmp', 'dm_prev_adj', 'prev_hd', 'bias'),\n",
       " ('no_college', 'foodstmp', 'ob_prev_adj', 'prev_hd', 'bias'),\n",
       " ('no_college', 'foodstmp', 'ltpia_prev_adj', 'prev_hd', 'bias'),\n",
       " ('no_college', 'povpct', 'dm_prev_adj', 'prev_hd', 'bias'),\n",
       " ('no_college', 'povpct', 'ob_prev_adj', 'prev_hd', 'bias'),\n",
       " ('no_college', 'povpct', 'ltpia_prev_adj', 'prev_hd', 'bias'),\n",
       " ('no_college', 'unemploy', 'dm_prev_adj', 'prev_hd', 'bias'),\n",
       " ('no_college', 'unemploy', 'ob_prev_adj', 'prev_hd', 'bias'),\n",
       " ('no_college', 'unemploy', 'ltpia_prev_adj', 'prev_hd', 'bias')]"
      ]
     },
     "execution_count": 74,
     "metadata": {},
     "output_type": "execute_result"
    }
   ],
   "source": [
    "list(product(*groups))"
   ]
  },
  {
   "cell_type": "code",
   "execution_count": 75,
   "metadata": {
    "collapsed": true
   },
   "outputs": [],
   "source": [
    "imputer = Imputer(strategy='mean')"
   ]
  },
  {
   "cell_type": "code",
   "execution_count": 76,
   "metadata": {},
   "outputs": [],
   "source": [
    "confs = []\n",
    "for feature_list in product(*groups):\n",
    "    X2 = df[list(feature_list)].values \n",
    "    X2 = imputer.fit_transform(X2)\n",
    "\n",
    "    y2 = logit(df.hosp_total_cvd / 1000).values\n",
    "\n",
    "    results2 = smf.OLS(y2, X2).fit()\n",
    "    confs_ = pd.DataFrame(results2.conf_int(), index=feature_list, columns=('low', 'high'))\n",
    "    confs_['coef'] = pd.Series(results2.params, index=feature_list)\n",
    "    confs.append(confs_)"
   ]
  },
  {
   "cell_type": "code",
   "execution_count": 77,
   "metadata": {},
   "outputs": [
    {
     "data": {
      "text/plain": [
       "18"
      ]
     },
     "execution_count": 77,
     "metadata": {},
     "output_type": "execute_result"
    }
   ],
   "source": [
    "len(confs)"
   ]
  },
  {
   "cell_type": "code",
   "execution_count": 31,
   "metadata": {},
   "outputs": [
    {
     "data": {
      "text/html": [
       "<div>\n",
       "<style>\n",
       "    .dataframe thead tr:only-child th {\n",
       "        text-align: right;\n",
       "    }\n",
       "\n",
       "    .dataframe thead th {\n",
       "        text-align: left;\n",
       "    }\n",
       "\n",
       "    .dataframe tbody tr th {\n",
       "        vertical-align: top;\n",
       "    }\n",
       "</style>\n",
       "<table border=\"1\" class=\"dataframe\">\n",
       "  <thead>\n",
       "    <tr style=\"text-align: right;\">\n",
       "      <th></th>\n",
       "      <th>low</th>\n",
       "      <th>high</th>\n",
       "      <th>coef</th>\n",
       "    </tr>\n",
       "  </thead>\n",
       "  <tbody>\n",
       "    <tr>\n",
       "      <th>no_hsdip</th>\n",
       "      <td>-0.000799</td>\n",
       "      <td>0.002491</td>\n",
       "      <td>0.000846</td>\n",
       "    </tr>\n",
       "    <tr>\n",
       "      <th>foodstmp</th>\n",
       "      <td>0.003376</td>\n",
       "      <td>0.006611</td>\n",
       "      <td>0.004993</td>\n",
       "    </tr>\n",
       "    <tr>\n",
       "      <th>dm_prev_adj</th>\n",
       "      <td>0.020883</td>\n",
       "      <td>0.031044</td>\n",
       "      <td>0.025963</td>\n",
       "    </tr>\n",
       "    <tr>\n",
       "      <th>prev_hd</th>\n",
       "      <td>0.063792</td>\n",
       "      <td>0.070949</td>\n",
       "      <td>0.067371</td>\n",
       "    </tr>\n",
       "    <tr>\n",
       "      <th>bias</th>\n",
       "      <td>-4.440660</td>\n",
       "      <td>-4.307744</td>\n",
       "      <td>-4.374202</td>\n",
       "    </tr>\n",
       "  </tbody>\n",
       "</table>\n",
       "</div>"
      ],
      "text/plain": [
       "                  low      high      coef\n",
       "no_hsdip    -0.000799  0.002491  0.000846\n",
       "foodstmp     0.003376  0.006611  0.004993\n",
       "dm_prev_adj  0.020883  0.031044  0.025963\n",
       "prev_hd      0.063792  0.070949  0.067371\n",
       "bias        -4.440660 -4.307744 -4.374202"
      ]
     },
     "execution_count": 31,
     "metadata": {},
     "output_type": "execute_result"
    }
   ],
   "source": [
    "confs[0]"
   ]
  },
  {
   "cell_type": "code",
   "execution_count": 32,
   "metadata": {
    "collapsed": true
   },
   "outputs": [],
   "source": [
    "means = df"
   ]
  },
  {
   "cell_type": "code",
   "execution_count": 33,
   "metadata": {},
   "outputs": [],
   "source": [
    "res = pd.concat(confs, axis=0, join='outer')"
   ]
  },
  {
   "cell_type": "code",
   "execution_count": 34,
   "metadata": {},
   "outputs": [],
   "source": [
    "final = pd.DataFrame(index=res.index.unique())\n",
    "final['mean'] = res.groupby(level=0).mean().coef\n",
    "final['std'] = res.groupby(level=0).std().coef"
   ]
  },
  {
   "cell_type": "code",
   "execution_count": 35,
   "metadata": {},
   "outputs": [
    {
     "data": {
      "text/html": [
       "<div>\n",
       "<style>\n",
       "    .dataframe thead tr:only-child th {\n",
       "        text-align: right;\n",
       "    }\n",
       "\n",
       "    .dataframe thead th {\n",
       "        text-align: left;\n",
       "    }\n",
       "\n",
       "    .dataframe tbody tr th {\n",
       "        vertical-align: top;\n",
       "    }\n",
       "</style>\n",
       "<table border=\"1\" class=\"dataframe\">\n",
       "  <thead>\n",
       "    <tr style=\"text-align: right;\">\n",
       "      <th></th>\n",
       "      <th>mean</th>\n",
       "      <th>std</th>\n",
       "    </tr>\n",
       "  </thead>\n",
       "  <tbody>\n",
       "    <tr>\n",
       "      <th>no_hsdip</th>\n",
       "      <td>0.002524</td>\n",
       "      <td>0.001290</td>\n",
       "    </tr>\n",
       "    <tr>\n",
       "      <th>foodstmp</th>\n",
       "      <td>0.006207</td>\n",
       "      <td>0.001113</td>\n",
       "    </tr>\n",
       "    <tr>\n",
       "      <th>dm_prev_adj</th>\n",
       "      <td>0.029706</td>\n",
       "      <td>0.002968</td>\n",
       "    </tr>\n",
       "    <tr>\n",
       "      <th>prev_hd</th>\n",
       "      <td>0.067405</td>\n",
       "      <td>0.002143</td>\n",
       "    </tr>\n",
       "    <tr>\n",
       "      <th>bias</th>\n",
       "      <td>-4.397277</td>\n",
       "      <td>0.074401</td>\n",
       "    </tr>\n",
       "    <tr>\n",
       "      <th>ob_prev_adj</th>\n",
       "      <td>0.009933</td>\n",
       "      <td>0.001427</td>\n",
       "    </tr>\n",
       "    <tr>\n",
       "      <th>ltpia_prev_adj</th>\n",
       "      <td>0.013297</td>\n",
       "      <td>0.001697</td>\n",
       "    </tr>\n",
       "    <tr>\n",
       "      <th>povpct</th>\n",
       "      <td>0.004395</td>\n",
       "      <td>0.001402</td>\n",
       "    </tr>\n",
       "    <tr>\n",
       "      <th>unemploy</th>\n",
       "      <td>0.007493</td>\n",
       "      <td>0.006423</td>\n",
       "    </tr>\n",
       "    <tr>\n",
       "      <th>no_college</th>\n",
       "      <td>-0.000699</td>\n",
       "      <td>0.001054</td>\n",
       "    </tr>\n",
       "  </tbody>\n",
       "</table>\n",
       "</div>"
      ],
      "text/plain": [
       "                    mean       std\n",
       "no_hsdip        0.002524  0.001290\n",
       "foodstmp        0.006207  0.001113\n",
       "dm_prev_adj     0.029706  0.002968\n",
       "prev_hd         0.067405  0.002143\n",
       "bias           -4.397277  0.074401\n",
       "ob_prev_adj     0.009933  0.001427\n",
       "ltpia_prev_adj  0.013297  0.001697\n",
       "povpct          0.004395  0.001402\n",
       "unemploy        0.007493  0.006423\n",
       "no_college     -0.000699  0.001054"
      ]
     },
     "execution_count": 35,
     "metadata": {},
     "output_type": "execute_result"
    }
   ],
   "source": [
    "final"
   ]
  },
  {
   "cell_type": "code",
   "execution_count": 36,
   "metadata": {
    "collapsed": true
   },
   "outputs": [],
   "source": [
    "x = final.drop('bias')"
   ]
  },
  {
   "cell_type": "code",
   "execution_count": 37,
   "metadata": {},
   "outputs": [
    {
     "data": {
      "text/plain": [
       "<matplotlib.text.Text at 0x10f2d5c90>"
      ]
     },
     "execution_count": 37,
     "metadata": {},
     "output_type": "execute_result"
    },
    {
     "data": {
      "image/png": "[encoded data removed]",
      "text/plain": [
       "<matplotlib.figure.Figure at 0x1098326d0>"
      ]
     },
     "metadata": {},
     "output_type": "display_data"
    }
   ],
   "source": [
    "x['mean'].plot.bar(yerr=x['std'], rot=60)\n",
    "title('Feature coefficients with std')"
   ]
  },
  {
   "cell_type": "code",
   "execution_count": 38,
   "metadata": {
    "collapsed": true
   },
   "outputs": [],
   "source": [
    "final = final.drop('unemploy')"
   ]
  },
  {
   "cell_type": "markdown",
   "metadata": {},
   "source": [
    "##### The features' mean in the counties"
   ]
  },
  {
   "cell_type": "code",
   "execution_count": 39,
   "metadata": {},
   "outputs": [
    {
     "data": {
      "text/plain": [
       "no_hsdip          14.10\n",
       "foodstmp          15.80\n",
       "dm_prev_adj        9.60\n",
       "prev_hd           19.40\n",
       "bias               1.00\n",
       "ob_prev_adj       31.20\n",
       "ltpia_prev_adj    24.70\n",
       "povpct            16.30\n",
       "no_college        81.65\n",
       "dtype: float64"
      ]
     },
     "execution_count": 39,
     "metadata": {},
     "output_type": "execute_result"
    }
   ],
   "source": [
    "county_median = df[final.index].median()\n",
    "county_median"
   ]
  },
  {
   "cell_type": "code",
   "execution_count": 40,
   "metadata": {},
   "outputs": [],
   "source": [
    "percentiles = {f:[percentile(df[~df[f].isnull()][f], p) for p in xrange(101)] for f in final.index}"
   ]
  },
  {
   "cell_type": "code",
   "execution_count": 86,
   "metadata": {},
   "outputs": [],
   "source": [
    "class LordOfRegressions(object):\n",
    "    def __init__(self, regression_results, feature_medians, feature_percentiles):\n",
    "        self._regressions = regression_results\n",
    "        self.medians = feature_medians\n",
    "        self._percentiles = feature_percentiles\n",
    "\n",
    "    def _logodds_mean_std(self, feature_values):\n",
    "        res_in_logodds = []\n",
    "        for reg_res in self._regressions:\n",
    "            features_here = reg_res.index.values\n",
    "            # the sum ignores nans (features not used in this regression)\n",
    "            res_in_logodds.append((reg_res.coef * feature_values).sum()) \n",
    "        logodds_mean = np.array(res_in_logodds).mean()\n",
    "        logodds_std = np.array(res_in_logodds).std()\n",
    "        return logodds_mean, logodds_std\n",
    "    \n",
    "    def use_all_regressions_by_percentile(self, percentiles):\n",
    "        if isinstance(percentiles, dict):\n",
    "            percentiles = pd.Series(percentiles)     \n",
    "        values = {k: self._percentiles[k][v] for k, v in percentiles.iteritems()}\n",
    "        return self.use_all_regressions(values)\n",
    "\n",
    "    def use_all_regressions(self, provided_features):\n",
    "        if isinstance(provided_features, dict):\n",
    "            provided_features = pd.Series(provided_features)\n",
    "\n",
    "        # start with the medians (bias included)\n",
    "        x = self.medians.copy()\n",
    "\n",
    "        # plug in the values for the subset of the provided features\n",
    "        for f, v in provided_features.iteritems():\n",
    "            x.loc[f] = v\n",
    "\n",
    "        # Run all the regressions with provided features\n",
    "        logodds_user_mean, logodds_user_std = self._logodds_mean_std(x)\n",
    "\n",
    "        # Run all the regressions with median values\n",
    "        logodds_median_mean, logodds_median_std = self._logodds_mean_std(self.medians)\n",
    "\n",
    "        # reference (disregard std?)\n",
    "        median_percent = expit(logodds_median_mean)\n",
    "\n",
    "        predicted_exact = expit(logodds_user_mean)\n",
    "        predicted_high = expit(logodds_user_mean + logodds_user_std)\n",
    "        predicted_low = expit(logodds_user_mean - logodds_user_std)\n",
    "\n",
    "        ratio = predicted_exact / median_percent\n",
    "        ratio_high = predicted_high / median_percent\n",
    "        ratio_low = predicted_low / median_percent\n",
    "\n",
    "        return ratio, ratio_high, ratio_low\n",
    "    \n",
    "lord_of_regressions = LordOfRegressions(confs, county_median, percentiles)"
   ]
  },
  {
   "cell_type": "code",
   "execution_count": 87,
   "metadata": {},
   "outputs": [
    {
     "data": {
      "text/plain": [
       "(1.0505517454672271, 1.1450558031427387, 0.96335554230914511)"
      ]
     },
     "execution_count": 87,
     "metadata": {},
     "output_type": "execute_result"
    }
   ],
   "source": [
    "lord_of_regressions.use_all_regressions({'povpct': percentiles['povpct'][-1]})"
   ]
  },
  {
   "cell_type": "code",
   "execution_count": 89,
   "metadata": {},
   "outputs": [
    {
     "data": {
      "text/plain": [
       "(1.0505517454672271, 1.1450558031427387, 0.96335554230914511)"
      ]
     },
     "execution_count": 89,
     "metadata": {},
     "output_type": "execute_result"
    }
   ],
   "source": [
    "lord_of_regressions.use_all_regressions_by_percentile({'povpct': 100})"
   ]
  },
  {
   "cell_type": "code",
   "execution_count": 90,
   "metadata": {
    "collapsed": true
   },
   "outputs": [],
   "source": [
    "pickle.dump(lord_of_regressions, open('/Users/roee/work/cdc/output/lord_of_regressions.pickle', 'w'))"
   ]
  },
  {
   "cell_type": "code",
   "execution_count": 64,
   "metadata": {
    "collapsed": true
   },
   "outputs": [],
   "source": [
    "pickle.dump(percentiles, open('/Users/roee/work/cdc/output/feature_percentiles.pickle', 'w'))"
   ]
  },
  {
   "cell_type": "code",
   "execution_count": null,
   "metadata": {
    "collapsed": true
   },
   "outputs": [],
   "source": []
  }
 ],
 "metadata": {
  "kernelspec": {
   "display_name": "Python 2",
   "language": "python",
   "name": "python2"
  },
  "language_info": {
   "codemirror_mode": {
    "name": "ipython",
    "version": 2
   },
   "file_extension": ".py",
   "mimetype": "text/x-python",
   "name": "python",
   "nbconvert_exporter": "python",
   "pygments_lexer": "ipython2",
   "version": "2.7.10"
  }
 },
 "nbformat": 4,
 "nbformat_minor": 2
}
